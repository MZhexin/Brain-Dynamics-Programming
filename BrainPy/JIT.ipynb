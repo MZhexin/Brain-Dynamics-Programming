{
 "cells": [
  {
   "cell_type": "code",
   "execution_count": 15,
   "metadata": {
    "collapsed": true
   },
   "outputs": [
    {
     "data": {
      "text/plain": "'\\n    JIT是一种运行计算机代码的方式，使程序在运行时而不是运行前完成编译\\n    JIT是一种动态编译的形式，允许自适应优化，开销小\\n'"
     },
     "execution_count": 15,
     "metadata": {},
     "output_type": "execute_result"
    }
   ],
   "source": [
    "# JIT编译环境下的编程基础\n",
    "'''\n",
    "    JIT是一种运行计算机代码的方式，使程序在运行时而不是运行前完成编译\n",
    "    JIT是一种动态编译的形式，允许自适应优化，开销小\n",
    "'''"
   ]
  },
  {
   "cell_type": "code",
   "execution_count": 16,
   "outputs": [],
   "source": [
    "# 导库与环境设置\n",
    "import brainpy as bp\n",
    "import brainpy.math as bm\n",
    "import numpy as np\n",
    "import matplotlib.pyplot as plt\n",
    "\n",
    "bm.set_platform('cpu')  # 新数据存储在内存中，使用CPU计算（在有相关资源时，也可以设置为GPU或TPU）"
   ],
   "metadata": {
    "collapsed": false
   }
  },
  {
   "cell_type": "code",
   "execution_count": 17,
   "outputs": [],
   "source": [
    "# 1. JIT编译加速：利用brainpy.math.jit()包装目标函数或目标类，使Python代码转换成机器码"
   ],
   "metadata": {
    "collapsed": false
   }
  },
  {
   "cell_type": "code",
   "execution_count": 18,
   "outputs": [],
   "source": [
    "# 以高斯误差线性单元（GELU）函数为例\n",
    "def gelu(x):\n",
    "    sqrt = bm.sqrt(2 / bm.pi)\n",
    "    cdf = 0.5 * (1.0 + bm.tanh(sqrt * (x + 0.044715 * (x ** 3))))\n",
    "    y = x * cdf\n",
    "    return y"
   ],
   "metadata": {
    "collapsed": false
   }
  },
  {
   "cell_type": "code",
   "execution_count": 19,
   "outputs": [
    {
     "name": "stdout",
     "output_type": "stream",
     "text": [
      "419 µs ± 39.3 µs per loop (mean ± std. dev. of 7 runs, 1,000 loops each)\n"
     ]
    }
   ],
   "source": [
    "# 不使用JIT编译，测试执行时间\n",
    "x = bm.random.random(100000)        # 定义一个有100000个元素的随机输入数组\n",
    "%timeit gelu(x)                     # 测试执行时间（注意%timeit只能在iPython环境，比如jupyter notebook下使用）"
   ],
   "metadata": {
    "collapsed": false
   }
  },
  {
   "cell_type": "code",
   "execution_count": 20,
   "outputs": [
    {
     "name": "stdout",
     "output_type": "stream",
     "text": [
      "58.9 µs ± 415 ns per loop (mean ± std. dev. of 7 runs, 10,000 loops each)\n"
     ]
    }
   ],
   "source": [
    "# 使用JIT编译，测试执行时间\n",
    "gelu_jit = bm.jit(gelu)             # 使用JIT\n",
    "%timeit gelu_jit(x)                 # 测试执行时间"
   ],
   "metadata": {
    "collapsed": false
   }
  },
  {
   "cell_type": "code",
   "execution_count": 21,
   "outputs": [
    {
     "data": {
      "text/plain": "'\\n    1. 该类对象必须是brainpy.BrainPyObject的子类；\\n    2. 动态变量必须被定义为brainpy.math.Variable\\n'"
     },
     "execution_count": 21,
     "metadata": {},
     "output_type": "execute_result"
    }
   ],
   "source": [
    "# JIT也可以编译类和对象，规则如下：\n",
    "'''\n",
    "    1. 该类对象必须是brainpy.BrainPyObject的子类；\n",
    "    2. 动态变量必须被定义为brainpy.math.Variable\n",
    "'''"
   ],
   "metadata": {
    "collapsed": false
   }
  },
  {
   "cell_type": "code",
   "execution_count": 22,
   "outputs": [],
   "source": [
    "# 以逻辑回归为例：1. 权重w需要在训练中被修改，所以定义为brainpy.math.Variable；2. 其余变量均为静态变量，因此不会改变"
   ],
   "metadata": {
    "collapsed": false
   }
  },
  {
   "cell_type": "code",
   "execution_count": 23,
   "outputs": [],
   "source": [
    "# 类继承于brainpy.BrainPyObject\n",
    "class LogisticRegression(bp.BrainPyObject):\n",
    "    def __init__(self, dimension):\n",
    "        super(LogisticRegression, self).__init__()\n",
    "\n",
    "        # 参数定义\n",
    "        self.dimension = dimension\n",
    "\n",
    "        # 动态变量\n",
    "        self.w = bm.Variable(2.0 * bm.ones(dimension) - 1.3)\n",
    "\n",
    "    def __call__(self, X, Y):\n",
    "        u = bm.dot(((1.0 / (1.0 + bm.exp(- Y * bm.dot(X, self.w))) - 1.0) * Y), X)\n",
    "        self.w.value = self.w - u   # 动态更新参数"
   ],
   "metadata": {
    "collapsed": false
   }
  },
  {
   "cell_type": "code",
   "execution_count": 24,
   "outputs": [],
   "source": [
    "# 测试时间\n",
    "import time\n",
    "\n",
    "# 创建评价标准\n",
    "def benchmark(model, points, labels, num_iter=30, name=''):\n",
    "    t0 = time.time()\n",
    "    for i in range(num_iter):\n",
    "        model(points, labels)\n",
    "\n",
    "    print(f'{name} Used Time {time.time()-t0}s')\n",
    "\n",
    "# 定义数据集和标签\n",
    "num_dim, num_points = 10, 20000000\n",
    "points = bm.random.random((num_points, num_dim))\n",
    "labels = bm.random.random(num_points)"
   ],
   "metadata": {
    "collapsed": false
   }
  },
  {
   "cell_type": "code",
   "execution_count": 25,
   "outputs": [
    {
     "name": "stdout",
     "output_type": "stream",
     "text": [
      "Logistic Regression Without JIT Used Time 6.614258766174316s\n"
     ]
    }
   ],
   "source": [
    "# 测试不使用JIT需要的时间\n",
    "lr1 = LogisticRegression(num_dim)\n",
    "benchmark(lr1, points, labels, name='Logistic Regression Without JIT')"
   ],
   "metadata": {
    "collapsed": false
   }
  },
  {
   "cell_type": "code",
   "execution_count": 26,
   "outputs": [
    {
     "name": "stdout",
     "output_type": "stream",
     "text": [
      "Logistic Regression With JIT Used Time 4.083987236022949s\n"
     ]
    }
   ],
   "source": [
    "# 测试使用JIT需要的时间\n",
    "lr2 = LogisticRegression(num_dim)\n",
    "lr2 = bm.jit(lr2)\n",
    "benchmark(lr2, points, labels, name='Logistic Regression With JIT')"
   ],
   "metadata": {
    "collapsed": false
   }
  },
  {
   "cell_type": "code",
   "execution_count": 27,
   "outputs": [],
   "source": [
    "# brainpy.Runner是模拟、训练、积分等运行器的基类\n",
    "# 在初始化时，运行器会收到名为jit的参数，默认True，表明Runner会自动编译目标工程"
   ],
   "metadata": {
    "collapsed": false
   }
  },
  {
   "cell_type": "code",
   "execution_count": 28,
   "outputs": [
    {
     "data": {
      "text/plain": "  0%|          | 0/10000 [00:00<?, ?it/s]",
      "application/vnd.jupyter.widget-view+json": {
       "version_major": 2,
       "version_minor": 0,
       "model_id": "ed8e544ac74b420d95a08e018e4e7f84"
      }
     },
     "metadata": {},
     "output_type": "display_data"
    },
    {
     "data": {
      "text/plain": "(0.5234489440917969,\n Array([[False, False, False, ..., False, False, False],\n        [False, False, False, ..., False, False, False],\n        [False, False, False, ..., False, False, False],\n        ...,\n        [False, False, False, ..., False, False, False],\n        [False, False, False, ..., False, False, False],\n        [False, False, False, ..., False, False, False]], dtype=bool))"
     },
     "execution_count": 28,
     "metadata": {},
     "output_type": "execute_result"
    }
   ],
   "source": [
    "# 以HH模型为例\n",
    "model = bp.neurons.HH(1000) # 1000个神经元的模型\n",
    "\n",
    "# jit默认设置为True\n",
    "runner1 = bp.DSRunner(target=model, inputs=('input', 10.))\n",
    "runner1(duration=1000, eval_time=True)   # 模拟1000ms"
   ],
   "metadata": {
    "collapsed": false
   }
  },
  {
   "cell_type": "code",
   "execution_count": 29,
   "outputs": [
    {
     "data": {
      "text/plain": "  0%|          | 0/10000 [00:00<?, ?it/s]",
      "application/vnd.jupyter.widget-view+json": {
       "version_major": 2,
       "version_minor": 0,
       "model_id": "3d634a3c2e8843b098042d5a9dfdb9d4"
      }
     },
     "metadata": {},
     "output_type": "display_data"
    },
    {
     "data": {
      "text/plain": "(710.564234495163,\n Array([[False, False, False, ..., False, False, False],\n        [False, False, False, ..., False, False, False],\n        [False, False, False, ..., False, False, False],\n        ...,\n        [False, False, False, ..., False, False, False],\n        [False, False, False, ..., False, False, False],\n        [False, False, False, ..., False, False, False]], dtype=bool))"
     },
     "execution_count": 29,
     "metadata": {},
     "output_type": "execute_result"
    }
   ],
   "source": [
    "# 调试程序时，需要关闭JIT加速，方法是修改jit参数为False\n",
    "runner2 = bp.DSRunner(target=model, inputs=('input', 10.), jit=False)\n",
    "runner2(duration=1000, eval_time=True)   # 模拟1000ms"
   ],
   "metadata": {
    "collapsed": false
   }
  }
 ],
 "metadata": {
  "kernelspec": {
   "display_name": "Python 3",
   "language": "python",
   "name": "python3"
  },
  "language_info": {
   "codemirror_mode": {
    "name": "ipython",
    "version": 2
   },
   "file_extension": ".py",
   "mimetype": "text/x-python",
   "name": "python",
   "nbconvert_exporter": "python",
   "pygments_lexer": "ipython2",
   "version": "2.7.6"
  }
 },
 "nbformat": 4,
 "nbformat_minor": 0
}
