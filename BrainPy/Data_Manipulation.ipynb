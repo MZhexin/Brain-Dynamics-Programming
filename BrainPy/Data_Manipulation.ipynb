{
 "cells": [
  {
   "cell_type": "code",
   "execution_count": 1,
   "metadata": {
    "collapsed": true
   },
   "outputs": [
    {
     "data": {
      "text/plain": "'\\n    特殊的数据类型：\\n    1. 数组（Array）\\n    2. 动态变量（Variable）\\n    这两种数据类型可以在多种设备（CPU、GPU、TPU）上进行计算\\n    并支持自动求梯度的功能\\n'"
     },
     "execution_count": 1,
     "metadata": {},
     "output_type": "execute_result"
    }
   ],
   "source": [
    "# 数据操作\n",
    "'''\n",
    "    特殊的数据类型：\n",
    "    1. 数组（Array）\n",
    "    2. 动态变量（Variable）\n",
    "    这两种数据类型可以在多种设备（CPU、GPU、TPU）上进行计算\n",
    "    并支持自动求梯度的功能\n",
    "'''"
   ]
  },
  {
   "cell_type": "code",
   "execution_count": 2,
   "outputs": [],
   "source": [
    "# 导库与环境设置\n",
    "import numpy as np\n",
    "import brainpy as bp\n",
    "import jax.numpy as jnp\n",
    "import brainpy.math as bm\n",
    "import matplotlib.pyplot as plt\n",
    "\n",
    "bm.set_platform('cpu')  # 新数据存储在内存中，使用CPU计算（在有相关资源时，也可以设置为GPU或TPU）"
   ],
   "metadata": {
    "collapsed": false
   }
  },
  {
   "cell_type": "code",
   "execution_count": 3,
   "outputs": [
    {
     "name": "stdout",
     "output_type": "stream",
     "text": [
      "bm_array: [0 1 2 3 4 5]\n",
      "np_array:\n"
     ]
    }
   ],
   "source": [
    "bm_array = bm.array([0, 1, 2, 3, 4, 5])     # 使用BrainPy创建数组\n",
    "np_array = np.array([0, 1, 2, 3, 4, 5])     # 使用NumPy创建数组\n",
    "\n",
    "print('bm_array: {0}'.format(bm_array))\n",
    "print('np_array:'.format(np_array))"
   ],
   "metadata": {
    "collapsed": false
   }
  },
  {
   "cell_type": "code",
   "execution_count": 4,
   "outputs": [
    {
     "data": {
      "text/plain": "'\\n    1. .ndim: 数组的轴数（维度）\\n    2. .shape: 数组的形状，用int32类型的元组表示每个维度的数组的大小，对n行m列的矩阵，形状就是(n, m)\\n    3. .size: 数组的元素数，等于各元素的积\\n    4. .dtype: 描述数组中元素类型的对象，可以使用标准的Python类型创建或指定元素类型\\n'"
     },
     "execution_count": 4,
     "metadata": {},
     "output_type": "execute_result"
    }
   ],
   "source": [
    "# bm.array()的四个参数\n",
    "'''\n",
    "    1. .ndim: 数组的轴数（维度）\n",
    "    2. .shape: 数组的形状，用int32类型的元组表示每个维度的数组的大小，对n行m列的矩阵，形状就是(n, m)\n",
    "    3. .size: 数组的元素数，等于各元素的积\n",
    "    4. .dtype: 描述数组中元素类型的对象，可以使用标准的Python类型创建或指定元素类型\n",
    "'''"
   ],
   "metadata": {
    "collapsed": false
   }
  },
  {
   "cell_type": "code",
   "execution_count": 5,
   "outputs": [
    {
     "name": "stdout",
     "output_type": "stream",
     "text": [
      "t1.ndim:3\n",
      "t1.shape:(2, 3, 4)\n",
      "t1.size:24\n",
      "t1.dytpe:int32\n"
     ]
    }
   ],
   "source": [
    "# 例子\n",
    "t1 = bm.array([[[0, 1, 2, 3], [1, 2, 3, 4], [4, 5, 6, 7]],\n",
    "               [[0, 0, 0, 0], [-1, 1, -1, 1], [2, -2, 2, -2]]])\n",
    "print('t1.ndim:{0}'.format(t1.ndim))            # 轴数\n",
    "print('t1.shape:{0}'.format(t1.shape))          # 形状\n",
    "print('t1.size:{0}'.format(t1.size))            # 元素积\n",
    "print('t1.dytpe:{0}'.format(t1.dtype))          # 数据类型"
   ],
   "metadata": {
    "collapsed": false
   }
  },
  {
   "cell_type": "code",
   "execution_count": 6,
   "outputs": [
    {
     "name": "stdout",
     "output_type": "stream",
     "text": [
      "Value of t1:\n",
      " [[[ 0  1  2  3]\n",
      "  [ 1  2  3  4]\n",
      "  [ 4  5  6  7]]\n",
      "\n",
      " [[ 0  0  0  0]\n",
      "  [-1  1 -1  1]\n",
      "  [ 2 -2  2 -2]]]\n"
     ]
    }
   ],
   "source": [
    "# 获取t1的值\n",
    "t1_value = t1.value\n",
    "print(\"Value of t1:\\n {0}\".format(t1_value))"
   ],
   "metadata": {
    "collapsed": false
   }
  },
  {
   "cell_type": "code",
   "execution_count": 7,
   "outputs": [],
   "source": [
    "# 动态变量（Variable）：随时间动态变化的数组"
   ],
   "metadata": {
    "collapsed": false
   }
  },
  {
   "cell_type": "code",
   "execution_count": 8,
   "outputs": [
    {
     "name": "stdout",
     "output_type": "stream",
     "text": [
      "Dynamic variable: [0 1 2 3]\n",
      "Value of dynamic variable: [0 1 2 3]\n"
     ]
    }
   ],
   "source": [
    "# 要将数组转换为动态变量，只需要将数组包装到brainpy.math.Variable中\n",
    "t = bm.arange(4)\n",
    "v = bm.Variable(t)\n",
    "print('Dynamic variable: {0}'.format(v))                    # 获取动态变量\n",
    "print('Value of dynamic variable: {0}'.format(v.value))     # 获取动态变量的值"
   ],
   "metadata": {
    "collapsed": false
   }
  },
  {
   "cell_type": "code",
   "execution_count": 9,
   "outputs": [
    {
     "name": "stdout",
     "output_type": "stream",
     "text": [
      "Before: [0 1 2 3]\n",
      "After: [2 3 4 5]\n"
     ]
    }
   ],
   "source": [
    "# 动态变量的更新\n",
    "v = bm.Variable(bm.arange(4))\n",
    "print('Before: {0}'.format(v))\n",
    "v = v + 2           # 开辟一个新空间来储存新结果，原来的动态变量没有发生改变（类似指针）\n",
    "print('After: {0}'.format(v))\n",
    "# 使用In-Place Updating修改动态变量内部的值"
   ],
   "metadata": {
    "collapsed": false
   }
  },
  {
   "cell_type": "code",
   "execution_count": 10,
   "outputs": [
    {
     "name": "stdout",
     "output_type": "stream",
     "text": [
      "Before: [0 1 2 3]\n",
      "After: [10  1  2  3]\n"
     ]
    }
   ],
   "source": [
    "# 1. 索引\n",
    "v = bm.Variable(bm.arange(4))\n",
    "print('Before: {0}'.format(v))\n",
    "v[0] = 10\n",
    "print('After: {0}'.format(v))"
   ],
   "metadata": {
    "collapsed": false
   }
  },
  {
   "cell_type": "code",
   "execution_count": 11,
   "outputs": [
    {
     "name": "stdout",
     "output_type": "stream",
     "text": [
      "Before: [0 1 2 3]\n",
      "After: [0 9 9 3]\n"
     ]
    }
   ],
   "source": [
    "# 2. 切片\n",
    "v = bm.Variable(bm.arange(4))\n",
    "print('Before: {0}'.format(v))\n",
    "v[1:3] = 9\n",
    "print('After: {0}'.format(v))"
   ],
   "metadata": {
    "collapsed": false
   }
  },
  {
   "cell_type": "code",
   "execution_count": 12,
   "outputs": [
    {
     "name": "stdout",
     "output_type": "stream",
     "text": [
      "Before: [0 1 2 3]\n",
      "After: [1 2 3 4]\n"
     ]
    }
   ],
   "source": [
    "# 3. 增量赋值\n",
    "v = bm.Variable(bm.arange(4))\n",
    "print('Before: {0}'.format(v))\n",
    "v += 1\n",
    "print('After: {0}'.format(v))"
   ],
   "metadata": {
    "collapsed": false
   }
  },
  {
   "cell_type": "code",
   "execution_count": 13,
   "outputs": [
    {
     "name": "stdout",
     "output_type": "stream",
     "text": [
      "Value of v: [0 1 2 3]\n"
     ]
    }
   ],
   "source": [
    "# 4. .value赋值\n",
    "v.value = bm.arange(4)\n",
    "print('Value of v: {0}'.format(v))"
   ],
   "metadata": {
    "collapsed": false
   }
  },
  {
   "cell_type": "code",
   "execution_count": 14,
   "outputs": [
    {
     "name": "stdout",
     "output_type": "stream",
     "text": [
      "<class 'brainpy.errors.MathError'> The dtype of the original data is int32, while we got float32.\n"
     ]
    }
   ],
   "source": [
    "'''\n",
    "    注意：\n",
    "    在使用新数组覆盖动态变量的数据时，\n",
    "    一定要保证数组的形状、元素类型与动态变量完全一致，\n",
    "    否则会报错\n",
    "'''\n",
    "\n",
    "# 例子\n",
    "try:\n",
    "    v.value = bm.array([1., 1., 1., 0.])        # 将float32类型数组赋给int32类型动态变量\n",
    "except Exception as e:\n",
    "    print(type(e), e)"
   ],
   "metadata": {
    "collapsed": false
   }
  },
  {
   "cell_type": "code",
   "execution_count": 15,
   "outputs": [
    {
     "name": "stdout",
     "output_type": "stream",
     "text": [
      "Value of v: [3 4 5 6]\n"
     ]
    }
   ],
   "source": [
    "# 5. .update方法（与.value类似）\n",
    "v.update(bm.array([3, 4, 5, 6]))\n",
    "print('Value of v: {0}'.format(v))"
   ],
   "metadata": {
    "collapsed": false
   }
  },
  {
   "cell_type": "code",
   "execution_count": 16,
   "outputs": [
    {
     "name": "stdout",
     "output_type": "stream",
     "text": [
      "dyn_var.shape: (1, 100)\n"
     ]
    }
   ],
   "source": [
    "# 批处理大小(Batch Size)：每次传给网络的样本数量\n",
    "# 在机器学习任务重（训练网络），用户在初始化一个动态变量时，需要声明批处理维度\n",
    "# 参数batch_axis表示数组中的批处理维度\n",
    "dyn_var = bm.Variable(bm.zeros((1, 100)), batch_axis=0)\n",
    "print('dyn_var.shape: {0}'.format(dyn_var.shape))\n",
    "\n",
    "dyn_var = bm.ones((10, 100))    # 批处理大小变为10"
   ],
   "metadata": {
    "collapsed": false
   }
  }
 ],
 "metadata": {
  "kernelspec": {
   "display_name": "Python 3",
   "language": "python",
   "name": "python3"
  },
  "language_info": {
   "codemirror_mode": {
    "name": "ipython",
    "version": 2
   },
   "file_extension": ".py",
   "mimetype": "text/x-python",
   "name": "python",
   "nbconvert_exporter": "python",
   "pygments_lexer": "ipython2",
   "version": "2.7.6"
  }
 },
 "nbformat": 4,
 "nbformat_minor": 0
}
