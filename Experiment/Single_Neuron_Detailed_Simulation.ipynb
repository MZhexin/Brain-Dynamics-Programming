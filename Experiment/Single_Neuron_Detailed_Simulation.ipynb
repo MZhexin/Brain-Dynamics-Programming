{
 "cells": [
  {
   "cell_type": "code",
   "execution_count": 1,
   "id": "1083e8fb-4824-4ad8-9986-ab37b502ba94",
   "metadata": {
    "execution": {
     "iopub.execute_input": "2023-08-01T07:47:49.918458Z",
     "iopub.status.busy": "2023-08-01T07:47:49.917963Z",
     "iopub.status.idle": "2023-08-01T07:47:49.921417Z",
     "shell.execute_reply": "2023-08-01T07:47:49.920748Z",
     "shell.execute_reply.started": "2023-08-01T07:47:49.918437Z"
    }
   },
   "outputs": [],
   "source": [
    "# 实验\n",
    "# 利用BMTK（Brain Modeling Toolkit）进行单个精细神经元的神经动力学学习及仿真\n",
    "'''\n",
    "    注意：\n",
    "    如果在设置模拟环境的步骤报错“ERROR:bmtk.utils.sim_setup:  Was unable to compile mechanism in 地址”\n",
    "    需要在命令行手动输入指令\n",
    "    因此，若遇到该情况，建议一个cell一个cell地运行程序，不建议使用RUN ALL一步到位\n",
    "'''"
   ]
  },
  {
   "cell_type": "code",
   "execution_count": 2,
   "id": "6242d614-e2e8-4f5b-9d95-e3c9abc5a619",
   "metadata": {
    "execution": {
     "iopub.execute_input": "2023-08-01T07:47:49.922335Z",
     "iopub.status.busy": "2023-08-01T07:47:49.922175Z",
     "iopub.status.idle": "2023-08-01T07:47:50.184369Z",
     "shell.execute_reply": "2023-08-01T07:47:50.183598Z",
     "shell.execute_reply.started": "2023-08-01T07:47:49.922321Z"
    },
    "tags": []
   },
   "outputs": [],
   "source": [
    "# 先删除原来的配置，以免出现问题\n",
    "! rm -r sim_ch00"
   ]
  },
  {
   "cell_type": "code",
   "execution_count": 3,
   "id": "8fa026b3-3f1b-45e9-b047-14923496b05d",
   "metadata": {
    "execution": {
     "iopub.execute_input": "2023-08-01T07:47:50.185822Z",
     "iopub.status.busy": "2023-08-01T07:47:50.185392Z",
     "iopub.status.idle": "2023-08-01T07:47:50.799596Z",
     "shell.execute_reply": "2023-08-01T07:47:50.798781Z",
     "shell.execute_reply.started": "2023-08-01T07:47:50.185801Z"
    }
   },
   "outputs": [
    {
     "name": "stdout",
     "output_type": "stream",
     "text": [
      "Success!\n"
     ]
    }
   ],
   "source": [
    "from bmtk.builder.networks import NetworkBuilder\n",
    "\n",
    "# 实例化网络，取名mcortex\n",
    "net = NetworkBuilder('mcortex')\n",
    "\n",
    "# 添加单个节点\n",
    "net.add_nodes(\n",
    "    cell_name='Pvalb_469628681',  # 细胞名称\n",
    "    potential='i',  # 电位：抑制性细胞\n",
    "    model_type='biophysical',  # 模型类型：生物物理学模型\n",
    "    model_template='ctdb:Biophys1.hoc',  # 模板文件\n",
    "    model_processing='aibs_perisomatic',  # 加载模型\n",
    "    dynamics_params='472363762_fit.json',  # 模型参数文件\n",
    "    morphology='Pvalb_469628681_m'  # 模型结构文件\n",
    ")\n",
    "\n",
    "# 打印\n",
    "print('Success!')"
   ]
  },
  {
   "cell_type": "code",
   "execution_count": 4,
   "id": "ac5cee31-becb-4856-925a-6f82890d1790",
   "metadata": {
    "execution": {
     "iopub.execute_input": "2023-08-01T07:47:50.801185Z",
     "iopub.status.busy": "2023-08-01T07:47:50.800728Z",
     "iopub.status.idle": "2023-08-01T07:47:50.810293Z",
     "shell.execute_reply": "2023-08-01T07:47:50.809736Z",
     "shell.execute_reply.started": "2023-08-01T07:47:50.801163Z"
    }
   },
   "outputs": [
    {
     "name": "stdout",
     "output_type": "stream",
     "text": [
      "Build success!\n",
      "Save success!\n"
     ]
    }
   ],
   "source": [
    "# 建立网络模型\n",
    "net.build()\n",
    "\n",
    "# 打印\n",
    "print('Build success!')\n",
    "\n",
    "# 保存网络模型的文件\n",
    "net.save_nodes(output_dir='sim_ch00/network')\n",
    "\n",
    "# 打印\n",
    "print('Save success!')"
   ]
  },
  {
   "cell_type": "code",
   "execution_count": 5,
   "id": "91f6ac3e-3735-4303-bf5b-73944104ec65",
   "metadata": {
    "execution": {
     "iopub.execute_input": "2023-08-01T07:47:50.811368Z",
     "iopub.status.busy": "2023-08-01T07:47:50.811033Z",
     "iopub.status.idle": "2023-08-01T07:47:50.814288Z",
     "shell.execute_reply": "2023-08-01T07:47:50.813748Z",
     "shell.execute_reply.started": "2023-08-01T07:47:50.811352Z"
    }
   },
   "outputs": [
    {
     "name": "stdout",
     "output_type": "stream",
     "text": [
      "{'cell_name': 'Pvalb_469628681', 'potential': 'i', 'model_type': 'biophysical', 'model_template': 'ctdb:Biophys1.hoc', 'model_processing': 'aibs_perisomatic', 'dynamics_params': '472363762_fit.json', 'morphology': 'Pvalb_469628681_m', 'node_type_id': 100, 'node_id': 0}\n",
      "Finish!\n"
     ]
    }
   ],
   "source": [
    "# 利用.nodes()方法获取模型参数\n",
    "for node in net.nodes():\n",
    "    print(node)\n",
    "\n",
    "# 打印\n",
    "print('Finish!')"
   ]
  },
  {
   "cell_type": "code",
   "execution_count": 6,
   "id": "9b78a190-70f4-4081-ba81-613475709bb0",
   "metadata": {
    "execution": {
     "iopub.execute_input": "2023-08-01T07:47:50.815315Z",
     "iopub.status.busy": "2023-08-01T07:47:50.814991Z",
     "iopub.status.idle": "2023-08-01T07:47:52.260578Z",
     "shell.execute_reply": "2023-08-01T07:47:52.259931Z",
     "shell.execute_reply.started": "2023-08-01T07:47:50.815299Z"
    },
    "tags": []
   },
   "outputs": [
    {
     "name": "stderr",
     "output_type": "stream",
     "text": [
      "ERROR:bmtk.utils.sim_setup:  Was unable to compile mechanism in E:\\Research\\Study\\Brain-Dynamics-Programming\\Experiment\\sim_ch00\\components\\mechanisms\n"
     ]
    },
    {
     "name": "stdout",
     "output_type": "stream",
     "text": [
      "Set up success!\n"
     ]
    }
   ],
   "source": [
    "from bmtk.utils.sim_setup import build_env_bionet\n",
    "\n",
    "# 设置模拟的环境\n",
    "build_env_bionet(\n",
    "    base_dir='sim_ch00',       # 脚本与配置文件夹\n",
    "    config_file='config.json', # 配置文件\n",
    "    network_dir='network',     # 存储网络文件的文件夹地址\n",
    "    tstop=5000.0, dt=2.5,        # tstop是模拟的运行时间；dt是时间步长（单位均为ms）\n",
    "    report_vars=['v', 'cai'],  # 告诉模拟器，我们要记录膜电位（用'v'表示）和钙离子轨迹（用'cai'表示）\n",
    "    current_clamp={            # 创建阶跃电流\n",
    "        'amp': 0.060,          # 振幅\n",
    "        'delay': 500.0,        # 从t0延迟500.0ms再开始\n",
    "        'duration': 1000.0     # 持续时间1000.0ms\n",
    "    },\n",
    "    include_examples=True,     # 是否为教程示例复制组件文件，设为True\n",
    "    compile_mechanisms=True,   # 是否尝试编译神经元机制，设为True\n",
    ")\n",
    "\n",
    "# 打印\n",
    "print('Set up success!')"
   ]
  },
  {
   "cell_type": "code",
   "execution_count": null,
   "outputs": [],
   "source": [
    "'''\n",
    "    如果报错“ERROR:bmtk.utils.sim_setup:  Was unable to compile mechanism in 地址”\n",
    "    需要手动在命令行操作\n",
    "    1. cd进入mechanisms文件夹（路径根据自己的设备来，mechanisms文件夹由设置模拟环境的步骤建立）\n",
    "    2. 命令行输入 nrnivmodl modfiles\n",
    "'''"
   ],
   "metadata": {
    "collapsed": false
   }
  },
  {
   "cell_type": "code",
   "execution_count": 7,
   "id": "2851816f-ea80-4a7b-bbfa-960be7041195",
   "metadata": {
    "execution": {
     "iopub.execute_input": "2023-08-01T07:47:52.264218Z",
     "iopub.status.busy": "2023-08-01T07:47:52.263612Z",
     "iopub.status.idle": "2023-08-01T07:47:55.994172Z",
     "shell.execute_reply": "2023-08-01T07:47:55.993406Z",
     "shell.execute_reply.started": "2023-08-01T07:47:52.264193Z"
    }
   },
   "outputs": [
    {
     "name": "stdout",
     "output_type": "stream",
     "text": [
      "Success!\n",
      "2023-08-09 14:57:19,354 [INFO] Created log file\n"
     ]
    },
    {
     "name": "stderr",
     "output_type": "stream",
     "text": [
      "INFO:NEURONIOUtils:Created log file\n"
     ]
    },
    {
     "name": "stdout",
     "output_type": "stream",
     "text": [
      "Build success!\n"
     ]
    }
   ],
   "source": [
    "from bmtk.simulator import bionet\n",
    "\n",
    "# 设置配置文件路径\n",
    "conf = bionet.Config.from_json('sim_ch00/config.json')\n",
    "\n",
    "# 打印\n",
    "print('Success!')\n",
    "\n",
    "# 建立环境\n",
    "conf.build_env()\n",
    "\n",
    "# 打印\n",
    "print('Build success!')"
   ]
  },
  {
   "cell_type": "code",
   "execution_count": 8,
   "id": "db79b2bb-f28e-452f-b83f-4494277741fd",
   "metadata": {
    "execution": {
     "iopub.execute_input": "2023-08-01T07:47:55.995165Z",
     "iopub.status.busy": "2023-08-01T07:47:55.994992Z",
     "iopub.status.idle": "2023-08-01T07:47:56.010657Z",
     "shell.execute_reply": "2023-08-01T07:47:56.010005Z",
     "shell.execute_reply.started": "2023-08-01T07:47:55.995139Z"
    }
   },
   "outputs": [
    {
     "name": "stdout",
     "output_type": "stream",
     "text": [
      "Net success!\n"
     ]
    }
   ],
   "source": [
    "# 搭建网络\n",
    "net = bionet.BioNetwork.from_config(conf)\n",
    "\n",
    "# 打印\n",
    "print('Net success!')"
   ]
  },
  {
   "cell_type": "code",
   "execution_count": 9,
   "id": "40ea65fd-541f-46eb-b87b-d8ab6a4e1c00",
   "metadata": {
    "execution": {
     "iopub.execute_input": "2023-08-01T07:47:56.011648Z",
     "iopub.status.busy": "2023-08-01T07:47:56.011486Z",
     "iopub.status.idle": "2023-08-01T07:47:56.042853Z",
     "shell.execute_reply": "2023-08-01T07:47:56.042286Z",
     "shell.execute_reply.started": "2023-08-01T07:47:56.011633Z"
    }
   },
   "outputs": [
    {
     "name": "stdout",
     "output_type": "stream",
     "text": [
      "2023-08-09 14:57:24,402 [INFO] Building cells.\n"
     ]
    },
    {
     "name": "stderr",
     "output_type": "stream",
     "text": [
      "INFO:NEURONIOUtils:Building cells.\n"
     ]
    },
    {
     "name": "stdout",
     "output_type": "stream",
     "text": [
      "2023-08-09 14:57:24,424 [INFO] Building recurrent connections\n"
     ]
    },
    {
     "name": "stderr",
     "output_type": "stream",
     "text": [
      "INFO:NEURONIOUtils:Building recurrent connections\n"
     ]
    },
    {
     "name": "stdout",
     "output_type": "stream",
     "text": [
      "Srimulus success!\n"
     ]
    }
   ],
   "source": [
    "# 创建刺激\n",
    "sim = bionet.BioSimulator.from_config(conf, network=net)\n",
    "\n",
    "# 打印\n",
    "print('Srimulus success!')"
   ]
  },
  {
   "cell_type": "code",
   "execution_count": 10,
   "id": "8703cd5b-3550-4c6d-9468-6993d1f669e3",
   "metadata": {
    "execution": {
     "iopub.execute_input": "2023-08-01T07:47:56.043687Z",
     "iopub.status.busy": "2023-08-01T07:47:56.043534Z",
     "iopub.status.idle": "2023-08-01T07:47:56.159664Z",
     "shell.execute_reply": "2023-08-01T07:47:56.159031Z",
     "shell.execute_reply.started": "2023-08-01T07:47:56.043673Z"
    }
   },
   "outputs": [
    {
     "name": "stdout",
     "output_type": "stream",
     "text": [
      "2023-08-09 14:57:28,444 [INFO] Running simulation for 5000.000 ms with the time step 2.500 ms\n"
     ]
    },
    {
     "name": "stderr",
     "output_type": "stream",
     "text": [
      "INFO:NEURONIOUtils:Running simulation for 5000.000 ms with the time step 2.500 ms\n"
     ]
    },
    {
     "name": "stdout",
     "output_type": "stream",
     "text": [
      "2023-08-09 14:57:28,444 [INFO] Starting timestep: 0 at t_sim: 0.000 ms\n"
     ]
    },
    {
     "name": "stderr",
     "output_type": "stream",
     "text": [
      "INFO:NEURONIOUtils:Starting timestep: 0 at t_sim: 0.000 ms\n"
     ]
    },
    {
     "name": "stdout",
     "output_type": "stream",
     "text": [
      "2023-08-09 14:57:28,452 [INFO] Block save every 2000 steps\n"
     ]
    },
    {
     "name": "stderr",
     "output_type": "stream",
     "text": [
      "INFO:NEURONIOUtils:Block save every 2000 steps\n"
     ]
    },
    {
     "name": "stdout",
     "output_type": "stream",
     "text": [
      "2023-08-09 14:57:28,517 [INFO]     step:2000 t_sim:5000.00 ms\n"
     ]
    },
    {
     "name": "stderr",
     "output_type": "stream",
     "text": [
      "INFO:NEURONIOUtils:    step:2000 t_sim:5000.00 ms\n"
     ]
    },
    {
     "name": "stdout",
     "output_type": "stream",
     "text": [
      "2023-08-09 14:57:28,529 [INFO] Simulation completed in 0.08447 seconds \n"
     ]
    },
    {
     "name": "stderr",
     "output_type": "stream",
     "text": [
      "INFO:NEURONIOUtils:Simulation completed in 0.08447 seconds \n"
     ]
    }
   ],
   "source": [
    "# 运行\n",
    "sim.run()"
   ]
  },
  {
   "cell_type": "code",
   "execution_count": 11,
   "id": "699d69ac-f262-4887-b8e1-0ee65da0c4a0",
   "metadata": {
    "execution": {
     "iopub.execute_input": "2023-08-01T07:47:56.160588Z",
     "iopub.status.busy": "2023-08-01T07:47:56.160429Z",
     "iopub.status.idle": "2023-08-01T07:47:56.416809Z",
     "shell.execute_reply": "2023-08-01T07:47:56.416200Z",
     "shell.execute_reply.started": "2023-08-01T07:47:56.160573Z"
    },
    "tags": []
   },
   "outputs": [
    {
     "data": {
      "text/plain": "   timestamps  node_ids population\n0       547.5         0    mcortex\n1       610.0         0    mcortex\n2       690.0         0    mcortex\n3       785.0         0    mcortex\n4       885.0         0    mcortex\n5       987.5         0    mcortex\n6      1215.0         0    mcortex\n7      1327.5         0    mcortex\n8      1435.0         0    mcortex",
      "text/html": "<div>\n<style scoped>\n    .dataframe tbody tr th:only-of-type {\n        vertical-align: middle;\n    }\n\n    .dataframe tbody tr th {\n        vertical-align: top;\n    }\n\n    .dataframe thead th {\n        text-align: right;\n    }\n</style>\n<table border=\"1\" class=\"dataframe\">\n  <thead>\n    <tr style=\"text-align: right;\">\n      <th></th>\n      <th>timestamps</th>\n      <th>node_ids</th>\n      <th>population</th>\n    </tr>\n  </thead>\n  <tbody>\n    <tr>\n      <th>0</th>\n      <td>547.5</td>\n      <td>0</td>\n      <td>mcortex</td>\n    </tr>\n    <tr>\n      <th>1</th>\n      <td>610.0</td>\n      <td>0</td>\n      <td>mcortex</td>\n    </tr>\n    <tr>\n      <th>2</th>\n      <td>690.0</td>\n      <td>0</td>\n      <td>mcortex</td>\n    </tr>\n    <tr>\n      <th>3</th>\n      <td>785.0</td>\n      <td>0</td>\n      <td>mcortex</td>\n    </tr>\n    <tr>\n      <th>4</th>\n      <td>885.0</td>\n      <td>0</td>\n      <td>mcortex</td>\n    </tr>\n    <tr>\n      <th>5</th>\n      <td>987.5</td>\n      <td>0</td>\n      <td>mcortex</td>\n    </tr>\n    <tr>\n      <th>6</th>\n      <td>1215.0</td>\n      <td>0</td>\n      <td>mcortex</td>\n    </tr>\n    <tr>\n      <th>7</th>\n      <td>1327.5</td>\n      <td>0</td>\n      <td>mcortex</td>\n    </tr>\n    <tr>\n      <th>8</th>\n      <td>1435.0</td>\n      <td>0</td>\n      <td>mcortex</td>\n    </tr>\n  </tbody>\n</table>\n</div>"
     },
     "execution_count": 11,
     "metadata": {},
     "output_type": "execute_result"
    }
   ],
   "source": [
    "from bmtk.analyzer.spike_trains import to_dataframe\n",
    "\n",
    "# 显示数据\n",
    "to_dataframe(config_file='sim_ch00/config.json')"
   ]
  },
  {
   "cell_type": "code",
   "execution_count": 12,
   "id": "76638c14-7412-4cf6-bd59-780c89866e50",
   "metadata": {
    "execution": {
     "iopub.execute_input": "2023-08-01T07:47:56.418304Z",
     "iopub.status.busy": "2023-08-01T07:47:56.417659Z",
     "iopub.status.idle": "2023-08-01T07:47:56.615289Z",
     "shell.execute_reply": "2023-08-01T07:47:56.614632Z",
     "shell.execute_reply.started": "2023-08-01T07:47:56.418287Z"
    },
    "tags": []
   },
   "outputs": [
    {
     "data": {
      "text/plain": "<Figure size 640x480 with 1 Axes>",
      "image/png": "[encoded data removed]"
     },
     "metadata": {},
     "output_type": "display_data"
    },
    {
     "data": {
      "text/plain": "<Figure size 640x480 with 1 Axes>",
      "image/png": "[encoded data removed]"
     },
     "metadata": {},
     "output_type": "display_data"
    }
   ],
   "source": [
    "from bmtk.analyzer.compartment import plot_traces\n",
    "\n",
    "# 分析数据\n",
    "_ = plot_traces(config_file='sim_ch00/config.json', node_ids=[0], report_name='v_report')\n",
    "_ = plot_traces(config_file='sim_ch00/config.json', node_ids=[0], report_name='cai_report')"
   ]
  },
  {
   "cell_type": "code",
   "execution_count": null,
   "id": "f0693f90-c03f-499a-8db2-424b0c9aa399",
   "metadata": {},
   "outputs": [],
   "source": []
  }
 ],
 "metadata": {
  "kernelspec": {
   "display_name": "Python 3 (ipykernel)",
   "language": "python",
   "name": "python3"
  },
  "language_info": {
   "codemirror_mode": {
    "name": "ipython",
    "version": 3
   },
   "file_extension": ".py",
   "mimetype": "text/x-python",
   "name": "python",
   "nbconvert_exporter": "python",
   "pygments_lexer": "ipython3",
   "version": "3.9.16"
  }
 },
 "nbformat": 4,
 "nbformat_minor": 5
}
