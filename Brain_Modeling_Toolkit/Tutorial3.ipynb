{
 "cells": [
  {
   "cell_type": "code",
   "execution_count": null,
   "id": "35bcfd60-9e60-4abb-9ff2-c93c2f5f0f3a",
   "metadata": {
    "execution": {
     "iopub.execute_input": "2023-07-25T03:17:18.820714Z",
     "iopub.status.busy": "2023-07-25T03:17:18.820464Z",
     "iopub.status.idle": "2023-07-25T03:17:18.825340Z",
     "shell.execute_reply": "2023-07-25T03:17:18.824514Z",
     "shell.execute_reply.started": "2023-07-25T03:17:18.820695Z"
    }
   },
   "outputs": [],
   "source": [
    "# Chapter 3: Multi-cell, single population network (with BioNet)"
   ]
  },
  {
   "cell_type": "code",
   "execution_count": null,
   "id": "b3669a35-fc55-46b9-a7ce-ff9ea8c82ff6",
   "metadata": {
    "execution": {
     "iopub.execute_input": "2023-07-26T02:04:04.486549Z",
     "iopub.status.busy": "2023-07-26T02:04:04.486147Z",
     "iopub.status.idle": "2023-07-26T02:04:04.493035Z",
     "shell.execute_reply": "2023-07-26T02:04:04.492564Z",
     "shell.execute_reply.started": "2023-07-26T02:04:04.486530Z"
    },
    "tags": []
   },
   "outputs": [],
   "source": [
    "import numpy as np\n",
    "from bmtk.builder.networks import NetworkBuilder\n",
    "from bmtk.builder.auxi.node_params import positions_columinar, xiter_random\n",
    "\n",
    "# 建立有100个相同类型细胞的网络，这些细胞有不同的位置和y轴旋转\n",
    "# 实例化\n",
    "cortex = NetworkBuilder('mcortex')\n",
    "\n",
    "# 添加节点\n",
    "cortex.add_nodes(\n",
    "    # 其他参数\n",
    "    N=100,\n",
    "    pop_name='Scnn1a',\n",
    "    \n",
    "    # 位置与旋转参数\n",
    "    positions=positions_columinar(N=100, center=[0, 50.0, 0], max_radius=30.0, height=100.0),   # 细胞位置，给定范围（一个圆柱体）后由内置函数随机放置\n",
    "    # 给定了细胞个数（N），圆柱体中心（center），最大半径（max_radius）和高度（height），函数positions_columinar构建出可供随机摆放细胞的圆柱体\n",
    "    rotation_angle_yaxis=xiter_random(N=100, min_x=0.0, max_x=2*np.pi),  # y轴旋度\n",
    "    # 给定了细胞个数（N），最小旋转角（min_x）和最大旋转角（max_x），函数xiter_random处理后返回一个数据列表，数值上为下标对应细胞的旋转角度\n",
    "    rotation_angle_zaxis=3.646878266,  # Z轴旋度（固定值3.646878266，100个细胞都是这一个值）\n",
    "    \n",
    "    # 其他参数\n",
    "    potental='exc',\n",
    "    model_type='biophysical',\n",
    "    model_template='ctdb:Biophys1.hoc',\n",
    "    model_processing='aibs_perisomatic',\n",
    "    dynamics_params='472363762_fit.json',\n",
    "    morphology='Scnn1a_473845048_m.swc'\n",
    ")\n",
    "\n",
    "# 打印\n",
    "print('Success!')"
   ]
  },
  {
   "cell_type": "code",
   "execution_count": null,
   "id": "f1817a50-3cdb-44be-87ae-55eaf23317af",
   "metadata": {
    "execution": {
     "iopub.execute_input": "2023-07-25T03:52:47.574951Z",
     "iopub.status.busy": "2023-07-25T03:52:47.574544Z",
     "iopub.status.idle": "2023-07-25T03:52:47.581133Z",
     "shell.execute_reply": "2023-07-25T03:52:47.580572Z",
     "shell.execute_reply.started": "2023-07-25T03:52:47.574930Z"
    }
   },
   "outputs": [],
   "source": [
    "from bmtk.builder.auxi.edge_connectors import distance_connector\n",
    "\n",
    "# 构建边\n",
    "cortex.add_edges(\n",
    "    # 起始节点与目标节点\n",
    "    source={'pop_name': 'Scnn1a'}, target={'pop_name': 'Scnn1a'},\n",
    "    \n",
    "    # 基于距离大小，考虑加权地随机设置两个细胞间的突触连接个数，方式还是给最小值和最大值，然后中间取随机\n",
    "    connection_rule=distance_connector,  # 连接方式为距离连接，此处的distance_connector其实是一个内置函数\n",
    "    connection_params={'d_weight_min': 0.0, 'd_weight_max': 0.34, 'd_max': 50.0, 'nsyn_min': 0, 'nsyn_max': 10},  # 连接参数是字典类型\n",
    "    \n",
    "    # 权重设置与突触位置\n",
    "    syn_weight=2.0e-04,\n",
    "    distance_range=[30.0, 150.0],\n",
    "    target_sections=['basal', 'apical', 'soma'],\n",
    "    delay=2.0,\n",
    "    \n",
    "    # 参数文件\n",
    "    dynamics_params='AMPA_ExcToExc.json',\n",
    "    model_template='exp2syn'\n",
    ")\n",
    "\n",
    "# 打印\n",
    "print('Success!')"
   ]
  },
  {
   "cell_type": "code",
   "execution_count": null,
   "id": "6c04d495-b948-4f2e-8eb4-b75f3854cacd",
   "metadata": {
    "execution": {
     "iopub.execute_input": "2023-07-25T03:53:51.702231Z",
     "iopub.status.busy": "2023-07-25T03:53:51.701802Z",
     "iopub.status.idle": "2023-07-25T03:53:51.850881Z",
     "shell.execute_reply": "2023-07-25T03:53:51.850237Z",
     "shell.execute_reply.started": "2023-07-25T03:53:51.702208Z"
    }
   },
   "outputs": [],
   "source": [
    "# 构建\n",
    "cortex.build()\n",
    "\n",
    "# 打印\n",
    "print('Build success!')\n",
    "\n",
    "# 保存节点和边\n",
    "cortex.save_nodes(output_dir='sim_ch03/network')\n",
    "cortex.save_edges(output_dir='sim_ch03/network')\n",
    "\n",
    "# 打印\n",
    "print('Save success!')"
   ]
  },
  {
   "cell_type": "code",
   "execution_count": null,
   "id": "c5bcfe37-a942-4a51-b9e8-ca91d943b15b",
   "metadata": {
    "execution": {
     "iopub.execute_input": "2023-07-25T06:14:22.416696Z",
     "iopub.status.busy": "2023-07-25T06:14:22.416267Z",
     "iopub.status.idle": "2023-07-25T06:14:22.421603Z",
     "shell.execute_reply": "2023-07-25T06:14:22.421022Z",
     "shell.execute_reply.started": "2023-07-25T06:14:22.416674Z"
    },
    "tags": []
   },
   "outputs": [],
   "source": [
    "# 构建虚拟细胞\n",
    "thalamus = NetworkBuilder('mthalamus')\n",
    "thalamus.add_nodes(\n",
    "    N=100,\n",
    "    pop_name='tON',\n",
    "    potential='exc',\n",
    "    model_type='virtual'\n",
    ")\n",
    "\n",
    "# 打印\n",
    "print('Success!')"
   ]
  },
  {
   "cell_type": "code",
   "execution_count": null,
   "id": "0ad62a79-9fb6-4071-8d31-460625854a21",
   "metadata": {
    "execution": {
     "iopub.execute_input": "2023-07-25T06:19:49.271624Z",
     "iopub.status.busy": "2023-07-25T06:19:49.271111Z",
     "iopub.status.idle": "2023-07-25T06:19:49.402394Z",
     "shell.execute_reply": "2023-07-25T06:19:49.401697Z",
     "shell.execute_reply.started": "2023-07-25T06:19:49.271598Z"
    }
   },
   "outputs": [],
   "source": [
    "from bmtk.builder.auxi.edge_connectors import connect_random\n",
    "\n",
    "# 构建连接，虚拟细胞之间没有循环连接，只有从虚拟细胞到网络中细胞的直接连接\n",
    "thalamus.add_edges(\n",
    "    # 起始节点与目标节点\n",
    "    source=thalamus.nodes(), target=cortex.nodes(),\n",
    "    \n",
    "    # 用import调用connect_random函数，根据参数，对每个丘脑-皮层连接，随机建立0到12个突触\n",
    "    connection_rule=connect_random,\n",
    "    connection_params={'nsyn_min': 0, 'nsyn_max': 12},\n",
    "    \n",
    "    # 权重参数与突触部位\n",
    "    syn_weight=5.0e-05, \n",
    "    distance_range=[0.0, 150.0],\n",
    "    target_sections=['basal', 'apical'],\n",
    "    delay=2.0,\n",
    "    \n",
    "    # 参数文件\n",
    "    dynamics_params='AMPA_ExcToExc.json',\n",
    "    model_template='exp2syn'\n",
    ")\n",
    "\n",
    "# 打印\n",
    "print('Edges success!')\n",
    "\n",
    "# 构建\n",
    "thalamus.build()\n",
    "\n",
    "# 打印\n",
    "print('Build success!')\n",
    "\n",
    "# 保存节点与边\n",
    "thalamus.save_nodes(output_dir='sim_ch03/network')\n",
    "thalamus.save_edges(output_dir='sim_ch03/network')\n",
    "\n",
    "# 打印\n",
    "print('Save success!')"
   ]
  },
  {
   "cell_type": "code",
   "execution_count": null,
   "id": "3897cc3f-9051-42bf-b815-4e041a161fc8",
   "metadata": {
    "execution": {
     "iopub.execute_input": "2023-07-25T06:25:19.279162Z",
     "iopub.status.busy": "2023-07-25T06:25:19.278762Z",
     "iopub.status.idle": "2023-07-25T06:25:19.731579Z",
     "shell.execute_reply": "2023-07-25T06:25:19.730997Z",
     "shell.execute_reply.started": "2023-07-25T06:25:19.279140Z"
    }
   },
   "outputs": [],
   "source": [
    "from bmtk.utils.reports.spike_trains import PoissonSpikeGenerator\n",
    "\n",
    "# 以泊松分布构建一个随机的峰值分布，每个细胞在3秒的窗口内以大约15赫兹的频率发放\n",
    "psg = PoissonSpikeGenerator(population='mthalamus')\n",
    "psg.add(node_ids=range(100),  # 节点数\n",
    "        firing_rate=15.0,    # 频率15.0赫兹\n",
    "        times=(0.0, 3.0))    # 发放时间0.0-3.0秒\n",
    "psg.to_sonata('sim_ch03/inputs/mthalamus_spikes.h5')\n",
    "\n",
    "# 打印\n",
    "print('Success!')\n",
    "\n",
    "# 打印Spike\n",
    "psg.to_dataframe().head()"
   ]
  },
  {
   "cell_type": "code",
   "execution_count": null,
   "id": "c0a3006d-c430-42ee-9fad-fc7b1dc06025",
   "metadata": {
    "execution": {
     "iopub.execute_input": "2023-07-25T06:26:48.427517Z",
     "iopub.status.busy": "2023-07-25T06:26:48.427101Z",
     "iopub.status.idle": "2023-07-25T06:26:49.016362Z",
     "shell.execute_reply": "2023-07-25T06:26:49.015281Z",
     "shell.execute_reply.started": "2023-07-25T06:26:48.427492Z"
    },
    "tags": []
   },
   "outputs": [],
   "source": [
    "from bmtk.utils.sim_setup import build_env_bionet\n",
    "\n",
    "# 建环境（与之前的Tutorial相同）\n",
    "build_env_bionet(\n",
    "    base_dir='sim_ch03',\n",
    "    config_file='config.json',\n",
    "    network_dir='sim_ch03/network',\n",
    "    tstop=3000.0, dt=0.1,\n",
    "    report_vars=['v', 'cai'],     # Record membrane potential and calcium (default soma)\n",
    "    spikes_inputs=[('mthalamus',   # Name of population which spikes will be generated for\n",
    "                    'sim_ch03/inputs/mthalamus_spikes.h5')],\n",
    "    include_examples=True,    # Copies components files\n",
    "    compile_mechanisms=True   # Will try to compile NEURON mechanisms\n",
    ")\n",
    "\n",
    "# 打印\n",
    "print('Env success!')"
   ]
  },
  {
   "cell_type": "code",
   "execution_count": null,
   "id": "c6df72f3-26c1-4b9f-a631-9b5f70859173",
   "metadata": {
    "execution": {
     "iopub.execute_input": "2023-07-25T06:27:56.611253Z",
     "iopub.status.busy": "2023-07-25T06:27:56.610826Z",
     "iopub.status.idle": "2023-07-25T06:30:30.125876Z",
     "shell.execute_reply": "2023-07-25T06:30:30.125094Z",
     "shell.execute_reply.started": "2023-07-25T06:27:56.611231Z"
    }
   },
   "outputs": [],
   "source": [
    "from bmtk.simulator import bionet\n",
    "\n",
    "# 运行\n",
    "conf = bionet.Config.from_json('sim_ch03/config.json')\n",
    "conf.build_env()\n",
    "net = bionet.BioNetwork.from_config(conf)\n",
    "sim = bionet.BioSimulator.from_config(conf, network=net)\n",
    "sim.run()\n",
    "\n",
    "# 打印\n",
    "print('Run success!')"
   ]
  },
  {
   "cell_type": "code",
   "execution_count": null,
   "id": "84c48446-f2e8-486e-bfd0-54bf968c2373",
   "metadata": {
    "execution": {
     "iopub.execute_input": "2023-07-25T06:30:52.371024Z",
     "iopub.status.busy": "2023-07-25T06:30:52.370582Z",
     "iopub.status.idle": "2023-07-25T06:30:52.634916Z",
     "shell.execute_reply": "2023-07-25T06:30:52.633989Z",
     "shell.execute_reply.started": "2023-07-25T06:30:52.371004Z"
    }
   },
   "outputs": [],
   "source": [
    "from bmtk.analyzer.spike_trains import plot_raster\n",
    "\n",
    "# 绘制随时间变化的脉冲（Spike，或者称为尖峰）光栅图\n",
    "_ = plot_raster(config_file='sim_ch03/config.json')"
   ]
  },
  {
   "cell_type": "code",
   "execution_count": null,
   "id": "cc7c675e-243b-460d-96d7-7bee454fa852",
   "metadata": {
    "execution": {
     "iopub.execute_input": "2023-07-25T06:32:52.087857Z",
     "iopub.status.busy": "2023-07-25T06:32:52.087526Z",
     "iopub.status.idle": "2023-07-25T06:32:58.377342Z",
     "shell.execute_reply": "2023-07-25T06:32:58.376804Z",
     "shell.execute_reply.started": "2023-07-25T06:32:52.087835Z"
    }
   },
   "outputs": [],
   "source": [
    "from bmtk.analyzer.compartment import plot_traces\n",
    "\n",
    "# 在配置文件中，cell_vars和node_id_selections参数保存了所选细胞的钙流入和膜电位\n",
    "# 现打印上述图像\n",
    "_ = plot_traces(config_file='sim_ch03/config.json', report_name='v_report')\n",
    "_ = plot_traces(config_file='sim_ch03/config.json', report_name='v_report', node_ids=[50])\n",
    "_ = plot_traces(config_file='sim_ch03/config.json', report_name='cai_report')"
   ]
  },
  {
   "cell_type": "code",
   "execution_count": null,
   "id": "ecd29655-9945-4824-9459-1fe690c65fcc",
   "metadata": {},
   "outputs": [],
   "source": []
  }
 ],
 "metadata": {
  "kernelspec": {
   "display_name": "Python 3 (ipykernel)",
   "language": "python",
   "name": "python3"
  },
  "language_info": {
   "codemirror_mode": {
    "name": "ipython",
    "version": 3
   },
   "file_extension": ".py",
   "mimetype": "text/x-python",
   "name": "python",
   "nbconvert_exporter": "python",
   "pygments_lexer": "ipython3",
   "version": "3.8.0"
  }
 },
 "nbformat": 4,
 "nbformat_minor": 5
}
