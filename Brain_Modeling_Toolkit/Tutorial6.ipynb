{
 "cells": [
  {
   "cell_type": "code",
   "execution_count": null,
   "id": "672f775f-42a1-4a1c-9f45-d8b62e2a170d",
   "metadata": {
    "execution": {
     "iopub.execute_input": "2023-08-14T06:34:41.571658Z",
     "iopub.status.busy": "2023-08-14T06:34:41.571330Z",
     "iopub.status.idle": "2023-08-14T06:34:41.574209Z",
     "shell.execute_reply": "2023-08-14T06:34:41.573698Z",
     "shell.execute_reply.started": "2023-08-14T06:34:41.571641Z"
    }
   },
   "outputs": [],
   "source": [
    "# Tutorial 6: Population Level Modeling (with PopNet)"
   ]
  },
  {
   "cell_type": "code",
   "execution_count": null,
   "id": "4660f13f-2b40-48f5-a966-b8a931a2f6b3",
   "metadata": {
    "execution": {
     "iopub.execute_input": "2023-08-14T06:34:41.574921Z",
     "iopub.status.busy": "2023-08-14T06:34:41.574780Z",
     "iopub.status.idle": "2023-08-14T06:34:42.247220Z",
     "shell.execute_reply": "2023-08-14T06:34:42.246365Z",
     "shell.execute_reply.started": "2023-08-14T06:34:41.574906Z"
    }
   },
   "outputs": [],
   "source": [
    "from bmtk.builder import NetworkBuilder\n",
    "\n",
    "net = NetworkBuilder('V1')\n",
    "\n",
    "# 构造两个总体\n",
    "net.add_nodes(\n",
    "    pop_name='excitatory',                # 总体的名称（name of the population）\n",
    "    ei='e',                               # 可选\n",
    "    location='VisL4',                     # 可选\n",
    "    model_type='population',              # 必须，表示模型的类型\n",
    "    model_template='dipde:Internal',      # 必须，指导创建哪些DiPDE对象\n",
    "    dynamics_params='exc_model.json'      # 必须，参数文件\n",
    ")\n",
    "\n",
    "net.add_nodes(\n",
    "    pop_name='inhibitory',\n",
    "    ei='i',\n",
    "    model_type='population',\n",
    "    model_template='dipde:Internal',\n",
    "    dynamics_params='inh_model.json'\n",
    ")"
   ]
  },
  {
   "cell_type": "code",
   "execution_count": null,
   "id": "1aac5976-7f62-46d6-84c5-b5fb17dcbf1f",
   "metadata": {
    "execution": {
     "iopub.execute_input": "2023-08-14T06:34:42.248712Z",
     "iopub.status.busy": "2023-08-14T06:34:42.248361Z",
     "iopub.status.idle": "2023-08-14T06:34:42.259211Z",
     "shell.execute_reply": "2023-08-14T06:34:42.258532Z",
     "shell.execute_reply.started": "2023-08-14T06:34:42.248685Z"
    }
   },
   "outputs": [],
   "source": [
    "# 构造连接\n",
    "net.add_edges(\n",
    "    source={'ei': 'e'}, target={'ei': 'i'},\n",
    "    syn_weight=0.005,\n",
    "    nsyns=20,\n",
    "    delay=0.002,\n",
    "    dynamics_params='ExcToInh.json'\n",
    ")\n",
    "\n",
    "net.add_edges(\n",
    "    source={'ei': 'i'}, target={'ei': 'e'},\n",
    "    syn_weight=-0.002,\n",
    "    nsyns=10,\n",
    "    delay=0.002,\n",
    "    dynamics_params='InhToExc.json'\n",
    ")"
   ]
  },
  {
   "cell_type": "code",
   "execution_count": null,
   "id": "d137e292-febe-4ca2-ae7f-15abed89c036",
   "metadata": {
    "execution": {
     "iopub.execute_input": "2023-08-14T06:34:42.260528Z",
     "iopub.status.busy": "2023-08-14T06:34:42.260163Z",
     "iopub.status.idle": "2023-08-14T06:34:42.289417Z",
     "shell.execute_reply": "2023-08-14T06:34:42.288661Z",
     "shell.execute_reply.started": "2023-08-14T06:34:42.260510Z"
    }
   },
   "outputs": [],
   "source": [
    "net.build()\n",
    "net.save(output_dir='sim_ch06/network')"
   ]
  },
  {
   "cell_type": "code",
   "execution_count": null,
   "id": "284d8856-86cf-4555-9a0a-0c548ad0ad54",
   "metadata": {
    "execution": {
     "iopub.execute_input": "2023-08-14T06:34:42.290757Z",
     "iopub.status.busy": "2023-08-14T06:34:42.290389Z",
     "iopub.status.idle": "2023-08-14T06:34:42.315798Z",
     "shell.execute_reply": "2023-08-14T06:34:42.315009Z",
     "shell.execute_reply.started": "2023-08-14T06:34:42.290738Z"
    }
   },
   "outputs": [],
   "source": [
    "# 创建外部节点（单节点网络）\n",
    "input_net = NetworkBuilder('LGN')\n",
    "input_net.add_nodes(\n",
    "    pop_name='tON',\n",
    "    ei='e',\n",
    "    model_type='virtual'\n",
    ")\n",
    "\n",
    "input_net.add_edges(\n",
    "    target=net.nodes(ei='e'),\n",
    "    syn_weight=0.0025,\n",
    "    nsyns=10,\n",
    "    delay=0.002,\n",
    "    dynamics_params='input_ExcToExc.json'\n",
    ")\n",
    "\n",
    "input_net.build()\n",
    "input_net.save(output_dir='sim_ch06/network')"
   ]
  },
  {
   "cell_type": "code",
   "execution_count": null,
   "outputs": [],
   "source": [
    "! python -m bmtk.utils.sim_setup -n network --tstop 1500.0 popnet sim_ch06/\n",
    "! cd sim_ch06\n",
    "! wget https://github.com/AllenInstitute/bmtk/raw/develop/examples/pop_2pops/inputs/external_rates.csv -O lgn_rates.csv"
   ],
   "metadata": {
    "collapsed": false
   }
  },
  {
   "cell_type": "code",
   "execution_count": null,
   "id": "81d0a74d-4fb6-4f6d-8383-38ed73e780ae",
   "metadata": {
    "execution": {
     "iopub.execute_input": "2023-08-14T06:34:42.317103Z",
     "iopub.status.busy": "2023-08-14T06:34:42.316742Z",
     "iopub.status.idle": "2023-08-14T06:34:43.463797Z",
     "shell.execute_reply": "2023-08-14T06:34:43.462320Z",
     "shell.execute_reply.started": "2023-08-14T06:34:42.317084Z"
    },
    "pycharm": {
     "is_executing": true
    }
   },
   "outputs": [],
   "source": [
    "# 创建环境+运行模拟\n",
    "from bmtk.simulator import popnet\n",
    "\n",
    "configure = popnet.config.from_json('sim_ch06\\config.json')\n",
    "configure.build_env()\n",
    "network = popnet.PopNetwork.from_config(configure)\n",
    "sim = popnet.PopSimulator.from_config(configure, network)\n",
    "sim.run()"
   ]
  },
  {
   "cell_type": "code",
   "execution_count": null,
   "id": "e93f3bc6-9687-4cce-8038-f470ea037384",
   "metadata": {
    "execution": {
     "iopub.status.busy": "2023-08-14T06:34:43.464676Z",
     "iopub.status.idle": "2023-08-14T06:34:43.464905Z",
     "shell.execute_reply": "2023-08-14T06:34:43.464795Z",
     "shell.execute_reply.started": "2023-08-14T06:34:43.464783Z"
    },
    "tags": []
   },
   "outputs": [],
   "source": [
    "# 分析\n",
    "from bmtk.analyzer.firing_rates import plot_rates_popnet\n",
    "\n",
    "plot_rates_popnet('sim_ch06/network/V1_node_types.csv', 'sim_ch06/output/firing_rates.csv', model_keys='pop_name')"
   ]
  }
 ],
 "metadata": {
  "kernelspec": {
   "display_name": "Python 3 (ipykernel)",
   "language": "python",
   "name": "python3"
  },
  "language_info": {
   "codemirror_mode": {
    "name": "ipython",
    "version": 3
   },
   "file_extension": ".py",
   "mimetype": "text/x-python",
   "name": "python",
   "nbconvert_exporter": "python",
   "pygments_lexer": "ipython3",
   "version": "3.8.0"
  }
 },
 "nbformat": 4,
 "nbformat_minor": 5
}
