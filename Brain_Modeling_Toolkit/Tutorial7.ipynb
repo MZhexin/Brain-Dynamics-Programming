{
 "cells": [
  {
   "cell_type": "code",
   "execution_count": null,
   "id": "5e1585b3-af4d-442c-9f3b-e7d03bd3f91c",
   "metadata": {
    "execution": {
     "iopub.execute_input": "2023-08-14T07:36:19.255224Z",
     "iopub.status.busy": "2023-08-14T07:36:19.254901Z",
     "iopub.status.idle": "2023-08-14T07:36:19.258040Z",
     "shell.execute_reply": "2023-08-14T07:36:19.257438Z",
     "shell.execute_reply.started": "2023-08-14T07:36:19.255207Z"
    }
   },
   "outputs": [],
   "source": [
    "# Tutorial 7：Modeling the visual field (with FilterNet)"
   ]
  },
  {
   "cell_type": "code",
   "execution_count": null,
   "id": "6ef5432c-a64f-491d-891b-1f889ddf01d4",
   "metadata": {
    "execution": {
     "iopub.execute_input": "2023-08-14T07:36:19.259108Z",
     "iopub.status.busy": "2023-08-14T07:36:19.258773Z",
     "iopub.status.idle": "2023-08-14T07:36:19.953978Z",
     "shell.execute_reply": "2023-08-14T07:36:19.953159Z",
     "shell.execute_reply.started": "2023-08-14T07:36:19.259093Z"
    }
   },
   "outputs": [],
   "source": [
    "import numpy as np\n",
    "from bmtk.builder import NetworkBuilder\n",
    "\n",
    "# 构建LGN网络\n",
    "net = NetworkBuilder('lgn')  # Initialize network called 'lgn'\n",
    "\n",
    "# 构建OFF细胞（对撤光敏感）\n",
    "net.add_nodes(\n",
    "    N=20, \n",
    "    model_type='virtual',\n",
    "    model_template='lgnmodel:tOFF_TF15',\n",
    "    x=np.random.uniform(0.0, 240.0, 20),\n",
    "    y=np.random.uniform(0.0, 120.0, 20),\n",
    "    spatial_size=1.0,\n",
    "    dynamics_params='tOFF_TF15.json'\n",
    ")\n",
    "\n",
    "# 构建ON细胞（对给光敏感）\n",
    "net.add_nodes(  # add 10 simple ON cells\n",
    "    N=20, \n",
    "    model_type='virtual',\n",
    "    model_template='lgnmodel:tON',\n",
    "    x=np.random.uniform(0.0, 240.0, 20),\n",
    "    y=np.random.uniform(0.0, 120.0, 20),\n",
    "    spatial_size=1.0,\n",
    "    dynamics_params='tON_TF8.json'\n",
    ")\n",
    "\n",
    "net.build()\n",
    "net.save_nodes(output_dir='sim_ch07/network')"
   ]
  },
  {
   "cell_type": "code",
   "execution_count": null,
   "id": "1324f889-b4b1-49f2-8115-8c4c631513be",
   "metadata": {
    "execution": {
     "iopub.execute_input": "2023-08-14T07:36:19.955544Z",
     "iopub.status.busy": "2023-08-14T07:36:19.955075Z",
     "iopub.status.idle": "2023-08-14T07:36:20.032853Z",
     "shell.execute_reply": "2023-08-14T07:36:20.032168Z",
     "shell.execute_reply.started": "2023-08-14T07:36:19.955524Z"
    }
   },
   "outputs": [],
   "source": [
    "from bmtk.utils.sim_setup import build_env_filternet\n",
    "\n",
    "# 设置环境\n",
    "build_env_filternet(\n",
    "    base_dir='sim_ch07', \n",
    "    network_dir='sim_ch07/network', \n",
    "    tstop=3000.0,\n",
    "    include_examples=True)"
   ]
  },
  {
   "cell_type": "code",
   "execution_count": null,
   "id": "a4eb885f-7842-4e94-ac4d-29d6e1118d8a",
   "metadata": {
    "execution": {
     "iopub.execute_input": "2023-08-14T07:36:20.034306Z",
     "iopub.status.busy": "2023-08-14T07:36:20.033909Z",
     "iopub.status.idle": "2023-08-14T07:36:20.043261Z",
     "shell.execute_reply": "2023-08-14T07:36:20.042699Z",
     "shell.execute_reply.started": "2023-08-14T07:36:20.034287Z"
    }
   },
   "outputs": [],
   "source": [
    "# 通过修改simulation_config.json文件给予不同的刺激\n",
    "'''\n",
    "    1. 定制的影像刺激（movie）：npy格式的文件，以三维矩阵的形式存储：(时间戳, X坐标, y坐标)\n",
    "    {\"inputs\": {\n",
    "         \"movie_input\": {\n",
    "             \"input_type\": \"movie\",\n",
    "             \"module\": \"movie\",\n",
    "             \"data_file\": \"/path/to/my/movie.npy\",  # 视频文件路径\n",
    "             \"frame_rate\": 1000.0                   # 每秒帧数\n",
    "             }}}\n",
    "    \n",
    "    \n",
    "    2. 光栅刺激（grating）\n",
    "    {\"inputs\": {\n",
    "         \"LGN_spikes\": {\n",
    "             \"input_type\": \"movie\",\n",
    "             \"module\": \"graiting\",\n",
    "             \"row_size\": 120,                       # 屏幕宽度\n",
    "             \"col_size\": 240,                       # 屏幕高度\n",
    "             \"gray_screen_dur\": 0.5,                # 在光栅启动前的若干秒钟内显示可选的灰色屏幕（默认值：0.0）\n",
    "             \"cpd\": 0.04,                           # 空间频率，单位周期/度（默认值：0.05）\n",
    "             \"temporal_f\": 4.0,                     # 时间频率，单位赫兹（默认值：4.0）\n",
    "             \"contrast\": 0.8,                       # 最大对比度，必须在0到1.0之间（默认值：1.0）\n",
    "             \"theta\": 45.0,                         # 方位角，单位度（默认值：45.0）\n",
    "             \"phase\": 0.0,                          # 时间相位，单位度（默认值：0.0）\n",
    "             \"frame_rate\": 1000.0                   # 每秒帧数\n",
    "             }}}\n",
    "\n",
    "\n",
    "    3. 全场闪光（full field flash）\n",
    "    {\"inputs\": {\n",
    "        \"full_field_flash\": {\n",
    "            \"input_type\": \"movie\",\n",
    "            \"module\": \"full_field_flash\",\n",
    "            \"row_size\": 120,                        # 屏幕宽度\n",
    "            \"col_size\": 240,                        # 屏幕高度\n",
    "            \"t_on\": 1000.0,                         # 从开始到启动闪光灯的时间，单位毫秒\n",
    "            \"t_off\": 2000.0,                        # 闪光时长，单位毫秒\n",
    "            \"max_intensity\": 20.0                   # 与灰屏相比，闪光时屏幕的亮度（大于0为亮，小于0为暗）\n",
    "            \"frame_rate\": 1000.0                    # 每秒帧数\n",
    "            }}}\n",
    "    \n",
    "    4. 黑色区域（looming）：一个黑色区块从画面中心慢慢向四周扩张（在PPT里放一张图片，添加入场动画-形状-效果选项选放大，就是差不多的效果）\n",
    "    {\"inputs\": {\n",
    "          \"LGN_spikes\": {\n",
    "              \"input_type\": \"movie\",\n",
    "              \"module\": \"looming\",\n",
    "              \"row_size\": 120,                      # 屏幕宽度\n",
    "              \"col_size\": 240,                      # 屏幕高度\n",
    "              \"frame_rate\": 1000.0,                 # 每秒帧数\n",
    "              \"gray_screen_dur\": 0.5,               # 初始灰屏持续时间，单位秒\n",
    "              \"t_looming\": 1.0                      # loom的时间，单位秒\n",
    "              }}}\n",
    "'''"
   ]
  },
  {
   "cell_type": "code",
   "execution_count": null,
   "id": "9f52458d-cce6-4004-b8aa-54bacdf055a7",
   "metadata": {
    "execution": {
     "iopub.execute_input": "2023-08-14T07:36:20.044487Z",
     "iopub.status.busy": "2023-08-14T07:36:20.044123Z",
     "iopub.status.idle": "2023-08-14T07:36:22.086528Z",
     "shell.execute_reply": "2023-08-14T07:36:22.085699Z",
     "shell.execute_reply.started": "2023-08-14T07:36:20.044471Z"
    }
   },
   "outputs": [],
   "source": [
    "from bmtk.simulator import filternet\n",
    "\n",
    "config = filternet.Config.from_json('sim_ch07/config.json')\n",
    "config.build_env()\n",
    "net = filternet.FilterNetwork.from_config(config)\n",
    "sim = filternet.FilterSimulator.from_config(config, net)\n",
    "sim.run()"
   ]
  },
  {
   "cell_type": "code",
   "execution_count": null,
   "id": "152f9b83-5dc2-4850-aa0f-6545a24974ee",
   "metadata": {
    "execution": {
     "iopub.execute_input": "2023-08-14T07:36:22.088065Z",
     "iopub.status.busy": "2023-08-14T07:36:22.087664Z",
     "iopub.status.idle": "2023-08-14T07:36:22.936528Z",
     "shell.execute_reply": "2023-08-14T07:36:22.935133Z",
     "shell.execute_reply.started": "2023-08-14T07:36:22.088047Z"
    },
    "tags": []
   },
   "outputs": [],
   "source": [
    "from bmtk.analyzer.spike_trains import plot_raster\n",
    "\n",
    "_ = plot_raster(config_file='sim_ch07/config.json', group_by='model_template')"
   ]
  }
 ],
 "metadata": {
  "kernelspec": {
   "display_name": "Python 3 (ipykernel)",
   "language": "python",
   "name": "python3"
  },
  "language_info": {
   "codemirror_mode": {
    "name": "ipython",
    "version": 3
   },
   "file_extension": ".py",
   "mimetype": "text/x-python",
   "name": "python",
   "nbconvert_exporter": "python",
   "pygments_lexer": "ipython3",
   "version": "3.8.0"
  }
 },
 "nbformat": 4,
 "nbformat_minor": 5
}
