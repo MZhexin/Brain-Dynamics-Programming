{
 "cells": [
  {
   "cell_type": "code",
   "execution_count": null,
   "id": "088ab3c7-a252-4d41-ac88-2808405cd5e8",
   "metadata": {
    "execution": {
     "iopub.execute_input": "2023-08-08T05:35:34.129748Z",
     "iopub.status.busy": "2023-08-08T05:35:34.129410Z",
     "iopub.status.idle": "2023-08-08T05:35:34.132493Z",
     "shell.execute_reply": "2023-08-08T05:35:34.131891Z",
     "shell.execute_reply.started": "2023-08-08T05:35:34.129728Z"
    }
   },
   "outputs": [],
   "source": [
    "# Tutorial 1: Single cell simulation with current injection (with BioNet)"
   ]
  },
  {
   "cell_type": "code",
   "execution_count": null,
   "id": "2b5ce83a-c40c-4d5c-84ed-773eb441e641",
   "metadata": {
    "execution": {
     "iopub.execute_input": "2023-08-08T05:35:34.133293Z",
     "iopub.status.busy": "2023-08-08T05:35:34.133150Z",
     "iopub.status.idle": "2023-08-08T05:35:34.940779Z",
     "shell.execute_reply": "2023-08-08T05:35:34.940233Z",
     "shell.execute_reply.started": "2023-08-08T05:35:34.133279Z"
    }
   },
   "outputs": [],
   "source": [
    "from bmtk.builder.networks import NetworkBuilder\n",
    "\n",
    "# 实例化网络，取名mcortex\n",
    "net = NetworkBuilder('mcortex')\n",
    "\n",
    "# 添加单个节点\n",
    "net.add_nodes(\n",
    "    cell_name='Scnn1a_473845048',  # 细胞名称\n",
    "    potential='exc',  # 电位：兴奋性细胞\n",
    "    model_type='biophysical',  # 模型类型：生物物理学模型\n",
    "    model_template='ctdb:Biophys1.hoc',  # 模板文件\n",
    "    model_processing='aibs_perisomatic',  # 加载模型\n",
    "    dynamics_params='472363762_fit.json',  # 模型参数文件\n",
    "    morphology='Scnn1a_473845048_m.swc'  # 模型结构文件\n",
    ")\n",
    "\n",
    "# 打印\n",
    "print('Success!')"
   ]
  },
  {
   "cell_type": "code",
   "execution_count": null,
   "id": "0ac450ad-e943-40b2-b7d6-d4fa5830a131",
   "metadata": {
    "execution": {
     "iopub.execute_input": "2023-08-08T05:35:34.942070Z",
     "iopub.status.busy": "2023-08-08T05:35:34.941704Z",
     "iopub.status.idle": "2023-08-08T05:35:34.978950Z",
     "shell.execute_reply": "2023-08-08T05:35:34.978542Z",
     "shell.execute_reply.started": "2023-08-08T05:35:34.942049Z"
    }
   },
   "outputs": [],
   "source": [
    "# 建立网络模型\n",
    "net.build()\n",
    "\n",
    "# 打印\n",
    "print('Build success!')\n",
    "\n",
    "# 保存网络模型的文件\n",
    "net.save_nodes(output_dir='sim_ch01/network')\n",
    "\n",
    "# 打印\n",
    "print('Save success!')"
   ]
  },
  {
   "cell_type": "code",
   "execution_count": null,
   "id": "bbccaf51-77d7-4f15-8fb9-91c375e83af1",
   "metadata": {
    "execution": {
     "iopub.execute_input": "2023-08-08T05:35:34.979870Z",
     "iopub.status.busy": "2023-08-08T05:35:34.979537Z",
     "iopub.status.idle": "2023-08-08T05:35:34.982444Z",
     "shell.execute_reply": "2023-08-08T05:35:34.982029Z",
     "shell.execute_reply.started": "2023-08-08T05:35:34.979854Z"
    }
   },
   "outputs": [],
   "source": [
    "# 利用.nodes()方法获取模型参数\n",
    "for node in net.nodes():\n",
    "    print(node)\n",
    "\n",
    "# 打印\n",
    "print('Finish!')"
   ]
  },
  {
   "cell_type": "code",
   "execution_count": null,
   "id": "50f5d1a2-ca1d-413d-a1a2-5f3e73fa0bc3",
   "metadata": {
    "execution": {
     "iopub.execute_input": "2023-08-08T05:35:34.983200Z",
     "iopub.status.busy": "2023-08-08T05:35:34.982976Z",
     "iopub.status.idle": "2023-08-08T05:35:35.834316Z",
     "shell.execute_reply": "2023-08-08T05:35:35.833709Z",
     "shell.execute_reply.started": "2023-08-08T05:35:34.983185Z"
    }
   },
   "outputs": [],
   "source": [
    "from bmtk.utils.sim_setup import build_env_bionet\n",
    "\n",
    "# 设置模拟的环境\n",
    "build_env_bionet(\n",
    "    base_dir='sim_ch01',       # 脚本与配置文件夹\n",
    "    config_file='config.json', # 配置文件\n",
    "    network_dir='network',     # 存储网络文件的文件夹地址\n",
    "    tstop=2000.0, dt=0.1,      # tstop是刺激的持续时间；dt的刺激间间隔（单位均为ms）\n",
    "    report_vars=['v', 'cai'],  # 告诉模拟器，我们要记录膜电位（用'v'表示）和钙离子轨迹（用'cai'表示）\n",
    "    current_clamp={            # 创建阶跃电流 \n",
    "        'amp': 0.120,          # 电流大小\n",
    "        'delay': 500.0,        # 从t0延迟500.0ms再开始\n",
    "        'duration': 1000.0     # 持续时间1000.0ms\n",
    "    },\n",
    "    include_examples=True,    # 是否为教程示例复制组件文件，设为True\n",
    "    compile_mechanisms=True   # 是否尝试编译神经元机制，设为True\n",
    ")\n",
    "\n",
    "# 打印\n",
    "print('Set up success!')"
   ]
  },
  {
   "cell_type": "code",
   "execution_count": null,
   "id": "40229b7f-43b6-4604-a2ab-438a7ed328d9",
   "metadata": {
    "execution": {
     "iopub.execute_input": "2023-08-08T05:35:35.835673Z",
     "iopub.status.busy": "2023-08-08T05:35:35.835370Z",
     "iopub.status.idle": "2023-08-08T05:35:39.677182Z",
     "shell.execute_reply": "2023-08-08T05:35:39.676649Z",
     "shell.execute_reply.started": "2023-08-08T05:35:35.835650Z"
    }
   },
   "outputs": [],
   "source": [
    "from bmtk.simulator import bionet\n",
    "\n",
    "# 设置配置文件路径\n",
    "conf = bionet.Config.from_json('sim_ch01/config.json')\n",
    "\n",
    "# 打印\n",
    "print('Success!')\n",
    "\n",
    "# 建立环境\n",
    "conf.build_env()\n",
    "\n",
    "# 打印\n",
    "print('Build success!')\n"
   ]
  },
  {
   "cell_type": "code",
   "execution_count": null,
   "id": "7195baf1-c98e-4f01-a99d-133936bd79e0",
   "metadata": {
    "execution": {
     "iopub.execute_input": "2023-08-08T05:35:39.679592Z",
     "iopub.status.busy": "2023-08-08T05:35:39.679254Z",
     "iopub.status.idle": "2023-08-08T05:35:39.697179Z",
     "shell.execute_reply": "2023-08-08T05:35:39.696739Z",
     "shell.execute_reply.started": "2023-08-08T05:35:39.679570Z"
    }
   },
   "outputs": [],
   "source": [
    "# 搭建网络\n",
    "net = bionet.BioNetwork.from_config(conf)\n",
    "\n",
    "# 打印\n",
    "print('Net success!')"
   ]
  },
  {
   "cell_type": "code",
   "execution_count": null,
   "id": "c460c09c-0f19-48cd-870e-4f72d1c94145",
   "metadata": {
    "execution": {
     "iopub.execute_input": "2023-08-08T05:35:39.698104Z",
     "iopub.status.busy": "2023-08-08T05:35:39.697774Z",
     "iopub.status.idle": "2023-08-08T05:35:39.776549Z",
     "shell.execute_reply": "2023-08-08T05:35:39.776135Z",
     "shell.execute_reply.started": "2023-08-08T05:35:39.698086Z"
    }
   },
   "outputs": [],
   "source": [
    "# 创建刺激\n",
    "sim = bionet.BioSimulator.from_config(conf, network=net)\n",
    "\n",
    "# 打印\n",
    "print('Srimulus success!')"
   ]
  },
  {
   "cell_type": "code",
   "execution_count": null,
   "id": "9a83fd7a-d028-40ee-987e-5d2d7b109ee5",
   "metadata": {
    "execution": {
     "iopub.execute_input": "2023-08-08T05:35:39.777446Z",
     "iopub.status.busy": "2023-08-08T05:35:39.777128Z",
     "iopub.status.idle": "2023-08-08T05:35:40.677998Z",
     "shell.execute_reply": "2023-08-08T05:35:40.677581Z",
     "shell.execute_reply.started": "2023-08-08T05:35:39.777428Z"
    }
   },
   "outputs": [],
   "source": [
    "# 运行\n",
    "sim.run()"
   ]
  },
  {
   "cell_type": "code",
   "execution_count": null,
   "id": "5c176c1b-3a24-4fb5-a439-8121603b886f",
   "metadata": {
    "execution": {
     "iopub.execute_input": "2023-08-08T05:35:40.678941Z",
     "iopub.status.busy": "2023-08-08T05:35:40.678610Z",
     "iopub.status.idle": "2023-08-08T05:35:40.910637Z",
     "shell.execute_reply": "2023-08-08T05:35:40.910196Z",
     "shell.execute_reply.started": "2023-08-08T05:35:40.678925Z"
    }
   },
   "outputs": [],
   "source": [
    "from bmtk.analyzer.spike_trains import to_dataframe\n",
    "\n",
    "# 显示数据\n",
    "to_dataframe(config_file='sim_ch01/config.json')"
   ]
  },
  {
   "cell_type": "code",
   "execution_count": null,
   "id": "a9903274-f175-4d7d-9244-f119452cbe6b",
   "metadata": {
    "execution": {
     "iopub.execute_input": "2023-08-08T05:35:40.911556Z",
     "iopub.status.busy": "2023-08-08T05:35:40.911321Z",
     "iopub.status.idle": "2023-08-08T05:35:41.133607Z",
     "shell.execute_reply": "2023-08-08T05:35:41.133164Z",
     "shell.execute_reply.started": "2023-08-08T05:35:40.911540Z"
    }
   },
   "outputs": [],
   "source": [
    "from bmtk.analyzer.compartment import plot_traces\n",
    "\n",
    "# 分析数据\n",
    "_ = plot_traces(config_file='sim_ch01/config.json', node_ids=[0], report_name='v_report')\n",
    "_ = plot_traces(config_file='sim_ch01/config.json', node_ids=[0], report_name='cai_report')"
   ]
  }
 ],
 "metadata": {
  "kernelspec": {
   "display_name": "Python 3 (ipykernel)",
   "language": "python",
   "name": "python3"
  },
  "language_info": {
   "codemirror_mode": {
    "name": "ipython",
    "version": 3
   },
   "file_extension": ".py",
   "mimetype": "text/x-python",
   "name": "python",
   "nbconvert_exporter": "python",
   "pygments_lexer": "ipython3",
   "version": "3.8.0"
  }
 },
 "nbformat": 4,
 "nbformat_minor": 5
}
