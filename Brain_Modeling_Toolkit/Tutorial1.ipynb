{
 "cells": [
  {
   "cell_type": "code",
   "execution_count": 1,
   "id": "088ab3c7-a252-4d41-ac88-2808405cd5e8",
   "metadata": {
    "execution": {
     "iopub.execute_input": "2023-08-08T05:35:34.129748Z",
     "iopub.status.busy": "2023-08-08T05:35:34.129410Z",
     "iopub.status.idle": "2023-08-08T05:35:34.132493Z",
     "shell.execute_reply": "2023-08-08T05:35:34.131891Z",
     "shell.execute_reply.started": "2023-08-08T05:35:34.129728Z"
    }
   },
   "outputs": [],
   "source": [
    "# Tutorial 1: Single cell simulation with current injection (with BioNet)"
   ]
  },
  {
   "cell_type": "code",
   "execution_count": 2,
   "id": "2b5ce83a-c40c-4d5c-84ed-773eb441e641",
   "metadata": {
    "execution": {
     "iopub.execute_input": "2023-08-08T05:35:34.133293Z",
     "iopub.status.busy": "2023-08-08T05:35:34.133150Z",
     "iopub.status.idle": "2023-08-08T05:35:34.940779Z",
     "shell.execute_reply": "2023-08-08T05:35:34.940233Z",
     "shell.execute_reply.started": "2023-08-08T05:35:34.133279Z"
    }
   },
   "outputs": [
    {
     "name": "stdout",
     "output_type": "stream",
     "text": [
      "Success!\n"
     ]
    }
   ],
   "source": [
    "from bmtk.builder.networks import NetworkBuilder\n",
    "\n",
    "# 实例化网络，取名mcortex\n",
    "net = NetworkBuilder('mcortex')\n",
    "\n",
    "# 添加单个节点\n",
    "net.add_nodes(\n",
    "    cell_name='Scnn1a_473845048',  # 细胞名称\n",
    "    potential='exc',  # 电位：兴奋性细胞\n",
    "    model_type='biophysical',  # 模型类型：生物物理学模型\n",
    "    model_template='ctdb:Biophys1.hoc',  # 模板文件\n",
    "    model_processing='aibs_perisomatic',  # 加载模型\n",
    "    dynamics_params='472363762_fit.json',  # 模型参数文件\n",
    "    morphology='Scnn1a_473845048_m.swc'  # 模型结构文件\n",
    ")\n",
    "\n",
    "# 打印\n",
    "print('Success!')"
   ]
  },
  {
   "cell_type": "code",
   "execution_count": 3,
   "id": "0ac450ad-e943-40b2-b7d6-d4fa5830a131",
   "metadata": {
    "execution": {
     "iopub.execute_input": "2023-08-08T05:35:34.942070Z",
     "iopub.status.busy": "2023-08-08T05:35:34.941704Z",
     "iopub.status.idle": "2023-08-08T05:35:34.978950Z",
     "shell.execute_reply": "2023-08-08T05:35:34.978542Z",
     "shell.execute_reply.started": "2023-08-08T05:35:34.942049Z"
    }
   },
   "outputs": [
    {
     "name": "stdout",
     "output_type": "stream",
     "text": [
      "Build success!\n",
      "Save success!\n"
     ]
    }
   ],
   "source": [
    "# 建立网络模型\n",
    "net.build()\n",
    "\n",
    "# 打印\n",
    "print('Build success!')\n",
    "\n",
    "# 保存网络模型的文件\n",
    "net.save_nodes(output_dir='sim_ch01/network')\n",
    "\n",
    "# 打印\n",
    "print('Save success!')"
   ]
  },
  {
   "cell_type": "code",
   "execution_count": 4,
   "id": "bbccaf51-77d7-4f15-8fb9-91c375e83af1",
   "metadata": {
    "execution": {
     "iopub.execute_input": "2023-08-08T05:35:34.979870Z",
     "iopub.status.busy": "2023-08-08T05:35:34.979537Z",
     "iopub.status.idle": "2023-08-08T05:35:34.982444Z",
     "shell.execute_reply": "2023-08-08T05:35:34.982029Z",
     "shell.execute_reply.started": "2023-08-08T05:35:34.979854Z"
    }
   },
   "outputs": [
    {
     "name": "stdout",
     "output_type": "stream",
     "text": [
      "{'cell_name': 'Scnn1a_473845048', 'potential': 'exc', 'model_type': 'biophysical', 'model_template': 'ctdb:Biophys1.hoc', 'model_processing': 'aibs_perisomatic', 'dynamics_params': '472363762_fit.json', 'morphology': 'Scnn1a_473845048_m.swc', 'node_type_id': 100, 'node_id': 0}\n",
      "Finish!\n"
     ]
    }
   ],
   "source": [
    "# 利用.nodes()方法获取模型参数\n",
    "for node in net.nodes():\n",
    "    print(node)\n",
    "\n",
    "# 打印\n",
    "print('Finish!')"
   ]
  },
  {
   "cell_type": "code",
   "execution_count": 5,
   "id": "50f5d1a2-ca1d-413d-a1a2-5f3e73fa0bc3",
   "metadata": {
    "execution": {
     "iopub.execute_input": "2023-08-08T05:35:34.983200Z",
     "iopub.status.busy": "2023-08-08T05:35:34.982976Z",
     "iopub.status.idle": "2023-08-08T05:35:35.834316Z",
     "shell.execute_reply": "2023-08-08T05:35:35.833709Z",
     "shell.execute_reply.started": "2023-08-08T05:35:34.983185Z"
    }
   },
   "outputs": [
    {
     "name": "stderr",
     "output_type": "stream",
     "text": [
      "WARNING:root:Configuration file /home/tianyan/sim_ch01/config.json already exists, skipping. Please delete existing file, use a different name, or use overwrite_config=True.\n",
      "WARNING:root:Configuration file /home/tianyan/sim_ch01/circuit_config.json already exists, skipping. Please delete existing file, use a different name, or use overwrite_config=True.\n",
      "WARNING:root:Configuration file /home/tianyan/sim_ch01/simulation_config.json already exists, skipping. Please delete existing file, use a different name, or use overwrite_config=True.\n"
     ]
    },
    {
     "name": "stdout",
     "output_type": "stream",
     "text": [
      "/home/tianyan/sim_ch01/components/mechanisms\n",
      "Mod files: \"modfiles/modfiles/CaDynamics.mod\" \"modfiles/modfiles/Ca_HVA.mod\" \"modfiles/modfiles/Ca_LVA.mod\" \"modfiles/modfiles/Ih.mod\" \"modfiles/modfiles/Im.mod\" \"modfiles/modfiles/Im_v2.mod\" \"modfiles/modfiles/Kd.mod\" \"modfiles/modfiles/K_P.mod\" \"modfiles/modfiles/K_T.mod\" \"modfiles/modfiles/Kv2like.mod\" \"modfiles/modfiles/Kv3_1.mod\" \"modfiles/modfiles/Nap.mod\" \"modfiles/modfiles/NaTa.mod\" \"modfiles/modfiles/NaTs.mod\" \"modfiles/modfiles/NaV.mod\" \"modfiles/modfiles/SK.mod\" \"modfiles/modfiles/vecevent.mod\"\n",
      "\n",
      " -> \u001b[32mCompiling\u001b[0m mod_func.cpp\n",
      " => \u001b[32mLINKING\u001b[0m shared library ./libnrnmech.so\n",
      "Successfully created x86_64/special\n",
      "Set up success!\n"
     ]
    },
    {
     "name": "stderr",
     "output_type": "stream",
     "text": [
      "/opt/conda/bin/nrnivmodl:10: DeprecationWarning: pkg_resources is deprecated as an API. See https://setuptools.pypa.io/en/latest/pkg_resources.html\n",
      "  from pkg_resources import working_set\n"
     ]
    }
   ],
   "source": [
    "from bmtk.utils.sim_setup import build_env_bionet\n",
    "\n",
    "# 设置模拟的环境\n",
    "build_env_bionet(\n",
    "    base_dir='sim_ch01',       # 脚本与配置文件夹\n",
    "    config_file='config.json', # 配置文件\n",
    "    network_dir='network',     # 存储网络文件的文件夹地址\n",
    "    tstop=2000.0, dt=0.1,      # tstop是刺激的持续时间；dt的刺激间间隔（单位均为ms）\n",
    "    report_vars=['v', 'cai'],  # 告诉模拟器，我们要记录膜电位（用'v'表示）和钙离子轨迹（用'cai'表示）\n",
    "    current_clamp={            # 创建阶跃电流 \n",
    "        'amp': 0.120,          # 电流大小\n",
    "        'delay': 500.0,        # 从t0延迟500.0ms再开始\n",
    "        'duration': 1000.0     # 持续时间1000.0ms\n",
    "    },\n",
    "    include_examples=True,    # 是否为教程示例复制组件文件，设为True\n",
    "    compile_mechanisms=True   # 是否尝试编译神经元机制，设为True\n",
    ")\n",
    "\n",
    "# 打印\n",
    "print('Set up success!')"
   ]
  },
  {
   "cell_type": "code",
   "execution_count": 6,
   "id": "40229b7f-43b6-4604-a2ab-438a7ed328d9",
   "metadata": {
    "execution": {
     "iopub.execute_input": "2023-08-08T05:35:35.835673Z",
     "iopub.status.busy": "2023-08-08T05:35:35.835370Z",
     "iopub.status.idle": "2023-08-08T05:35:39.677182Z",
     "shell.execute_reply": "2023-08-08T05:35:39.676649Z",
     "shell.execute_reply.started": "2023-08-08T05:35:35.835650Z"
    }
   },
   "outputs": [
    {
     "name": "stdout",
     "output_type": "stream",
     "text": [
      "Success!\n",
      "2023-08-08 13:35:39,636 [INFO] Created log file\n"
     ]
    },
    {
     "name": "stderr",
     "output_type": "stream",
     "text": [
      "INFO:NEURONIOUtils:Created log file\n"
     ]
    },
    {
     "name": "stdout",
     "output_type": "stream",
     "text": [
      "numprocs=1\n",
      "Build success!\n"
     ]
    }
   ],
   "source": [
    "from bmtk.simulator import bionet\n",
    "\n",
    "# 设置配置文件路径\n",
    "conf = bionet.Config.from_json('sim_ch01/config.json')\n",
    "\n",
    "# 打印\n",
    "print('Success!')\n",
    "\n",
    "# 建立环境\n",
    "conf.build_env()\n",
    "\n",
    "# 打印\n",
    "print('Build success!')\n"
   ]
  },
  {
   "cell_type": "code",
   "execution_count": 7,
   "id": "7195baf1-c98e-4f01-a99d-133936bd79e0",
   "metadata": {
    "execution": {
     "iopub.execute_input": "2023-08-08T05:35:39.679592Z",
     "iopub.status.busy": "2023-08-08T05:35:39.679254Z",
     "iopub.status.idle": "2023-08-08T05:35:39.697179Z",
     "shell.execute_reply": "2023-08-08T05:35:39.696739Z",
     "shell.execute_reply.started": "2023-08-08T05:35:39.679570Z"
    }
   },
   "outputs": [
    {
     "name": "stdout",
     "output_type": "stream",
     "text": [
      "Net success!\n"
     ]
    }
   ],
   "source": [
    "# 搭建网络\n",
    "net = bionet.BioNetwork.from_config(conf)\n",
    "\n",
    "# 打印\n",
    "print('Net success!')"
   ]
  },
  {
   "cell_type": "code",
   "execution_count": 8,
   "id": "c460c09c-0f19-48cd-870e-4f72d1c94145",
   "metadata": {
    "execution": {
     "iopub.execute_input": "2023-08-08T05:35:39.698104Z",
     "iopub.status.busy": "2023-08-08T05:35:39.697774Z",
     "iopub.status.idle": "2023-08-08T05:35:39.776549Z",
     "shell.execute_reply": "2023-08-08T05:35:39.776135Z",
     "shell.execute_reply.started": "2023-08-08T05:35:39.698086Z"
    }
   },
   "outputs": [
    {
     "name": "stdout",
     "output_type": "stream",
     "text": [
      "2023-08-08 13:35:39,698 [INFO] Building cells.\n"
     ]
    },
    {
     "name": "stderr",
     "output_type": "stream",
     "text": [
      "INFO:NEURONIOUtils:Building cells.\n"
     ]
    },
    {
     "name": "stdout",
     "output_type": "stream",
     "text": [
      "2023-08-08 13:35:39,773 [INFO] Building recurrent connections\n"
     ]
    },
    {
     "name": "stderr",
     "output_type": "stream",
     "text": [
      "INFO:NEURONIOUtils:Building recurrent connections\n"
     ]
    },
    {
     "name": "stdout",
     "output_type": "stream",
     "text": [
      "Srimulus success!\n"
     ]
    }
   ],
   "source": [
    "# 创建刺激\n",
    "sim = bionet.BioSimulator.from_config(conf, network=net)\n",
    "\n",
    "# 打印\n",
    "print('Srimulus success!')"
   ]
  },
  {
   "cell_type": "code",
   "execution_count": 9,
   "id": "9a83fd7a-d028-40ee-987e-5d2d7b109ee5",
   "metadata": {
    "execution": {
     "iopub.execute_input": "2023-08-08T05:35:39.777446Z",
     "iopub.status.busy": "2023-08-08T05:35:39.777128Z",
     "iopub.status.idle": "2023-08-08T05:35:40.677998Z",
     "shell.execute_reply": "2023-08-08T05:35:40.677581Z",
     "shell.execute_reply.started": "2023-08-08T05:35:39.777428Z"
    }
   },
   "outputs": [
    {
     "name": "stdout",
     "output_type": "stream",
     "text": [
      "2023-08-08 13:35:39,784 [INFO] Running simulation for 2000.000 ms with the time step 0.100 ms\n"
     ]
    },
    {
     "name": "stderr",
     "output_type": "stream",
     "text": [
      "INFO:NEURONIOUtils:Running simulation for 2000.000 ms with the time step 0.100 ms\n"
     ]
    },
    {
     "name": "stdout",
     "output_type": "stream",
     "text": [
      "2023-08-08 13:35:39,785 [INFO] Starting timestep: 0 at t_sim: 0.000 ms\n"
     ]
    },
    {
     "name": "stderr",
     "output_type": "stream",
     "text": [
      "INFO:NEURONIOUtils:Starting timestep: 0 at t_sim: 0.000 ms\n"
     ]
    },
    {
     "name": "stdout",
     "output_type": "stream",
     "text": [
      "2023-08-08 13:35:39,785 [INFO] Block save every 5000 steps\n"
     ]
    },
    {
     "name": "stderr",
     "output_type": "stream",
     "text": [
      "INFO:NEURONIOUtils:Block save every 5000 steps\n"
     ]
    },
    {
     "name": "stdout",
     "output_type": "stream",
     "text": [
      "2023-08-08 13:35:40,020 [INFO]     step:5000 t_sim:500.00 ms\n"
     ]
    },
    {
     "name": "stderr",
     "output_type": "stream",
     "text": [
      "INFO:NEURONIOUtils:    step:5000 t_sim:500.00 ms\n"
     ]
    },
    {
     "name": "stdout",
     "output_type": "stream",
     "text": [
      "2023-08-08 13:35:40,229 [INFO]     step:10000 t_sim:1000.00 ms\n"
     ]
    },
    {
     "name": "stderr",
     "output_type": "stream",
     "text": [
      "INFO:NEURONIOUtils:    step:10000 t_sim:1000.00 ms\n"
     ]
    },
    {
     "name": "stdout",
     "output_type": "stream",
     "text": [
      "2023-08-08 13:35:40,437 [INFO]     step:15000 t_sim:1500.00 ms\n"
     ]
    },
    {
     "name": "stderr",
     "output_type": "stream",
     "text": [
      "INFO:NEURONIOUtils:    step:15000 t_sim:1500.00 ms\n"
     ]
    },
    {
     "name": "stdout",
     "output_type": "stream",
     "text": [
      "2023-08-08 13:35:40,645 [INFO]     step:20000 t_sim:2000.00 ms\n"
     ]
    },
    {
     "name": "stderr",
     "output_type": "stream",
     "text": [
      "INFO:NEURONIOUtils:    step:20000 t_sim:2000.00 ms\n"
     ]
    },
    {
     "name": "stdout",
     "output_type": "stream",
     "text": [
      "2023-08-08 13:35:40,675 [INFO] Simulation completed in 0.8914 seconds \n"
     ]
    },
    {
     "name": "stderr",
     "output_type": "stream",
     "text": [
      "INFO:NEURONIOUtils:Simulation completed in 0.8914 seconds \n"
     ]
    }
   ],
   "source": [
    "# 运行\n",
    "sim.run()"
   ]
  },
  {
   "cell_type": "code",
   "execution_count": 10,
   "id": "5c176c1b-3a24-4fb5-a439-8121603b886f",
   "metadata": {
    "execution": {
     "iopub.execute_input": "2023-08-08T05:35:40.678941Z",
     "iopub.status.busy": "2023-08-08T05:35:40.678610Z",
     "iopub.status.idle": "2023-08-08T05:35:40.910637Z",
     "shell.execute_reply": "2023-08-08T05:35:40.910196Z",
     "shell.execute_reply.started": "2023-08-08T05:35:40.678925Z"
    }
   },
   "outputs": [
    {
     "data": {
      "text/html": [
       "<div>\n",
       "<style scoped>\n",
       "    .dataframe tbody tr th:only-of-type {\n",
       "        vertical-align: middle;\n",
       "    }\n",
       "\n",
       "    .dataframe tbody tr th {\n",
       "        vertical-align: top;\n",
       "    }\n",
       "\n",
       "    .dataframe thead th {\n",
       "        text-align: right;\n",
       "    }\n",
       "</style>\n",
       "<table border=\"1\" class=\"dataframe\">\n",
       "  <thead>\n",
       "    <tr style=\"text-align: right;\">\n",
       "      <th></th>\n",
       "      <th>timestamps</th>\n",
       "      <th>node_ids</th>\n",
       "      <th>population</th>\n",
       "    </tr>\n",
       "  </thead>\n",
       "  <tbody>\n",
       "    <tr>\n",
       "      <th>0</th>\n",
       "      <td>554.8</td>\n",
       "      <td>0</td>\n",
       "      <td>mcortex</td>\n",
       "    </tr>\n",
       "    <tr>\n",
       "      <th>1</th>\n",
       "      <td>1379.5</td>\n",
       "      <td>0</td>\n",
       "      <td>mcortex</td>\n",
       "    </tr>\n",
       "    <tr>\n",
       "      <th>2</th>\n",
       "      <td>1319.5</td>\n",
       "      <td>0</td>\n",
       "      <td>mcortex</td>\n",
       "    </tr>\n",
       "    <tr>\n",
       "      <th>3</th>\n",
       "      <td>1259.5</td>\n",
       "      <td>0</td>\n",
       "      <td>mcortex</td>\n",
       "    </tr>\n",
       "    <tr>\n",
       "      <th>4</th>\n",
       "      <td>1199.5</td>\n",
       "      <td>0</td>\n",
       "      <td>mcortex</td>\n",
       "    </tr>\n",
       "    <tr>\n",
       "      <th>5</th>\n",
       "      <td>1139.7</td>\n",
       "      <td>0</td>\n",
       "      <td>mcortex</td>\n",
       "    </tr>\n",
       "    <tr>\n",
       "      <th>6</th>\n",
       "      <td>1079.9</td>\n",
       "      <td>0</td>\n",
       "      <td>mcortex</td>\n",
       "    </tr>\n",
       "    <tr>\n",
       "      <th>7</th>\n",
       "      <td>1020.4</td>\n",
       "      <td>0</td>\n",
       "      <td>mcortex</td>\n",
       "    </tr>\n",
       "    <tr>\n",
       "      <th>8</th>\n",
       "      <td>961.2</td>\n",
       "      <td>0</td>\n",
       "      <td>mcortex</td>\n",
       "    </tr>\n",
       "    <tr>\n",
       "      <th>9</th>\n",
       "      <td>902.6</td>\n",
       "      <td>0</td>\n",
       "      <td>mcortex</td>\n",
       "    </tr>\n",
       "    <tr>\n",
       "      <th>10</th>\n",
       "      <td>844.9</td>\n",
       "      <td>0</td>\n",
       "      <td>mcortex</td>\n",
       "    </tr>\n",
       "    <tr>\n",
       "      <th>11</th>\n",
       "      <td>788.7</td>\n",
       "      <td>0</td>\n",
       "      <td>mcortex</td>\n",
       "    </tr>\n",
       "    <tr>\n",
       "      <th>12</th>\n",
       "      <td>734.7</td>\n",
       "      <td>0</td>\n",
       "      <td>mcortex</td>\n",
       "    </tr>\n",
       "    <tr>\n",
       "      <th>13</th>\n",
       "      <td>683.9</td>\n",
       "      <td>0</td>\n",
       "      <td>mcortex</td>\n",
       "    </tr>\n",
       "    <tr>\n",
       "      <th>14</th>\n",
       "      <td>637.1</td>\n",
       "      <td>0</td>\n",
       "      <td>mcortex</td>\n",
       "    </tr>\n",
       "    <tr>\n",
       "      <th>15</th>\n",
       "      <td>594.4</td>\n",
       "      <td>0</td>\n",
       "      <td>mcortex</td>\n",
       "    </tr>\n",
       "    <tr>\n",
       "      <th>16</th>\n",
       "      <td>1439.6</td>\n",
       "      <td>0</td>\n",
       "      <td>mcortex</td>\n",
       "    </tr>\n",
       "    <tr>\n",
       "      <th>17</th>\n",
       "      <td>1499.7</td>\n",
       "      <td>0</td>\n",
       "      <td>mcortex</td>\n",
       "    </tr>\n",
       "  </tbody>\n",
       "</table>\n",
       "</div>"
      ],
      "text/plain": [
       "    timestamps  node_ids population\n",
       "0        554.8         0    mcortex\n",
       "1       1379.5         0    mcortex\n",
       "2       1319.5         0    mcortex\n",
       "3       1259.5         0    mcortex\n",
       "4       1199.5         0    mcortex\n",
       "5       1139.7         0    mcortex\n",
       "6       1079.9         0    mcortex\n",
       "7       1020.4         0    mcortex\n",
       "8        961.2         0    mcortex\n",
       "9        902.6         0    mcortex\n",
       "10       844.9         0    mcortex\n",
       "11       788.7         0    mcortex\n",
       "12       734.7         0    mcortex\n",
       "13       683.9         0    mcortex\n",
       "14       637.1         0    mcortex\n",
       "15       594.4         0    mcortex\n",
       "16      1439.6         0    mcortex\n",
       "17      1499.7         0    mcortex"
      ]
     },
     "execution_count": 10,
     "metadata": {},
     "output_type": "execute_result"
    }
   ],
   "source": [
    "from bmtk.analyzer.spike_trains import to_dataframe\n",
    "\n",
    "# 显示数据\n",
    "to_dataframe(config_file='sim_ch01/config.json')"
   ]
  },
  {
   "cell_type": "code",
   "execution_count": 11,
   "id": "a9903274-f175-4d7d-9244-f119452cbe6b",
   "metadata": {
    "execution": {
     "iopub.execute_input": "2023-08-08T05:35:40.911556Z",
     "iopub.status.busy": "2023-08-08T05:35:40.911321Z",
     "iopub.status.idle": "2023-08-08T05:35:41.133607Z",
     "shell.execute_reply": "2023-08-08T05:35:41.133164Z",
     "shell.execute_reply.started": "2023-08-08T05:35:40.911540Z"
    }
   },
   "outputs": [
    {
     "data": {
      "image/png": "[encoded data removed]",
      "text/plain": [
       "<Figure size 640x480 with 1 Axes>"
      ]
     },
     "metadata": {},
     "output_type": "display_data"
    },
    {
     "data": {
      "image/png": "[encoded data removed]",
      "text/plain": [
       "<Figure size 640x480 with 1 Axes>"
      ]
     },
     "metadata": {},
     "output_type": "display_data"
    }
   ],
   "source": [
    "from bmtk.analyzer.compartment import plot_traces\n",
    "\n",
    "# 分析数据\n",
    "_ = plot_traces(config_file='sim_ch01/config.json', node_ids=[0], report_name='v_report')\n",
    "_ = plot_traces(config_file='sim_ch01/config.json', node_ids=[0], report_name='cai_report')"
   ]
  },
  {
   "cell_type": "code",
   "execution_count": null,
   "id": "c3b7d6a8-82ad-469a-9563-5e73d34afd74",
   "metadata": {},
   "outputs": [],
   "source": []
  }
 ],
 "metadata": {
  "kernelspec": {
   "display_name": "Python 3 (ipykernel)",
   "language": "python",
   "name": "python3"
  },
  "language_info": {
   "codemirror_mode": {
    "name": "ipython",
    "version": 3
   },
   "file_extension": ".py",
   "mimetype": "text/x-python",
   "name": "python",
   "nbconvert_exporter": "python",
   "pygments_lexer": "ipython3",
   "version": "3.8.0"
  }
 },
 "nbformat": 4,
 "nbformat_minor": 5
}
