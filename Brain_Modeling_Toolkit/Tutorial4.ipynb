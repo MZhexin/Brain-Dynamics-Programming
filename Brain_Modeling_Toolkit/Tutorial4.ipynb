{
 "cells": [
  {
   "cell_type": "code",
   "execution_count": null,
   "id": "20fa1371-5b33-481c-9433-96ab093ff375",
   "metadata": {
    "execution": {
     "iopub.execute_input": "2023-07-26T01:36:26.350729Z",
     "iopub.status.busy": "2023-07-26T01:36:26.350297Z",
     "iopub.status.idle": "2023-07-26T01:36:26.354174Z",
     "shell.execute_reply": "2023-07-26T01:36:26.353652Z",
     "shell.execute_reply.started": "2023-07-26T01:36:26.350711Z"
    }
   },
   "outputs": [],
   "source": [
    "# Tutorial 4: Multi-population recurrent network (with BioNet)"
   ]
  },
  {
   "cell_type": "code",
   "execution_count": null,
   "id": "6528c4af-4056-47fc-bd9f-0a69cce72fa0",
   "metadata": {
    "execution": {
     "iopub.execute_input": "2023-07-26T01:51:46.455398Z",
     "iopub.status.busy": "2023-07-26T01:51:46.454877Z",
     "iopub.status.idle": "2023-07-26T01:51:46.458726Z",
     "shell.execute_reply": "2023-07-26T01:51:46.458236Z",
     "shell.execute_reply.started": "2023-07-26T01:51:46.455377Z"
    }
   },
   "outputs": [],
   "source": [
    "# 一般来说，用户可以为细胞和细胞类型分配任何自定义参数，并将其用作创建连接和运行模拟的属性"
   ]
  },
  {
   "cell_type": "code",
   "execution_count": null,
   "id": "af3a04df-92f6-4c26-821f-5048c157f6b4",
   "metadata": {
    "execution": {
     "iopub.execute_input": "2023-07-26T04:50:07.470933Z",
     "iopub.status.busy": "2023-07-26T04:50:07.470454Z",
     "iopub.status.idle": "2023-07-26T04:50:07.481840Z",
     "shell.execute_reply": "2023-07-26T04:50:07.480609Z",
     "shell.execute_reply.started": "2023-07-26T04:50:07.470909Z"
    },
    "tags": []
   },
   "outputs": [],
   "source": [
    "import numpy as np\n",
    "from bmtk.builder.networks import NetworkBuilder\n",
    "from bmtk.builder.auxi.node_params import positions_columinar, xiter_random\n",
    "\n",
    "# 构建类似小鼠初级视觉皮层柱的结构，且沿着柱的中心有40个兴奋性Scnnla细胞和10个抑制性PV细胞\n",
    "net = NetworkBuilder(\"V1\")\n",
    "\n",
    "# 添加兴奋性Scnnla细胞（N = 40 × 2 = 80）\n",
    "net.add_nodes(\n",
    "    N=80, pop_name='Scnn1a',  # 细胞的个数和名称\n",
    "    positions=positions_columinar(N=80, center=[0, 50.0, 0], max_radius=30.0, height=100.0),  # 中心位置\n",
    "    rotation_angle_yaxis=xiter_random(N=80, min_x=0.0, max_x=2*np.pi),  # y轴旋转角度\n",
    "    rotation_angle_zaxis=xiter_random(N=80, min_x=0.0, max_x=2*np.pi),  # z轴旋转角度\n",
    "    tuning_angle=np.linspace(start=0.0, stop=360.0, num=80, endpoint=False),  # 细胞内部的“调谐角（turning angle）”\n",
    "                                                                              # 用np.linspace函数生成从0到360等差的80个数（endpoint=False表示不包含360）\n",
    "    # 宏的细胞类型参数，对全部的80个神经元都有效\n",
    "    location='VisL4',\n",
    "    ei='e',\n",
    "    model_type='biophysical',\n",
    "    model_template='ctdb:Biophys1.hoc',\n",
    "    model_processing='aibs_perisomatic',\n",
    "    dynamics_params='472363762_fit.json',\n",
    "    morphology='Scnn1a_473845048_m.swc'\n",
    ")\n",
    "\n",
    "\n",
    "# 添加抑制性PV细胞（N = 10 × 2 = 20），参数意义同Scnnla\n",
    "net.add_nodes(\n",
    "    N=20, pop_name='PV',\n",
    "    positions=positions_columinar(N=20, center=[0, 50.0, 0], max_radius=30.0, height=100.0),\n",
    "    rotation_angle_yaxis=xiter_random(N=20, min_x=0.0, max_x=2*np.pi),\n",
    "    rotation_angle_zaxis=xiter_random(N=20, min_x=0.0, max_x=2*np.pi),\n",
    "    location='VisL4',\n",
    "    ei='i',\n",
    "    model_type='biophysical',\n",
    "    model_template='ctdb:Biophys1.hoc',\n",
    "    model_processing='aibs_perisomatic',\n",
    "    dynamics_params='472912177_fit.json',\n",
    "    morphology='Pvalb_470522102_m.swc'\n",
    ")\n",
    "\n",
    "# 打印\n",
    "print('Success!')"
   ]
  },
  {
   "cell_type": "code",
   "execution_count": null,
   "id": "b25bd719-c4c7-48c3-b90e-a904a623ca2c",
   "metadata": {
    "execution": {
     "iopub.execute_input": "2023-07-26T04:50:10.073672Z",
     "iopub.status.busy": "2023-07-26T04:50:10.073242Z",
     "iopub.status.idle": "2023-07-26T04:50:10.079543Z",
     "shell.execute_reply": "2023-07-26T04:50:10.078948Z",
     "shell.execute_reply.started": "2023-07-26T04:50:10.073653Z"
    },
    "tags": []
   },
   "outputs": [],
   "source": [
    "# 构建点神经元（Point Neuron），使用整合发放模型（Integrate-and-Fire Model）\n",
    "# 点神经元没有rotation等属性\n",
    "net.add_nodes(\n",
    "    N=200, pop_name='LIF_exc',\n",
    "    positions=positions_columinar(N=200, center=[0, 50.0, 0], min_radius=30.0, max_radius=60.0, height=100.0),\n",
    "    tuning_angle=np.linspace(start=0.0, stop=360.0, num=200, endpoint=False),\n",
    "    location='VisL4',\n",
    "    ei='e',\n",
    "    model_type='point_process',\n",
    "    model_template='nrn:IntFire1',\n",
    "    dynamics_params='IntFire1_exc_1.json'\n",
    ")\n",
    "\n",
    "net.add_nodes(\n",
    "    N=100, pop_name='LIF_inh',\n",
    "    positions=positions_columinar(N=100, center=[0, 50.0, 0], min_radius=30.0, max_radius=60.0, height=100.0),\n",
    "    location='VisL4',\n",
    "    ei='i',\n",
    "    model_type='point_process',\n",
    "    model_template='nrn:IntFire1',\n",
    "    dynamics_params='IntFire1_inh_1.json'\n",
    ")\n",
    "\n",
    "# 打印\n",
    "print('Success!')"
   ]
  },
  {
   "cell_type": "code",
   "execution_count": null,
   "id": "19f5dd6f-260d-4144-a57a-2581e5d63670",
   "metadata": {
    "execution": {
     "iopub.execute_input": "2023-07-26T04:50:12.510085Z",
     "iopub.status.busy": "2023-07-26T04:50:12.509672Z",
     "iopub.status.idle": "2023-07-26T04:50:12.517173Z",
     "shell.execute_reply": "2023-07-26T04:50:12.516667Z",
     "shell.execute_reply.started": "2023-07-26T04:50:12.510066Z"
    },
    "tags": []
   },
   "outputs": [],
   "source": [
    "# 建立连接\n",
    "# 注意，对于不同的模型类型、source神经元的兴奋与否、抑制与否，都要使用不同的突触类型与参数\n",
    "# 利用距离和调谐角属性确定兴奋-兴奋连接矩阵，为此构造函数dist_tuning_connector\n",
    "\n",
    "import random\n",
    "import math\n",
    "\n",
    "# 对于用户构造的每个自定义函数，都必须有source和target参数\n",
    "# d是距离，d_weight是距离的权重，nsyn是连接数，t是调谐角的权重\n",
    "# max和 min表示数值取这两个端点值中间的随机数\n",
    "def dist_tuning_connector(source, target, d_weight_min, d_weight_max, d_max, t_weight_min, t_weight_max, nsyn_min, nsyn_max):\n",
    "    \n",
    "    # 当起始节点与目标节点相同时返回None以防止自身连接\n",
    "    if source['node_id'] == target['node_id']:\n",
    "        return None\n",
    "    \n",
    "    r = np.linalg.norm(np.array(source['positions']) - np.array(target['positions']))  # 起始节点与目标节点之间的距离\n",
    "    \n",
    "    # 计算距离的权重\n",
    "    if r > d_max:  # 如果节点之间的距离大于我们想要的最大距离，则令这条连接上的权重为0（即舍弃这条连接）\n",
    "        dw = 0.0  # 赋0和None意义一样，都表示舍弃这条连接，但是None无法在下面的if条件中比大小，因此只能赋值0\n",
    "    else:\n",
    "        # 对于不舍弃的连接，计算其权重，公式如下\n",
    "        t = r / d_max\n",
    "        dw = d_weight_max * (1.0 - t) + d_weight_min * t\n",
    "    \n",
    "    # 若计算出来的权重太低，则丢弃\n",
    "    if dw <= 0:\n",
    "        return None\n",
    "\n",
    "    # 如果细胞中有tuning_angle属性，则计算调谐角的权重，若没有，则令调谐角权重等于距离权重，即令tw = dw\n",
    "    if 'tuning_angle' in source and 'tuning_angle' in target:\n",
    "\n",
    "        # 0°-180°和180°-360°没差，因此建模的时候只用0°-180°就行了\n",
    "        delta_tuning = math.fmod(abs(source['tuning_angle'] - target['tuning_angle']), 180.0)  # 利用math.fmod函数计算节点间角度差绝对值与180°的取余结果\n",
    "\n",
    "        # 90°-180°需要翻转，然后归一化为0-1\n",
    "        delta_tuning = delta_tuning if delta_tuning < 90.0 else 180.0 - delta_tuning\n",
    "        \n",
    "        # 计算权重\n",
    "        t = delta_tuning / 90.0\n",
    "        tw = t_weight_max * (1.0 - t) + t_weight_min * t\n",
    "    else:\n",
    "        tw = dw\n",
    "\n",
    "    # 若计算出来的权重太低，则丢弃\n",
    "    if tw <= 0:\n",
    "        return None\n",
    "\n",
    "    # 通过将权重视为连接概率来过滤掉节点\n",
    "    # 若生成的0-1间随机数大于调谐角权重，则舍弃该连接\n",
    "    if random.random() > tw:\n",
    "        return None\n",
    "\n",
    "    # 给这条连接添加突触个数\n",
    "    # 利用random.randint函数生成nsyn_min（我们期望的最小突触个数）和nsyn_max（我们期望的最大突触个数）之间的随机整数（注意是整数）\n",
    "    return random.randint(nsyn_min, nsyn_max)\n",
    "\n",
    "# 打印\n",
    "print('Function defined success!')"
   ]
  },
  {
   "cell_type": "code",
   "execution_count": null,
   "id": "49a6ea6a-5c76-4cae-9040-ba8aae1ed37f",
   "metadata": {
    "execution": {
     "iopub.execute_input": "2023-07-26T04:50:15.416366Z",
     "iopub.status.busy": "2023-07-26T04:50:15.415959Z",
     "iopub.status.idle": "2023-07-26T04:50:15.422268Z",
     "shell.execute_reply": "2023-07-26T04:50:15.421631Z",
     "shell.execute_reply.started": "2023-07-26T04:50:15.416348Z"
    },
    "tags": []
   },
   "outputs": [],
   "source": [
    "# 添加边\n",
    "net.add_edges(\n",
    "    source={'ei': 'e'}, target={'pop_name': 'Scnn1a'},\n",
    "    connection_rule=dist_tuning_connector,\n",
    "    connection_params={'d_weight_min': 0.0, 'd_weight_max': 0.34, 'd_max': 300.0, 't_weight_min': 0.5,\n",
    "                       't_weight_max': 1.0, 'nsyn_min': 3, 'nsyn_max': 7},\n",
    "    syn_weight=5e-05,\n",
    "    weight_function='gaussianLL',\n",
    "    weight_sigma=50.0,\n",
    "    distance_range=[30.0, 150.0],\n",
    "    target_sections=['basal', 'apical'],\n",
    "    delay=2.0,\n",
    "    dynamics_params='AMPA_ExcToExc.json',\n",
    "    model_template='exp2syn'\n",
    ")\n",
    "\n",
    "net.add_edges(\n",
    "    source={'ei': 'e'}, target={'pop_name': 'LIF_exc'},\n",
    "    connection_rule=dist_tuning_connector,\n",
    "    connection_params={'d_weight_min': 0.0, 'd_weight_max': 0.34, 'd_max': 300.0, 't_weight_min': 0.5,\n",
    "                       't_weight_max': 1.0, 'nsyn_min': 3, 'nsyn_max': 7},\n",
    "    syn_weight=0.0019,\n",
    "    weight_function='gaussianLL',\n",
    "    weight_sigma=50.0,\n",
    "    delay=2.0,\n",
    "    dynamics_params='instantaneousExc.json',\n",
    "    model_template='exp2syn'\n",
    ")\n",
    "\n",
    "# 打印\n",
    "print('Success!')"
   ]
  },
  {
   "cell_type": "code",
   "execution_count": null,
   "id": "cea7763d-8e6c-4be4-931e-0b066ab30f2b",
   "metadata": {
    "execution": {
     "iopub.execute_input": "2023-07-26T04:50:17.663363Z",
     "iopub.status.busy": "2023-07-26T04:50:17.662960Z",
     "iopub.status.idle": "2023-07-26T04:50:17.672875Z",
     "shell.execute_reply": "2023-07-26T04:50:17.672274Z",
     "shell.execute_reply.started": "2023-07-26T04:50:17.663343Z"
    },
    "tags": []
   },
   "outputs": [],
   "source": [
    "from bmtk.builder.auxi.edge_connectors import distance_connector\n",
    "\n",
    "# 同理，构建其他连接\n",
    "# 考虑到其他细胞没有调谐角参数，因此我们不使用自定义的dist_tuning_connector函数，而是调用封装好的distance_connector函数\n",
    "\n",
    "# 抑制-抑制连接\n",
    "net.add_edges(\n",
    "    source={'ei': 'i'}, target={'ei': 'i', 'model_type': 'biophysical'},\n",
    "    connection_rule=distance_connector,\n",
    "    connection_params={'d_weight_min': 0.0, 'd_weight_max': 1.0, 'd_max': 160.0, 'nsyn_min': 3, 'nsyn_max': 7},\n",
    "    syn_weight=0.0002,\n",
    "    weight_function='wmax',\n",
    "    distance_range=[0.0, 1e+20],\n",
    "    target_sections=['somatic', 'basal'],\n",
    "    delay=2.0,\n",
    "    dynamics_params='GABA_InhToInh.json',\n",
    "    model_template='exp2syn'\n",
    ")\n",
    "\n",
    "net.add_edges(\n",
    "    source={'ei': 'i'}, target={'ei': 'i', 'model_type': 'point_process'},\n",
    "    connection_rule=distance_connector,\n",
    "    connection_params={'d_weight_min': 0.0, 'd_weight_max': 1.0, 'd_max': 160.0, 'nsyn_min': 3, 'nsyn_max': 7},\n",
    "    syn_weight=0.001,\n",
    "    weight_function='wmax',\n",
    "    delay=2.0,\n",
    "    dynamics_params='instantaneousInh.json',\n",
    "    model_template='exp2syn'\n",
    ")\n",
    "\n",
    "\n",
    "# 抑制-兴奋连接\n",
    "net.add_edges(\n",
    "    source={'ei': 'i'}, target={'ei': 'e', 'model_type': 'biophysical'},\n",
    "    connection_rule=distance_connector,\n",
    "    connection_params={'d_weight_min': 0.0, 'd_weight_max': 1.0, 'd_max': 160.0, 'nsyn_min': 3, 'nsyn_max': 7},\n",
    "    syn_weight=0.0001,\n",
    "    weight_function='wmax',\n",
    "    distance_range=[0.0, 50.0],\n",
    "    target_sections=['somatic', 'basal', 'apical'],\n",
    "    delay=2.0,\n",
    "    dynamics_params='GABA_InhToExc.json',\n",
    "    model_template='exp2syn'\n",
    ")\n",
    "\n",
    "net.add_edges(\n",
    "    source={'ei': 'i'}, target={'ei': 'e', 'model_type': 'point_process'},\n",
    "    connection_rule=distance_connector,\n",
    "    connection_params={'d_weight_min': 0.0, 'd_weight_max': 1.0, 'd_max': 160.0, 'nsyn_min': 3, 'nsyn_max': 7},\n",
    "    syn_weight=0.009,\n",
    "    weight_function='wmax',\n",
    "    delay=2.0,\n",
    "    dynamics_params='instantaneousInh.json',\n",
    "    model_template='exp2syn'\n",
    ")\n",
    "\n",
    "\n",
    "# 兴奋-抑制连接\n",
    "net.add_edges(\n",
    "    source={'ei': 'e'}, target={'pop_name': 'PV'},\n",
    "    connection_rule=distance_connector,\n",
    "    connection_params={'d_weight_min': 0.0, 'd_weight_max': 0.26, 'd_max': 300.0, 'nsyn_min': 3, 'nsyn_max': 7},\n",
    "    syn_weight=0.004,\n",
    "    weight_function='wmax',\n",
    "    distance_range=[0.0, 1e+20],\n",
    "    target_sections=['somatic', 'basal'],\n",
    "    delay=2.0,\n",
    "    dynamics_params='AMPA_ExcToInh.json',\n",
    "    model_template='exp2syn'\n",
    ")\n",
    "\n",
    "net.add_edges(\n",
    "    source={'ei': 'e'}, target={'pop_name': 'LIF_inh'},\n",
    "    connection_rule=distance_connector,\n",
    "    connection_params={'d_weight_min': 0.0, 'd_weight_max': 0.26, 'd_max': 300.0, 'nsyn_min': 3, 'nsyn_max': 7},\n",
    "    syn_weight=0.006,\n",
    "    weight_function='wmax',\n",
    "    delay=2.0,\n",
    "    dynamics_params='instantaneousExc.json',\n",
    "    model_template='exp2syn'\n",
    ")\n",
    "\n",
    "# 打印\n",
    "print('Success!')"
   ]
  },
  {
   "cell_type": "code",
   "execution_count": null,
   "id": "316a982b-41e9-4471-ad9f-5f555de3a047",
   "metadata": {
    "execution": {
     "iopub.execute_input": "2023-07-26T04:50:19.607403Z",
     "iopub.status.busy": "2023-07-26T04:50:19.606163Z",
     "iopub.status.idle": "2023-07-26T04:50:21.412127Z",
     "shell.execute_reply": "2023-07-26T04:50:21.411408Z",
     "shell.execute_reply.started": "2023-07-26T04:50:19.607377Z"
    },
    "tags": []
   },
   "outputs": [],
   "source": [
    "# 构建与保存\n",
    "net.build()\n",
    "net.save_nodes(output_dir='sim_ch04/network')\n",
    "net.save_edges(output_dir='sim_ch04/network')\n",
    "\n",
    "# 打印\n",
    "print('Finish!')"
   ]
  },
  {
   "cell_type": "code",
   "execution_count": null,
   "id": "964dbca6-5c19-4057-aa25-e7147db0ec15",
   "metadata": {
    "execution": {
     "iopub.execute_input": "2023-07-26T09:31:35.756988Z",
     "iopub.status.busy": "2023-07-26T09:31:35.756586Z",
     "iopub.status.idle": "2023-07-26T09:31:35.762211Z",
     "shell.execute_reply": "2023-07-26T09:31:35.761745Z",
     "shell.execute_reply.started": "2023-07-26T09:31:35.756969Z"
    }
   },
   "outputs": [],
   "source": [
    "# 构建外部网络，该网络由虚拟单元组成，形成一个前馈网络到我们的V1，它将在模拟过程中提供输入\n",
    "# 这个外部网络就是LGN，LGN是V1第四层细胞的主要输入\n",
    "from bmtk.builder.networks import NetworkBuilder\n",
    "\n",
    "lgn = NetworkBuilder('LGN')\n",
    "lgn.add_nodes(\n",
    "    N=500,\n",
    "    pop_name='tON',\n",
    "    potential='exc',\n",
    "    model_type='virtual'\n",
    ")\n",
    "\n",
    "# 打印\n",
    "print('Success!')"
   ]
  },
  {
   "cell_type": "code",
   "execution_count": null,
   "id": "db0a310c-ee20-45c9-bbb8-3ed5dd371400",
   "metadata": {
    "execution": {
     "iopub.execute_input": "2023-07-26T09:34:09.545502Z",
     "iopub.status.busy": "2023-07-26T09:34:09.545016Z",
     "iopub.status.idle": "2023-07-26T09:34:09.552055Z",
     "shell.execute_reply": "2023-07-26T09:34:09.551260Z",
     "shell.execute_reply.started": "2023-07-26T09:34:09.545482Z"
    }
   },
   "outputs": [],
   "source": [
    "# 定义函数以确定突触个数\n",
    "def select_source_cells(sources, target, nsources_min=10, nsources_max=30, nsyns_min=3, nsyns_max=12):\n",
    "    total_sources = len(sources)\n",
    "    nsources = np.random.randint(nsources_min, nsources_max)\n",
    "    selected_sources = np.random.choice(total_sources, nsources, replace=False)\n",
    "    syns = np.zeros(total_sources)\n",
    "    syns[selected_sources] = np.random.randint(nsyns_min, nsyns_max, size=nsources)\n",
    "    return syns\n",
    "\n",
    "# 打印\n",
    "print('Function Success!')"
   ]
  },
  {
   "cell_type": "code",
   "execution_count": null,
   "id": "f57c8a93-9788-4b6c-a3ca-da98a65e670a",
   "metadata": {
    "execution": {
     "iopub.execute_input": "2023-07-26T09:36:58.534720Z",
     "iopub.status.busy": "2023-07-26T09:36:58.534219Z",
     "iopub.status.idle": "2023-07-26T09:36:58.543694Z",
     "shell.execute_reply": "2023-07-26T09:36:58.543269Z",
     "shell.execute_reply.started": "2023-07-26T09:36:58.534699Z"
    }
   },
   "outputs": [],
   "source": [
    "# 添加边\n",
    "lgn.add_edges(\n",
    "    source=lgn.nodes(), target=net.nodes(pop_name='Scnn1a'),\n",
    "    iterator='all_to_one',  # 默认为'one_to_one'，可以手动设置成'one_to_all'或者'all_to_one'，to前后分别是source和target节点\n",
    "    connection_rule=select_source_cells,\n",
    "    connection_params={'nsources_min': 10, 'nsources_max': 25},\n",
    "    syn_weight=1e-03,\n",
    "    weight_function='wmax',\n",
    "    distance_range=[0.0, 150.0],\n",
    "    target_sections=['basal', 'apical'],\n",
    "    delay=2.0,\n",
    "    dynamics_params='AMPA_ExcToExc.json',\n",
    "    model_template='exp2syn'\n",
    ")\n",
    "\n",
    "lgn.add_edges(\n",
    "    source=lgn.nodes(), target=net.nodes(pop_name='PV1'),\n",
    "    connection_rule=select_source_cells,\n",
    "    connection_params={'nsources_min': 15, 'nsources_max': 30},\n",
    "    iterator='all_to_one',\n",
    "    syn_weight=0.015,\n",
    "    weight_function='wmax',\n",
    "    distance_range=[0.0, 1.0e+20],\n",
    "    target_sections=['somatic', 'basal'],\n",
    "    delay=2.0,\n",
    "    dynamics_params='AMPA_ExcToInh.json',\n",
    "    model_template='exp2syn'\n",
    ")\n",
    "\n",
    "lgn.add_edges(\n",
    "    source=lgn.nodes(),  target=net.nodes(pop_name='LIF_exc'),\n",
    "    connection_rule=select_source_cells,\n",
    "    connection_params={'nsources_min': 10, 'nsources_max': 25},\n",
    "    iterator='all_to_one',\n",
    "    syn_weight= 0.07,\n",
    "    weight_function='wmax',\n",
    "    delay=2.0,\n",
    "    dynamics_params='instantaneousExc.json',\n",
    "    model_template='exp2syn'\n",
    ")\n",
    "\n",
    "lgn.add_edges(\n",
    "    source=lgn.nodes(),  target=net.nodes(pop_name='LIF_inh'),\n",
    "    connection_rule=select_source_cells,\n",
    "    connection_params={'nsources_min': 15, 'nsources_max': 30},\n",
    "    iterator='all_to_one',\n",
    "    syn_weight=0.05,\n",
    "    weight_function='wmax',\n",
    "    delay=2.0,\n",
    "    dynamics_params='instantaneousExc.json',\n",
    "    model_template='exp2syn'\n",
    ")\n",
    "\n",
    "# 打印\n",
    "print('Success!')"
   ]
  },
  {
   "cell_type": "code",
   "execution_count": null,
   "id": "a3f11c92-1ca7-42b6-a294-badec8457925",
   "metadata": {
    "execution": {
     "iopub.execute_input": "2023-07-26T09:37:35.762459Z",
     "iopub.status.busy": "2023-07-26T09:37:35.761864Z",
     "iopub.status.idle": "2023-07-26T09:37:36.015983Z",
     "shell.execute_reply": "2023-07-26T09:37:36.015458Z",
     "shell.execute_reply.started": "2023-07-26T09:37:35.762439Z"
    }
   },
   "outputs": [],
   "source": [
    "# 构建与保存\n",
    "lgn.build()\n",
    "lgn.save_nodes(output_dir='sim_ch04/network')\n",
    "lgn.save_edges(output_dir='sim_ch04/network')\n",
    "\n",
    "# 打印\n",
    "print('Finish!')"
   ]
  },
  {
   "cell_type": "code",
   "execution_count": null,
   "id": "5de98133-ed63-4ca9-ae79-a9eb707c23c7",
   "metadata": {
    "execution": {
     "iopub.execute_input": "2023-07-26T09:39:22.604874Z",
     "iopub.status.busy": "2023-07-26T09:39:22.604429Z",
     "iopub.status.idle": "2023-07-26T09:39:25.109639Z",
     "shell.execute_reply": "2023-07-26T09:39:25.108293Z",
     "shell.execute_reply.started": "2023-07-26T09:39:22.604853Z"
    }
   },
   "outputs": [],
   "source": [
    "# 设置环境\n",
    "from bmtk.utils.sim_setup import build_env_bionet\n",
    "\n",
    "build_env_bionet(\n",
    "    base_dir='sim_ch04',\n",
    "    config_file='config.json',\n",
    "    network_dir='sim_ch04/network',\n",
    "    tstop=3000.0, dt=0.1,\n",
    "    report_vars=['v'],     # Record membrane potential (default soma)\n",
    "    include_examples=True,    # Copies components files\n",
    "    compile_mechanisms=True   # Will try to compile NEURON mechanisms\n",
    ")\n",
    "\n",
    "# 打印\n",
    "print('Env Success!')"
   ]
  },
  {
   "cell_type": "code",
   "execution_count": null,
   "id": "5748467d-27f7-4b31-9317-047c63a7e2e8",
   "metadata": {
    "execution": {
     "iopub.execute_input": "2023-07-26T10:04:00.808167Z",
     "iopub.status.busy": "2023-07-26T10:04:00.807662Z",
     "iopub.status.idle": "2023-07-26T10:04:00.812936Z",
     "shell.execute_reply": "2023-07-26T10:04:00.812468Z",
     "shell.execute_reply.started": "2023-07-26T10:04:00.808147Z"
    },
    "tags": []
   },
   "outputs": [],
   "source": [
    "# 先前的步骤中，我们在添加权重时使用了函数gaussianLL和wmax\n",
    "# wmax是一个内置函数，使用参数weight_max的值分配给给定的边类型\n",
    "# 当创建兴奋-兴奋连接的时候，我们想在需要的时候利用Tuning_angle参数确定两个连接之间的突触强度，因此自定义一个函数gaussianLL\n",
    "# 下面是构建函数gaussianLL的代码\n",
    "\n",
    "import math\n",
    "from bmtk.simulator.bionet.pyfunction_cache import add_weight_function\n",
    "\n",
    "def gaussianLL(edge_props, source, target):  # 参数edge_props表示连接的属性\n",
    "    src_tuning = source['tuning_angle']\n",
    "    tar_tuning = target['tuning_angle']\n",
    "    w0 = edge_props[\"syn_weight\"]\n",
    "    sigma = edge_props[\"weight_sigma\"]\n",
    "\n",
    "    delta_tuning = abs(abs(abs(180.0 - abs(float(tar_tuning) - float(src_tuning)) % 360.0) - 90.0) - 90.0)\n",
    "    return w0 * math.exp(-(delta_tuning / sigma) ** 2)\n",
    "\n",
    "add_weight_function(gaussianLL)\n",
    "\n",
    "# 打印\n",
    "print('Finish!')"
   ]
  },
  {
   "cell_type": "code",
   "execution_count": null,
   "id": "c686f430-482a-4939-b686-e0fc4caff499",
   "metadata": {
    "execution": {
     "iopub.execute_input": "2023-07-26T09:53:55.516929Z",
     "iopub.status.busy": "2023-07-26T09:53:55.516461Z",
     "iopub.status.idle": "2023-07-26T09:53:55.521202Z",
     "shell.execute_reply": "2023-07-26T09:53:55.520667Z",
     "shell.execute_reply.started": "2023-07-26T09:53:55.516910Z"
    }
   },
   "outputs": [],
   "source": [
    "'''\n",
    "    每次模拟前会调整权重，不同的运行之间可以改变功能\n",
    "    只需使用文本编辑器打开edge_type.csv文件并更改weight_function列\n",
    "    用户就可以使用现有网络并动态地重新调整权重\n",
    "'''"
   ]
  },
  {
   "cell_type": "code",
   "execution_count": null,
   "id": "ce59458f-ba7d-43b9-90e8-176cb65bb527",
   "metadata": {
    "execution": {
     "iopub.execute_input": "2023-07-26T10:04:08.790184Z",
     "iopub.status.busy": "2023-07-26T10:04:08.789766Z",
     "iopub.status.idle": "2023-07-26T10:04:08.846639Z",
     "shell.execute_reply": "2023-07-26T10:04:08.845726Z",
     "shell.execute_reply.started": "2023-07-26T10:04:08.790164Z"
    },
    "tags": []
   },
   "outputs": [],
   "source": [
    "# 运行\n",
    "from bmtk.simulator import bionet\n",
    "\n",
    "conf = bionet.Config.from_json('sim_ch04/config.json')\n",
    "conf.build_env()\n",
    "net = bionet.BioNetwork.from_config(conf)\n",
    "sim = bionet.BioSimulator.from_config(conf, network=net)\n",
    "sim.run()\n",
    "\n",
    "# 打印\n",
    "print('Finish!')"
   ]
  },
  {
   "cell_type": "code",
   "execution_count": null,
   "id": "159af726-f28c-4922-96c2-b8f9d6b56dd6",
   "metadata": {
    "execution": {
     "iopub.execute_input": "2023-07-26T10:01:50.853501Z",
     "iopub.status.busy": "2023-07-26T10:01:50.853090Z",
     "iopub.status.idle": "2023-07-26T10:01:50.893617Z",
     "shell.execute_reply": "2023-07-26T10:01:50.892955Z",
     "shell.execute_reply.started": "2023-07-26T10:01:50.853481Z"
    },
    "tags": []
   },
   "outputs": [],
   "source": [
    "# 分析\n",
    "from bmtk.analyzer.spike_trains import plot_raster, plot_rates_boxplot\n",
    "\n",
    "plot_raster(config_file='sim_ch04/config.json', group_by='pop_name')"
   ]
  }
 ],
 "metadata": {
  "kernelspec": {
   "display_name": "Python 3 (ipykernel)",
   "language": "python",
   "name": "python3"
  },
  "language_info": {
   "codemirror_mode": {
    "name": "ipython",
    "version": 3
   },
   "file_extension": ".py",
   "mimetype": "text/x-python",
   "name": "python",
   "nbconvert_exporter": "python",
   "pygments_lexer": "ipython3",
   "version": "3.8.0"
  }
 },
 "nbformat": 4,
 "nbformat_minor": 5
}
