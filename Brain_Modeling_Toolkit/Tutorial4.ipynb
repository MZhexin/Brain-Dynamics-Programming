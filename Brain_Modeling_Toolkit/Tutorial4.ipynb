{
 "cells": [
  {
   "cell_type": "code",
   "execution_count": 1,
   "id": "20fa1371-5b33-481c-9433-96ab093ff375",
   "metadata": {
    "execution": {
     "iopub.execute_input": "2023-07-26T01:36:26.350729Z",
     "iopub.status.busy": "2023-07-26T01:36:26.350297Z",
     "iopub.status.idle": "2023-07-26T01:36:26.354174Z",
     "shell.execute_reply": "2023-07-26T01:36:26.353652Z",
     "shell.execute_reply.started": "2023-07-26T01:36:26.350711Z"
    }
   },
   "outputs": [],
   "source": [
    "# Tutorial 4: Multi-population recurrent network (with BioNet)"
   ]
  },
  {
   "cell_type": "code",
   "execution_count": 2,
   "id": "6528c4af-4056-47fc-bd9f-0a69cce72fa0",
   "metadata": {
    "execution": {
     "iopub.execute_input": "2023-07-26T01:51:46.455398Z",
     "iopub.status.busy": "2023-07-26T01:51:46.454877Z",
     "iopub.status.idle": "2023-07-26T01:51:46.458726Z",
     "shell.execute_reply": "2023-07-26T01:51:46.458236Z",
     "shell.execute_reply.started": "2023-07-26T01:51:46.455377Z"
    }
   },
   "outputs": [],
   "source": [
    "# 一般来说，用户可以为细胞和细胞类型分配任何自定义参数，并将其用作创建连接和运行模拟的属性"
   ]
  },
  {
   "cell_type": "code",
   "execution_count": 13,
   "id": "af3a04df-92f6-4c26-821f-5048c157f6b4",
   "metadata": {
    "execution": {
     "iopub.execute_input": "2023-07-26T04:50:07.470933Z",
     "iopub.status.busy": "2023-07-26T04:50:07.470454Z",
     "iopub.status.idle": "2023-07-26T04:50:07.481840Z",
     "shell.execute_reply": "2023-07-26T04:50:07.480609Z",
     "shell.execute_reply.started": "2023-07-26T04:50:07.470909Z"
    },
    "tags": []
   },
   "outputs": [
    {
     "name": "stdout",
     "output_type": "stream",
     "text": [
      "Success!\n"
     ]
    }
   ],
   "source": [
    "import numpy as np\n",
    "from bmtk.builder.networks import NetworkBuilder\n",
    "from bmtk.builder.auxi.node_params import positions_columinar, xiter_random\n",
    "\n",
    "# 构建类似小鼠初级视觉皮层柱的结构，且沿着柱的中心有40个兴奋性Scnnla细胞和10个抑制性PV细胞\n",
    "net = NetworkBuilder(\"V1\")\n",
    "\n",
    "# 添加兴奋性Scnnla细胞（N = 40 × 2 = 80）\n",
    "net.add_nodes(\n",
    "    N=80, pop_name='Scnn1a',  # 细胞的个数和名称\n",
    "    positions=positions_columinar(N=80, center=[0, 50.0, 0], max_radius=30.0, height=100.0),  # 中心位置\n",
    "    rotation_angle_yaxis=xiter_random(N=80, min_x=0.0, max_x=2*np.pi),  # y轴旋转角度\n",
    "    rotation_angle_zaxis=xiter_random(N=80, min_x=0.0, max_x=2*np.pi),  # z轴旋转角度\n",
    "    tuning_angle=np.linspace(start=0.0, stop=360.0, num=80, endpoint=False),  # 细胞内部的“调谐角（turning angle）”\n",
    "                                                                              # 用np.linspace函数生成从0到360等差的80个数（endpoint=False表示不包含360）\n",
    "    # 宏的细胞类型参数，对全部的80个神经元都有效\n",
    "    location='VisL4',\n",
    "    ei='e',\n",
    "    model_type='biophysical',\n",
    "    model_template='ctdb:Biophys1.hoc',\n",
    "    model_processing='aibs_perisomatic',\n",
    "    dynamics_params='472363762_fit.json',\n",
    "    morphology='Scnn1a_473845048_m.swc'\n",
    ")\n",
    "\n",
    "\n",
    "# 添加抑制性PV细胞（N = 10 × 2 = 20），参数意义同Scnnla\n",
    "net.add_nodes(\n",
    "    N=20, pop_name='PV',\n",
    "    positions=positions_columinar(N=20, center=[0, 50.0, 0], max_radius=30.0, height=100.0),\n",
    "    rotation_angle_yaxis=xiter_random(N=20, min_x=0.0, max_x=2*np.pi),\n",
    "    rotation_angle_zaxis=xiter_random(N=20, min_x=0.0, max_x=2*np.pi),\n",
    "    location='VisL4',\n",
    "    ei='i',\n",
    "    model_type='biophysical',\n",
    "    model_template='ctdb:Biophys1.hoc',\n",
    "    model_processing='aibs_perisomatic',\n",
    "    dynamics_params='472912177_fit.json',\n",
    "    morphology='Pvalb_470522102_m.swc'\n",
    ")\n",
    "\n",
    "# 打印\n",
    "print('Success!')"
   ]
  },
  {
   "cell_type": "code",
   "execution_count": 14,
   "id": "b25bd719-c4c7-48c3-b90e-a904a623ca2c",
   "metadata": {
    "execution": {
     "iopub.execute_input": "2023-07-26T04:50:10.073672Z",
     "iopub.status.busy": "2023-07-26T04:50:10.073242Z",
     "iopub.status.idle": "2023-07-26T04:50:10.079543Z",
     "shell.execute_reply": "2023-07-26T04:50:10.078948Z",
     "shell.execute_reply.started": "2023-07-26T04:50:10.073653Z"
    },
    "tags": []
   },
   "outputs": [
    {
     "name": "stdout",
     "output_type": "stream",
     "text": [
      "Success!\n"
     ]
    }
   ],
   "source": [
    "# 构建点神经元（Point Neuron），使用整合发放模型（Integrate-and-Fire Model）\n",
    "# 点神经元没有rotation等属性\n",
    "net.add_nodes(\n",
    "    N=200, pop_name='LIF_exc',\n",
    "    positions=positions_columinar(N=200, center=[0, 50.0, 0], min_radius=30.0, max_radius=60.0, height=100.0),\n",
    "    tuning_angle=np.linspace(start=0.0, stop=360.0, num=200, endpoint=False),\n",
    "    location='VisL4',\n",
    "    ei='e',\n",
    "    model_type='point_process',\n",
    "    model_template='nrn:IntFire1',\n",
    "    dynamics_params='IntFire1_exc_1.json'\n",
    ")\n",
    "\n",
    "net.add_nodes(\n",
    "    N=100, pop_name='LIF_inh',\n",
    "    positions=positions_columinar(N=100, center=[0, 50.0, 0], min_radius=30.0, max_radius=60.0, height=100.0),\n",
    "    location='VisL4',\n",
    "    ei='i',\n",
    "    model_type='point_process',\n",
    "    model_template='nrn:IntFire1',\n",
    "    dynamics_params='IntFire1_inh_1.json'\n",
    ")\n",
    "\n",
    "# 打印\n",
    "print('Success!')"
   ]
  },
  {
   "cell_type": "code",
   "execution_count": 15,
   "id": "19f5dd6f-260d-4144-a57a-2581e5d63670",
   "metadata": {
    "execution": {
     "iopub.execute_input": "2023-07-26T04:50:12.510085Z",
     "iopub.status.busy": "2023-07-26T04:50:12.509672Z",
     "iopub.status.idle": "2023-07-26T04:50:12.517173Z",
     "shell.execute_reply": "2023-07-26T04:50:12.516667Z",
     "shell.execute_reply.started": "2023-07-26T04:50:12.510066Z"
    },
    "tags": []
   },
   "outputs": [
    {
     "name": "stdout",
     "output_type": "stream",
     "text": [
      "Function defined success!\n"
     ]
    }
   ],
   "source": [
    "# 建立连接\n",
    "# 注意，对于不同的模型类型、source神经元的兴奋与否、抑制与否，都要使用不同的突触类型与参数\n",
    "# 利用距离和调谐角属性确定兴奋-兴奋连接矩阵，为此构造函数dist_tuning_connector\n",
    "\n",
    "import random\n",
    "import math\n",
    "\n",
    "# 对于用户构造的每个自定义函数，都必须有source和target参数\n",
    "# d是距离，d_weight是距离的权重，nsyn是连接数，t是调谐角的权重\n",
    "# max和 min表示数值取这两个端点值中间的随机数\n",
    "def dist_tuning_connector(source, target, d_weight_min, d_weight_max, d_max, t_weight_min, t_weight_max, nsyn_min, nsyn_max):\n",
    "    \n",
    "    # 当起始节点与目标节点相同时返回None以防止自身连接\n",
    "    if source['node_id'] == target['node_id']:\n",
    "        return None\n",
    "    \n",
    "    r = np.linalg.norm(np.array(source['positions']) - np.array(target['positions']))  # 起始节点与目标节点之间的距离\n",
    "    \n",
    "    # 计算距离的权重\n",
    "    if r > d_max:  # 如果节点之间的距离大于我们想要的最大距离，则令这条连接上的权重为0（即舍弃这条连接）\n",
    "        dw = 0.0  # 赋0和None意义一样，都表示舍弃这条连接，但是None无法在下面的if条件中比大小，因此只能赋值0\n",
    "    else:\n",
    "        # 对于不舍弃的连接，计算其权重，公式如下\n",
    "        t = r / d_max\n",
    "        dw = d_weight_max * (1.0 - t) + d_weight_min * t\n",
    "    \n",
    "    # 若计算出来的权重太低，则丢弃\n",
    "    if dw <= 0:\n",
    "        return None\n",
    "\n",
    "    # 如果细胞中有tuning_angle属性，则计算调谐角的权重，若没有，则令调谐角权重等于距离权重，即令tw = dw\n",
    "    if 'tuning_angle' in source and 'tuning_angle' in target:\n",
    "\n",
    "        # 0°-180°和180°-360°没差，因此建模的时候只用0°-180°就行了\n",
    "        delta_tuning = math.fmod(abs(source['tuning_angle'] - target['tuning_angle']), 180.0)  # 利用math.fmod函数计算节点间角度差绝对值与180°的取余结果\n",
    "\n",
    "        # 90°-180°需要翻转，然后归一化为0-1\n",
    "        delta_tuning = delta_tuning if delta_tuning < 90.0 else 180.0 - delta_tuning\n",
    "        \n",
    "        # 计算权重\n",
    "        t = delta_tuning / 90.0\n",
    "        tw = t_weight_max * (1.0 - t) + t_weight_min * t\n",
    "    else:\n",
    "        tw = dw\n",
    "\n",
    "    # 若计算出来的权重太低，则丢弃\n",
    "    if tw <= 0:\n",
    "        return None\n",
    "\n",
    "    # 通过将权重视为连接概率来过滤掉节点\n",
    "    # 若生成的0-1间随机数大于调谐角权重，则舍弃该连接\n",
    "    if random.random() > tw:\n",
    "        return None\n",
    "\n",
    "    # 给这条连接添加突触个数\n",
    "    # 利用random.randint函数生成nsyn_min（我们期望的最小突触个数）和nsyn_max（我们期望的最大突触个数）之间的随机整数（注意是整数）\n",
    "    return random.randint(nsyn_min, nsyn_max)\n",
    "\n",
    "# 打印\n",
    "print('Function defined success!')"
   ]
  },
  {
   "cell_type": "code",
   "execution_count": 16,
   "id": "49a6ea6a-5c76-4cae-9040-ba8aae1ed37f",
   "metadata": {
    "execution": {
     "iopub.execute_input": "2023-07-26T04:50:15.416366Z",
     "iopub.status.busy": "2023-07-26T04:50:15.415959Z",
     "iopub.status.idle": "2023-07-26T04:50:15.422268Z",
     "shell.execute_reply": "2023-07-26T04:50:15.421631Z",
     "shell.execute_reply.started": "2023-07-26T04:50:15.416348Z"
    },
    "tags": []
   },
   "outputs": [
    {
     "name": "stdout",
     "output_type": "stream",
     "text": [
      "Success!\n"
     ]
    }
   ],
   "source": [
    "# 添加边\n",
    "net.add_edges(\n",
    "    source={'ei': 'e'}, target={'pop_name': 'Scnn1a'},\n",
    "    connection_rule=dist_tuning_connector,\n",
    "    connection_params={'d_weight_min': 0.0, 'd_weight_max': 0.34, 'd_max': 300.0, 't_weight_min': 0.5,\n",
    "                       't_weight_max': 1.0, 'nsyn_min': 3, 'nsyn_max': 7},\n",
    "    syn_weight=5e-05,\n",
    "    weight_function='gaussianLL',\n",
    "    weight_sigma=50.0,\n",
    "    distance_range=[30.0, 150.0],\n",
    "    target_sections=['basal', 'apical'],\n",
    "    delay=2.0,\n",
    "    dynamics_params='AMPA_ExcToExc.json',\n",
    "    model_template='exp2syn'\n",
    ")\n",
    "\n",
    "net.add_edges(\n",
    "    source={'ei': 'e'}, target={'pop_name': 'LIF_exc'},\n",
    "    connection_rule=dist_tuning_connector,\n",
    "    connection_params={'d_weight_min': 0.0, 'd_weight_max': 0.34, 'd_max': 300.0, 't_weight_min': 0.5,\n",
    "                       't_weight_max': 1.0, 'nsyn_min': 3, 'nsyn_max': 7},\n",
    "    syn_weight=0.0019,\n",
    "    weight_function='gaussianLL',\n",
    "    weight_sigma=50.0,\n",
    "    delay=2.0,\n",
    "    dynamics_params='instantaneousExc.json',\n",
    "    model_template='exp2syn'\n",
    ")\n",
    "\n",
    "# 打印\n",
    "print('Success!')"
   ]
  },
  {
   "cell_type": "code",
   "execution_count": 17,
   "id": "cea7763d-8e6c-4be4-931e-0b066ab30f2b",
   "metadata": {
    "execution": {
     "iopub.execute_input": "2023-07-26T04:50:17.663363Z",
     "iopub.status.busy": "2023-07-26T04:50:17.662960Z",
     "iopub.status.idle": "2023-07-26T04:50:17.672875Z",
     "shell.execute_reply": "2023-07-26T04:50:17.672274Z",
     "shell.execute_reply.started": "2023-07-26T04:50:17.663343Z"
    },
    "tags": []
   },
   "outputs": [
    {
     "name": "stdout",
     "output_type": "stream",
     "text": [
      "Success!\n"
     ]
    }
   ],
   "source": [
    "from bmtk.builder.auxi.edge_connectors import distance_connector\n",
    "\n",
    "# 同理，构建其他连接\n",
    "# 考虑到其他细胞没有调谐角参数，因此我们不使用自定义的dist_tuning_connector函数，而是调用封装好的distance_connector函数\n",
    "\n",
    "# 抑制-抑制连接\n",
    "net.add_edges(\n",
    "    source={'ei': 'i'}, target={'ei': 'i', 'model_type': 'biophysical'},\n",
    "    connection_rule=distance_connector,\n",
    "    connection_params={'d_weight_min': 0.0, 'd_weight_max': 1.0, 'd_max': 160.0, 'nsyn_min': 3, 'nsyn_max': 7},\n",
    "    syn_weight=0.0002,\n",
    "    weight_function='wmax',\n",
    "    distance_range=[0.0, 1e+20],\n",
    "    target_sections=['somatic', 'basal'],\n",
    "    delay=2.0,\n",
    "    dynamics_params='GABA_InhToInh.json',\n",
    "    model_template='exp2syn'\n",
    ")\n",
    "\n",
    "net.add_edges(\n",
    "    source={'ei': 'i'}, target={'ei': 'i', 'model_type': 'point_process'},\n",
    "    connection_rule=distance_connector,\n",
    "    connection_params={'d_weight_min': 0.0, 'd_weight_max': 1.0, 'd_max': 160.0, 'nsyn_min': 3, 'nsyn_max': 7},\n",
    "    syn_weight=0.001,\n",
    "    weight_function='wmax',\n",
    "    delay=2.0,\n",
    "    dynamics_params='instantaneousInh.json',\n",
    "    model_template='exp2syn'\n",
    ")\n",
    "\n",
    "\n",
    "# 抑制-兴奋连接\n",
    "net.add_edges(\n",
    "    source={'ei': 'i'}, target={'ei': 'e', 'model_type': 'biophysical'},\n",
    "    connection_rule=distance_connector,\n",
    "    connection_params={'d_weight_min': 0.0, 'd_weight_max': 1.0, 'd_max': 160.0, 'nsyn_min': 3, 'nsyn_max': 7},\n",
    "    syn_weight=0.0001,\n",
    "    weight_function='wmax',\n",
    "    distance_range=[0.0, 50.0],\n",
    "    target_sections=['somatic', 'basal', 'apical'],\n",
    "    delay=2.0,\n",
    "    dynamics_params='GABA_InhToExc.json',\n",
    "    model_template='exp2syn'\n",
    ")\n",
    "\n",
    "net.add_edges(\n",
    "    source={'ei': 'i'}, target={'ei': 'e', 'model_type': 'point_process'},\n",
    "    connection_rule=distance_connector,\n",
    "    connection_params={'d_weight_min': 0.0, 'd_weight_max': 1.0, 'd_max': 160.0, 'nsyn_min': 3, 'nsyn_max': 7},\n",
    "    syn_weight=0.009,\n",
    "    weight_function='wmax',\n",
    "    delay=2.0,\n",
    "    dynamics_params='instantaneousInh.json',\n",
    "    model_template='exp2syn'\n",
    ")\n",
    "\n",
    "\n",
    "# 兴奋-抑制连接\n",
    "net.add_edges(\n",
    "    source={'ei': 'e'}, target={'pop_name': 'PV'},\n",
    "    connection_rule=distance_connector,\n",
    "    connection_params={'d_weight_min': 0.0, 'd_weight_max': 0.26, 'd_max': 300.0, 'nsyn_min': 3, 'nsyn_max': 7},\n",
    "    syn_weight=0.004,\n",
    "    weight_function='wmax',\n",
    "    distance_range=[0.0, 1e+20],\n",
    "    target_sections=['somatic', 'basal'],\n",
    "    delay=2.0,\n",
    "    dynamics_params='AMPA_ExcToInh.json',\n",
    "    model_template='exp2syn'\n",
    ")\n",
    "\n",
    "net.add_edges(\n",
    "    source={'ei': 'e'}, target={'pop_name': 'LIF_inh'},\n",
    "    connection_rule=distance_connector,\n",
    "    connection_params={'d_weight_min': 0.0, 'd_weight_max': 0.26, 'd_max': 300.0, 'nsyn_min': 3, 'nsyn_max': 7},\n",
    "    syn_weight=0.006,\n",
    "    weight_function='wmax',\n",
    "    delay=2.0,\n",
    "    dynamics_params='instantaneousExc.json',\n",
    "    model_template='exp2syn'\n",
    ")\n",
    "\n",
    "# 打印\n",
    "print('Success!')"
   ]
  },
  {
   "cell_type": "code",
   "execution_count": 18,
   "id": "316a982b-41e9-4471-ad9f-5f555de3a047",
   "metadata": {
    "execution": {
     "iopub.execute_input": "2023-07-26T04:50:19.607403Z",
     "iopub.status.busy": "2023-07-26T04:50:19.606163Z",
     "iopub.status.idle": "2023-07-26T04:50:21.412127Z",
     "shell.execute_reply": "2023-07-26T04:50:21.411408Z",
     "shell.execute_reply.started": "2023-07-26T04:50:19.607377Z"
    },
    "tags": []
   },
   "outputs": [
    {
     "name": "stdout",
     "output_type": "stream",
     "text": [
      "Finish!\n"
     ]
    }
   ],
   "source": [
    "# 构建与保存\n",
    "net.build()\n",
    "net.save_nodes(output_dir='sim_ch04/network')\n",
    "net.save_edges(output_dir='sim_ch04/network')\n",
    "\n",
    "# 打印\n",
    "print('Finish!')"
   ]
  },
  {
   "cell_type": "code",
   "execution_count": 19,
   "id": "964dbca6-5c19-4057-aa25-e7147db0ec15",
   "metadata": {
    "execution": {
     "iopub.execute_input": "2023-07-26T09:31:35.756988Z",
     "iopub.status.busy": "2023-07-26T09:31:35.756586Z",
     "iopub.status.idle": "2023-07-26T09:31:35.762211Z",
     "shell.execute_reply": "2023-07-26T09:31:35.761745Z",
     "shell.execute_reply.started": "2023-07-26T09:31:35.756969Z"
    }
   },
   "outputs": [
    {
     "name": "stdout",
     "output_type": "stream",
     "text": [
      "Success!\n"
     ]
    }
   ],
   "source": [
    "# 构建外部网络，该网络由虚拟单元组成，形成一个前馈网络到我们的V1，它将在模拟过程中提供输入\n",
    "# 这个外部网络就是LGN，LGN是V1第四层细胞的主要输入\n",
    "from bmtk.builder.networks import NetworkBuilder\n",
    "\n",
    "lgn = NetworkBuilder('LGN')\n",
    "lgn.add_nodes(\n",
    "    N=500,\n",
    "    pop_name='tON',\n",
    "    potential='exc',\n",
    "    model_type='virtual'\n",
    ")\n",
    "\n",
    "# 打印\n",
    "print('Success!')"
   ]
  },
  {
   "cell_type": "code",
   "execution_count": 20,
   "id": "db0a310c-ee20-45c9-bbb8-3ed5dd371400",
   "metadata": {
    "execution": {
     "iopub.execute_input": "2023-07-26T09:34:09.545502Z",
     "iopub.status.busy": "2023-07-26T09:34:09.545016Z",
     "iopub.status.idle": "2023-07-26T09:34:09.552055Z",
     "shell.execute_reply": "2023-07-26T09:34:09.551260Z",
     "shell.execute_reply.started": "2023-07-26T09:34:09.545482Z"
    }
   },
   "outputs": [
    {
     "name": "stdout",
     "output_type": "stream",
     "text": [
      "Function Success!\n"
     ]
    }
   ],
   "source": [
    "# 定义函数以确定突触个数\n",
    "def select_source_cells(sources, target, nsources_min=10, nsources_max=30, nsyns_min=3, nsyns_max=12):\n",
    "    total_sources = len(sources)\n",
    "    nsources = np.random.randint(nsources_min, nsources_max)\n",
    "    selected_sources = np.random.choice(total_sources, nsources, replace=False)\n",
    "    syns = np.zeros(total_sources)\n",
    "    syns[selected_sources] = np.random.randint(nsyns_min, nsyns_max, size=nsources)\n",
    "    return syns\n",
    "\n",
    "# 打印\n",
    "print('Function Success!')"
   ]
  },
  {
   "cell_type": "code",
   "execution_count": 21,
   "id": "f57c8a93-9788-4b6c-a3ca-da98a65e670a",
   "metadata": {
    "execution": {
     "iopub.execute_input": "2023-07-26T09:36:58.534720Z",
     "iopub.status.busy": "2023-07-26T09:36:58.534219Z",
     "iopub.status.idle": "2023-07-26T09:36:58.543694Z",
     "shell.execute_reply": "2023-07-26T09:36:58.543269Z",
     "shell.execute_reply.started": "2023-07-26T09:36:58.534699Z"
    }
   },
   "outputs": [
    {
     "name": "stdout",
     "output_type": "stream",
     "text": [
      "Success!\n"
     ]
    }
   ],
   "source": [
    "# 添加边\n",
    "lgn.add_edges(\n",
    "    source=lgn.nodes(), target=net.nodes(pop_name='Scnn1a'),\n",
    "    iterator='all_to_one',  # 默认为'one_to_one'，可以手动设置成'one_to_all'或者'all_to_one'，to前后分别是source和target节点\n",
    "    connection_rule=select_source_cells,\n",
    "    connection_params={'nsources_min': 10, 'nsources_max': 25},\n",
    "    syn_weight=1e-03,\n",
    "    weight_function='wmax',\n",
    "    distance_range=[0.0, 150.0],\n",
    "    target_sections=['basal', 'apical'],\n",
    "    delay=2.0,\n",
    "    dynamics_params='AMPA_ExcToExc.json',\n",
    "    model_template='exp2syn'\n",
    ")\n",
    "\n",
    "lgn.add_edges(\n",
    "    source=lgn.nodes(), target=net.nodes(pop_name='PV1'),\n",
    "    connection_rule=select_source_cells,\n",
    "    connection_params={'nsources_min': 15, 'nsources_max': 30},\n",
    "    iterator='all_to_one',\n",
    "    syn_weight=0.015,\n",
    "    weight_function='wmax',\n",
    "    distance_range=[0.0, 1.0e+20],\n",
    "    target_sections=['somatic', 'basal'],\n",
    "    delay=2.0,\n",
    "    dynamics_params='AMPA_ExcToInh.json',\n",
    "    model_template='exp2syn'\n",
    ")\n",
    "\n",
    "lgn.add_edges(\n",
    "    source=lgn.nodes(),  target=net.nodes(pop_name='LIF_exc'),\n",
    "    connection_rule=select_source_cells,\n",
    "    connection_params={'nsources_min': 10, 'nsources_max': 25},\n",
    "    iterator='all_to_one',\n",
    "    syn_weight= 0.07,\n",
    "    weight_function='wmax',\n",
    "    delay=2.0,\n",
    "    dynamics_params='instantaneousExc.json',\n",
    "    model_template='exp2syn'\n",
    ")\n",
    "\n",
    "lgn.add_edges(\n",
    "    source=lgn.nodes(),  target=net.nodes(pop_name='LIF_inh'),\n",
    "    connection_rule=select_source_cells,\n",
    "    connection_params={'nsources_min': 15, 'nsources_max': 30},\n",
    "    iterator='all_to_one',\n",
    "    syn_weight=0.05,\n",
    "    weight_function='wmax',\n",
    "    delay=2.0,\n",
    "    dynamics_params='instantaneousExc.json',\n",
    "    model_template='exp2syn'\n",
    ")\n",
    "\n",
    "# 打印\n",
    "print('Success!')"
   ]
  },
  {
   "cell_type": "code",
   "execution_count": 22,
   "id": "a3f11c92-1ca7-42b6-a294-badec8457925",
   "metadata": {
    "execution": {
     "iopub.execute_input": "2023-07-26T09:37:35.762459Z",
     "iopub.status.busy": "2023-07-26T09:37:35.761864Z",
     "iopub.status.idle": "2023-07-26T09:37:36.015983Z",
     "shell.execute_reply": "2023-07-26T09:37:36.015458Z",
     "shell.execute_reply.started": "2023-07-26T09:37:35.762439Z"
    }
   },
   "outputs": [
    {
     "name": "stdout",
     "output_type": "stream",
     "text": [
      "Finish!\n"
     ]
    }
   ],
   "source": [
    "# 构建与保存\n",
    "lgn.build()\n",
    "lgn.save_nodes(output_dir='sim_ch04/network')\n",
    "lgn.save_edges(output_dir='sim_ch04/network')\n",
    "\n",
    "# 打印\n",
    "print('Finish!')"
   ]
  },
  {
   "cell_type": "code",
   "execution_count": 23,
   "id": "5de98133-ed63-4ca9-ae79-a9eb707c23c7",
   "metadata": {
    "execution": {
     "iopub.execute_input": "2023-07-26T09:39:22.604874Z",
     "iopub.status.busy": "2023-07-26T09:39:22.604429Z",
     "iopub.status.idle": "2023-07-26T09:39:25.109639Z",
     "shell.execute_reply": "2023-07-26T09:39:25.108293Z",
     "shell.execute_reply.started": "2023-07-26T09:39:22.604853Z"
    }
   },
   "outputs": [
    {
     "name": "stdout",
     "output_type": "stream",
     "text": [
      "/home/tianyan/sim_ch04/components/mechanisms\n",
      "Mod files: \"modfiles/modfiles/CaDynamics.mod\" \"modfiles/modfiles/Ca_HVA.mod\" \"modfiles/modfiles/Ca_LVA.mod\" \"modfiles/modfiles/Ih.mod\" \"modfiles/modfiles/Im.mod\" \"modfiles/modfiles/Im_v2.mod\" \"modfiles/modfiles/Kd.mod\" \"modfiles/modfiles/K_P.mod\" \"modfiles/modfiles/K_T.mod\" \"modfiles/modfiles/Kv2like.mod\" \"modfiles/modfiles/Kv3_1.mod\" \"modfiles/modfiles/Nap.mod\" \"modfiles/modfiles/NaTa.mod\" \"modfiles/modfiles/NaTs.mod\" \"modfiles/modfiles/NaV.mod\" \"modfiles/modfiles/SK.mod\" \"modfiles/modfiles/vecevent.mod\"\n",
      "\n",
      "Creating 'x86_64' directory for .o files.\n",
      "\n",
      " -> \u001b[32mCompiling\u001b[0m mod_func.cpp\n",
      " -> \u001b[32mNMODL\u001b[0m ../modfiles/CaDynamics.mod\n",
      " -> \u001b[32mNMODL\u001b[0m ../modfiles/Ca_HVA.mod\n",
      " -> \u001b[32mNMODL\u001b[0m ../modfiles/Ca_LVA.mod\n",
      " -> \u001b[32mNMODL\u001b[0m ../modfiles/Ih.mod\n",
      " -> \u001b[32mNMODL\u001b[0m ../modfiles/Im.mod\n",
      " -> \u001b[32mNMODL\u001b[0m ../modfiles/Im_v2.mod\n",
      " -> \u001b[32mNMODL\u001b[0m ../modfiles/Kd.mod\n",
      " -> \u001b[32mNMODL\u001b[0m ../modfiles/K_P.mod\n",
      " -> \u001b[32mNMODL\u001b[0m ../modfiles/K_T.mod\n",
      " -> \u001b[32mNMODL\u001b[0m ../modfiles/Kv2like.mod\n",
      " -> \u001b[32mNMODL\u001b[0m ../modfiles/Kv3_1.mod\n",
      " -> \u001b[32mNMODL\u001b[0m ../modfiles/Nap.mod\n",
      " -> \u001b[32mNMODL\u001b[0m ../modfiles/NaTa.mod\n",
      " -> \u001b[32mNMODL\u001b[0m ../modfiles/NaTs.mod\n",
      " -> \u001b[32mNMODL\u001b[0m ../modfiles/NaV.mod\n",
      " -> \u001b[32mNMODL\u001b[0m ../modfiles/SK.mod\n",
      " -> \u001b[32mNMODL\u001b[0m ../modfiles/vecevent.mod\n",
      " -> \u001b[32mCompiling\u001b[0m CaDynamics.c\n",
      " -> \u001b[32mCompiling\u001b[0m Ca_HVA.c\n",
      " -> \u001b[32mCompiling\u001b[0m Ca_LVA.c\n",
      " -> \u001b[32mCompiling\u001b[0m Ih.c\n",
      " -> \u001b[32mCompiling\u001b[0m Im.c\n",
      " -> \u001b[32mCompiling\u001b[0m Im_v2.c\n",
      " -> \u001b[32mCompiling\u001b[0m Kd.c\n"
     ]
    },
    {
     "name": "stderr",
     "output_type": "stream",
     "text": [
      "Translating CaDynamics.mod into /home/tianyan/sim_ch04/components/mechanisms/x86_64/CaDynamics.c\n",
      "Translating Ca_HVA.mod into /home/tianyan/sim_ch04/components/mechanisms/x86_64/Ca_HVA.c\n",
      "Translating Ca_LVA.mod into /home/tianyan/sim_ch04/components/mechanisms/x86_64/Ca_LVA.c\n",
      "Thread Safe\n",
      "Thread Safe\n",
      "Thread Safe\n",
      "Translating Ih.mod into /home/tianyan/sim_ch04/components/mechanisms/x86_64/Ih.c\n",
      "Translating Im_v2.mod into /home/tianyan/sim_ch04/components/mechanisms/x86_64/Im_v2.c\n",
      "Translating Im.mod into /home/tianyan/sim_ch04/components/mechanisms/x86_64/Im.c\n",
      "Thread Safe\n",
      "Thread Safe\n",
      "Thread Safe\n",
      "Translating Kd.mod into /home/tianyan/sim_ch04/components/mechanisms/x86_64/Kd.c\n",
      "Thread Safe\n",
      "Translating K_P.mod into /home/tianyan/sim_ch04/components/mechanisms/x86_64/K_P.c\n",
      "Translating K_T.mod into /home/tianyan/sim_ch04/components/mechanisms/x86_64/K_T.c\n",
      "Thread Safe\n",
      "Thread Safe\n",
      "Translating Kv2like.mod into /home/tianyan/sim_ch04/components/mechanisms/x86_64/Kv2like.c\n",
      "Thread Safe\n",
      "Translating Kv3_1.mod into /home/tianyan/sim_ch04/components/mechanisms/x86_64/Kv3_1.c\n",
      "Translating Nap.mod into /home/tianyan/sim_ch04/components/mechanisms/x86_64/Nap.c\n",
      "Thread Safe\n",
      "Thread Safe\n",
      "Translating NaTa.mod into /home/tianyan/sim_ch04/components/mechanisms/x86_64/NaTa.c\n",
      "Translating NaTs.mod into /home/tianyan/sim_ch04/components/mechanisms/x86_64/NaTs.c\n",
      "Thread Safe\n",
      "Thread Safe\n",
      "Translating NaV.mod into /home/tianyan/sim_ch04/components/mechanisms/x86_64/NaV.c\n",
      "NEURON's CVode method ignores conservation\n",
      "Notice: LINEAR is not thread safe.\n",
      "Translating SK.mod into /home/tianyan/sim_ch04/components/mechanisms/x86_64/SK.c\n",
      "Thread Safe\n",
      "Translating vecevent.mod into /home/tianyan/sim_ch04/components/mechanisms/x86_64/vecevent.c\n",
      "Notice: VERBATIM blocks are not thread safe\n"
     ]
    },
    {
     "name": "stdout",
     "output_type": "stream",
     "text": [
      " -> \u001b[32mCompiling\u001b[0m K_P.c\n",
      " -> \u001b[32mCompiling\u001b[0m K_T.c\n",
      " -> \u001b[32mCompiling\u001b[0m Kv2like.c\n",
      " -> \u001b[32mCompiling\u001b[0m Kv3_1.c\n",
      " -> \u001b[32mCompiling\u001b[0m Nap.c\n",
      " -> \u001b[32mCompiling\u001b[0m NaTa.c\n",
      " -> \u001b[32mCompiling\u001b[0m NaTs.c\n",
      " -> \u001b[32mCompiling\u001b[0m NaV.c\n",
      " -> \u001b[32mCompiling\u001b[0m SK.c\n",
      " -> \u001b[32mCompiling\u001b[0m vecevent.c\n",
      " => \u001b[32mLINKING\u001b[0m shared library ./libnrnmech.so\n",
      " => \u001b[32mLINKING\u001b[0m executable ./special LDFLAGS are:    -pthread\n",
      "Successfully created x86_64/special\n",
      "Env Success!\n"
     ]
    },
    {
     "name": "stderr",
     "output_type": "stream",
     "text": [
      "/opt/conda/bin/nrnivmodl:10: DeprecationWarning: pkg_resources is deprecated as an API. See https://setuptools.pypa.io/en/latest/pkg_resources.html\n",
      "  from pkg_resources import working_set\n"
     ]
    }
   ],
   "source": [
    "# 设置环境\n",
    "from bmtk.utils.sim_setup import build_env_bionet\n",
    "\n",
    "build_env_bionet(\n",
    "    base_dir='sim_ch04',\n",
    "    config_file='config.json',\n",
    "    network_dir='sim_ch04/network',\n",
    "    tstop=3000.0, dt=0.1,\n",
    "    report_vars=['v'],     # Record membrane potential (default soma)\n",
    "    include_examples=True,    # Copies components files\n",
    "    compile_mechanisms=True   # Will try to compile NEURON mechanisms\n",
    ")\n",
    "\n",
    "# 打印\n",
    "print('Env Success!')"
   ]
  },
  {
   "cell_type": "code",
   "execution_count": 31,
   "id": "5748467d-27f7-4b31-9317-047c63a7e2e8",
   "metadata": {
    "execution": {
     "iopub.execute_input": "2023-07-26T10:04:00.808167Z",
     "iopub.status.busy": "2023-07-26T10:04:00.807662Z",
     "iopub.status.idle": "2023-07-26T10:04:00.812936Z",
     "shell.execute_reply": "2023-07-26T10:04:00.812468Z",
     "shell.execute_reply.started": "2023-07-26T10:04:00.808147Z"
    },
    "tags": []
   },
   "outputs": [
    {
     "name": "stdout",
     "output_type": "stream",
     "text": [
      "Finish!\n"
     ]
    }
   ],
   "source": [
    "# 先前的步骤中，我们在添加权重时使用了函数gaussianLL和wmax\n",
    "# wmax是一个内置函数，使用参数weight_max的值分配给给定的边类型\n",
    "# 当创建兴奋-兴奋连接的时候，我们想在需要的时候利用Tuning_angle参数确定两个连接之间的突触强度，因此自定义一个函数gaussianLL\n",
    "# 下面是构建函数gaussianLL的代码\n",
    "\n",
    "import math\n",
    "from bmtk.simulator.bionet.pyfunction_cache import add_weight_function\n",
    "\n",
    "def gaussianLL(edge_props, source, target):  # 参数edge_props表示连接的属性\n",
    "    src_tuning = source['tuning_angle']\n",
    "    tar_tuning = target['tuning_angle']\n",
    "    w0 = edge_props[\"syn_weight\"]\n",
    "    sigma = edge_props[\"weight_sigma\"]\n",
    "\n",
    "    delta_tuning = abs(abs(abs(180.0 - abs(float(tar_tuning) - float(src_tuning)) % 360.0) - 90.0) - 90.0)\n",
    "    return w0 * math.exp(-(delta_tuning / sigma) ** 2)\n",
    "\n",
    "add_weight_function(gaussianLL)\n",
    "\n",
    "# 打印\n",
    "print('Finish!')"
   ]
  },
  {
   "cell_type": "code",
   "execution_count": 25,
   "id": "c686f430-482a-4939-b686-e0fc4caff499",
   "metadata": {
    "execution": {
     "iopub.execute_input": "2023-07-26T09:53:55.516929Z",
     "iopub.status.busy": "2023-07-26T09:53:55.516461Z",
     "iopub.status.idle": "2023-07-26T09:53:55.521202Z",
     "shell.execute_reply": "2023-07-26T09:53:55.520667Z",
     "shell.execute_reply.started": "2023-07-26T09:53:55.516910Z"
    }
   },
   "outputs": [
    {
     "data": {
      "text/plain": [
       "'\\n    每次模拟前会调整权重，不同的运行之间可以改变功能\\n    只需使用文本编辑器打开edge_type.csv文件并更改weight_function列\\n    用户就可以使用现有网络并动态地重新调整权重\\n'"
      ]
     },
     "execution_count": 25,
     "metadata": {},
     "output_type": "execute_result"
    }
   ],
   "source": [
    "'''\n",
    "    每次模拟前会调整权重，不同的运行之间可以改变功能\n",
    "    只需使用文本编辑器打开edge_type.csv文件并更改weight_function列\n",
    "    用户就可以使用现有网络并动态地重新调整权重\n",
    "'''"
   ]
  },
  {
   "cell_type": "code",
   "execution_count": 32,
   "id": "ce59458f-ba7d-43b9-90e8-176cb65bb527",
   "metadata": {
    "execution": {
     "iopub.execute_input": "2023-07-26T10:04:08.790184Z",
     "iopub.status.busy": "2023-07-26T10:04:08.789766Z",
     "iopub.status.idle": "2023-07-26T10:04:08.846639Z",
     "shell.execute_reply": "2023-07-26T10:04:08.845726Z",
     "shell.execute_reply.started": "2023-07-26T10:04:08.790164Z"
    },
    "tags": []
   },
   "outputs": [
    {
     "ename": "OSError",
     "evalue": "[Errno 16] Device or resource busy: '.nfs00000000344ea2ae00000e33'",
     "output_type": "error",
     "traceback": [
      "\u001b[0;31m---------------------------------------------------------------------------\u001b[0m",
      "\u001b[0;31mOSError\u001b[0m                                   Traceback (most recent call last)",
      "Cell \u001b[0;32mIn [32], line 5\u001b[0m\n\u001b[1;32m      2\u001b[0m \u001b[38;5;28;01mfrom\u001b[39;00m \u001b[38;5;21;01mbmtk\u001b[39;00m\u001b[38;5;21;01m.\u001b[39;00m\u001b[38;5;21;01msimulator\u001b[39;00m \u001b[38;5;28;01mimport\u001b[39;00m bionet\n\u001b[1;32m      4\u001b[0m conf \u001b[38;5;241m=\u001b[39m bionet\u001b[38;5;241m.\u001b[39mConfig\u001b[38;5;241m.\u001b[39mfrom_json(\u001b[38;5;124m'\u001b[39m\u001b[38;5;124msim_ch04/config.json\u001b[39m\u001b[38;5;124m'\u001b[39m)\n\u001b[0;32m----> 5\u001b[0m conf\u001b[38;5;241m.\u001b[39mbuild_env()\n\u001b[1;32m      6\u001b[0m net \u001b[38;5;241m=\u001b[39m bionet\u001b[38;5;241m.\u001b[39mBioNetwork\u001b[38;5;241m.\u001b[39mfrom_config(conf)\n\u001b[1;32m      7\u001b[0m sim \u001b[38;5;241m=\u001b[39m bionet\u001b[38;5;241m.\u001b[39mBioSimulator\u001b[38;5;241m.\u001b[39mfrom_config(conf, network\u001b[38;5;241m=\u001b[39mnet)\n",
      "File \u001b[0;32m/opt/conda/lib/python3.8/site-packages/bmtk/simulator/bionet/config.py:47\u001b[0m, in \u001b[0;36mConfig.build_env\u001b[0;34m(self)\u001b[0m\n\u001b[1;32m     45\u001b[0m \u001b[38;5;28mself\u001b[39m\u001b[38;5;241m.\u001b[39mio \u001b[38;5;241m=\u001b[39m io\n\u001b[1;32m     46\u001b[0m \u001b[38;5;28mself\u001b[39m\u001b[38;5;241m.\u001b[39m_set_logging()\n\u001b[0;32m---> 47\u001b[0m \u001b[38;5;28;43mself\u001b[39;49m\u001b[38;5;241;43m.\u001b[39;49m\u001b[43mcreate_output_dir\u001b[49m\u001b[43m(\u001b[49m\u001b[43m)\u001b[49m\n\u001b[1;32m     48\u001b[0m \u001b[38;5;28mself\u001b[39m\u001b[38;5;241m.\u001b[39mcopy_to_output()\n\u001b[1;32m     49\u001b[0m \u001b[38;5;28;01mif\u001b[39;00m io\u001b[38;5;241m.\u001b[39mmpi_size \u001b[38;5;241m>\u001b[39m \u001b[38;5;241m1\u001b[39m:\n\u001b[1;32m     50\u001b[0m     \u001b[38;5;66;03m# A friendly message requested by fb\u001b[39;00m\n",
      "File \u001b[0;32m/opt/conda/lib/python3.8/site-packages/bmtk/simulator/bionet/config.py:39\u001b[0m, in \u001b[0;36mConfig.create_output_dir\u001b[0;34m(self)\u001b[0m\n\u001b[1;32m     38\u001b[0m \u001b[38;5;28;01mdef\u001b[39;00m \u001b[38;5;21mcreate_output_dir\u001b[39m(\u001b[38;5;28mself\u001b[39m):\n\u001b[0;32m---> 39\u001b[0m     \u001b[43mio\u001b[49m\u001b[38;5;241;43m.\u001b[39;49m\u001b[43msetup_output_dir\u001b[49m\u001b[43m(\u001b[49m\u001b[38;5;28;43mself\u001b[39;49m\u001b[38;5;241;43m.\u001b[39;49m\u001b[43moutput_dir\u001b[49m\u001b[43m,\u001b[49m\u001b[43m \u001b[49m\u001b[38;5;28;43mself\u001b[39;49m\u001b[38;5;241;43m.\u001b[39;49m\u001b[43mlog_file\u001b[49m\u001b[43m)\u001b[49m\n",
      "File \u001b[0;32m/opt/conda/lib/python3.8/site-packages/bmtk/simulator/core/io_tools.py:82\u001b[0m, in \u001b[0;36mIOUtils.setup_output_dir\u001b[0;34m(self, output_dir, log_file, overwrite)\u001b[0m\n\u001b[1;32m     80\u001b[0m \u001b[38;5;28;01mif\u001b[39;00m os\u001b[38;5;241m.\u001b[39mpath\u001b[38;5;241m.\u001b[39mexists(output_dir):\n\u001b[1;32m     81\u001b[0m     \u001b[38;5;28;01mif\u001b[39;00m overwrite:\n\u001b[0;32m---> 82\u001b[0m         \u001b[43mshutil\u001b[49m\u001b[38;5;241;43m.\u001b[39;49m\u001b[43mrmtree\u001b[49m\u001b[43m(\u001b[49m\u001b[43moutput_dir\u001b[49m\u001b[43m)\u001b[49m\n\u001b[1;32m     83\u001b[0m         os\u001b[38;5;241m.\u001b[39mmakedirs(output_dir)\n\u001b[1;32m     84\u001b[0m     \u001b[38;5;28;01melse\u001b[39;00m:\n",
      "File \u001b[0;32m/opt/conda/lib/python3.8/shutil.py:708\u001b[0m, in \u001b[0;36mrmtree\u001b[0;34m(path, ignore_errors, onerror)\u001b[0m\n\u001b[1;32m    706\u001b[0m \u001b[38;5;28;01mtry\u001b[39;00m:\n\u001b[1;32m    707\u001b[0m     \u001b[38;5;28;01mif\u001b[39;00m os\u001b[38;5;241m.\u001b[39mpath\u001b[38;5;241m.\u001b[39msamestat(orig_st, os\u001b[38;5;241m.\u001b[39mfstat(fd)):\n\u001b[0;32m--> 708\u001b[0m         \u001b[43m_rmtree_safe_fd\u001b[49m\u001b[43m(\u001b[49m\u001b[43mfd\u001b[49m\u001b[43m,\u001b[49m\u001b[43m \u001b[49m\u001b[43mpath\u001b[49m\u001b[43m,\u001b[49m\u001b[43m \u001b[49m\u001b[43monerror\u001b[49m\u001b[43m)\u001b[49m\n\u001b[1;32m    709\u001b[0m         \u001b[38;5;28;01mtry\u001b[39;00m:\n\u001b[1;32m    710\u001b[0m             os\u001b[38;5;241m.\u001b[39mrmdir(path)\n",
      "File \u001b[0;32m/opt/conda/lib/python3.8/shutil.py:665\u001b[0m, in \u001b[0;36m_rmtree_safe_fd\u001b[0;34m(topfd, path, onerror)\u001b[0m\n\u001b[1;32m    663\u001b[0m     os\u001b[38;5;241m.\u001b[39munlink(entry\u001b[38;5;241m.\u001b[39mname, dir_fd\u001b[38;5;241m=\u001b[39mtopfd)\n\u001b[1;32m    664\u001b[0m \u001b[38;5;28;01mexcept\u001b[39;00m \u001b[38;5;167;01mOSError\u001b[39;00m:\n\u001b[0;32m--> 665\u001b[0m     \u001b[43monerror\u001b[49m\u001b[43m(\u001b[49m\u001b[43mos\u001b[49m\u001b[38;5;241;43m.\u001b[39;49m\u001b[43munlink\u001b[49m\u001b[43m,\u001b[49m\u001b[43m \u001b[49m\u001b[43mfullname\u001b[49m\u001b[43m,\u001b[49m\u001b[43m \u001b[49m\u001b[43msys\u001b[49m\u001b[38;5;241;43m.\u001b[39;49m\u001b[43mexc_info\u001b[49m\u001b[43m(\u001b[49m\u001b[43m)\u001b[49m\u001b[43m)\u001b[49m\n",
      "File \u001b[0;32m/opt/conda/lib/python3.8/shutil.py:663\u001b[0m, in \u001b[0;36m_rmtree_safe_fd\u001b[0;34m(topfd, path, onerror)\u001b[0m\n\u001b[1;32m    661\u001b[0m \u001b[38;5;28;01melse\u001b[39;00m:\n\u001b[1;32m    662\u001b[0m     \u001b[38;5;28;01mtry\u001b[39;00m:\n\u001b[0;32m--> 663\u001b[0m         \u001b[43mos\u001b[49m\u001b[38;5;241;43m.\u001b[39;49m\u001b[43munlink\u001b[49m\u001b[43m(\u001b[49m\u001b[43mentry\u001b[49m\u001b[38;5;241;43m.\u001b[39;49m\u001b[43mname\u001b[49m\u001b[43m,\u001b[49m\u001b[43m \u001b[49m\u001b[43mdir_fd\u001b[49m\u001b[38;5;241;43m=\u001b[39;49m\u001b[43mtopfd\u001b[49m\u001b[43m)\u001b[49m\n\u001b[1;32m    664\u001b[0m     \u001b[38;5;28;01mexcept\u001b[39;00m \u001b[38;5;167;01mOSError\u001b[39;00m:\n\u001b[1;32m    665\u001b[0m         onerror(os\u001b[38;5;241m.\u001b[39munlink, fullname, sys\u001b[38;5;241m.\u001b[39mexc_info())\n",
      "\u001b[0;31mOSError\u001b[0m: [Errno 16] Device or resource busy: '.nfs00000000344ea2ae00000e33'"
     ]
    }
   ],
   "source": [
    "# 运行\n",
    "from bmtk.simulator import bionet\n",
    "\n",
    "conf = bionet.Config.from_json('sim_ch04/config.json')\n",
    "conf.build_env()\n",
    "net = bionet.BioNetwork.from_config(conf)\n",
    "sim = bionet.BioSimulator.from_config(conf, network=net)\n",
    "sim.run()\n",
    "\n",
    "# 打印\n",
    "print('Finish!')"
   ]
  },
  {
   "cell_type": "code",
   "execution_count": 28,
   "id": "159af726-f28c-4922-96c2-b8f9d6b56dd6",
   "metadata": {
    "execution": {
     "iopub.execute_input": "2023-07-26T10:01:50.853501Z",
     "iopub.status.busy": "2023-07-26T10:01:50.853090Z",
     "iopub.status.idle": "2023-07-26T10:01:50.893617Z",
     "shell.execute_reply": "2023-07-26T10:01:50.892955Z",
     "shell.execute_reply.started": "2023-07-26T10:01:50.853481Z"
    },
    "tags": []
   },
   "outputs": [
    {
     "ename": "IndexError",
     "evalue": "list index out of range",
     "output_type": "error",
     "traceback": [
      "\u001b[0;31m---------------------------------------------------------------------------\u001b[0m",
      "\u001b[0;31mIndexError\u001b[0m                                Traceback (most recent call last)",
      "Cell \u001b[0;32mIn [28], line 4\u001b[0m\n\u001b[1;32m      1\u001b[0m \u001b[38;5;66;03m# 分析\u001b[39;00m\n\u001b[1;32m      2\u001b[0m \u001b[38;5;28;01mfrom\u001b[39;00m \u001b[38;5;21;01mbmtk\u001b[39;00m\u001b[38;5;21;01m.\u001b[39;00m\u001b[38;5;21;01manalyzer\u001b[39;00m\u001b[38;5;21;01m.\u001b[39;00m\u001b[38;5;21;01mspike_trains\u001b[39;00m \u001b[38;5;28;01mimport\u001b[39;00m plot_raster, plot_rates_boxplot\n\u001b[0;32m----> 4\u001b[0m plot_raster(config_file\u001b[38;5;241m=\u001b[39m\u001b[38;5;124m'\u001b[39m\u001b[38;5;124msim_ch04/config.json\u001b[39m\u001b[38;5;124m'\u001b[39m, group_by\u001b[38;5;241m=\u001b[39m\u001b[38;5;124m'\u001b[39m\u001b[38;5;124mpop_name\u001b[39m\u001b[38;5;124m'\u001b[39m)\n",
      "File \u001b[0;32m/opt/conda/lib/python3.8/site-packages/bmtk/analyzer/spike_trains.py:189\u001b[0m, in \u001b[0;36mplot_raster\u001b[0;34m(config_file, population, with_histogram, times, title, show, save_as, group_by, group_excludes, spikes_file, nodes_file, node_types_file, plt_style)\u001b[0m\n\u001b[1;32m    148\u001b[0m \u001b[38;5;124;03m\"\"\"Create a raster plot (plus optional histogram) from the results of the simulation.\u001b[39;00m\n\u001b[1;32m    149\u001b[0m \n\u001b[1;32m    150\u001b[0m \u001b[38;5;124;03mWill using the SONATA simulation configs \"output\" section to locate where the spike-trains file was created and\u001b[39;00m\n\u001b[0;32m   (...)\u001b[0m\n\u001b[1;32m    186\u001b[0m \u001b[38;5;124;03m:return: matplotlib figure.Figure object\u001b[39;00m\n\u001b[1;32m    187\u001b[0m \u001b[38;5;124;03m\"\"\"\u001b[39;00m\n\u001b[1;32m    188\u001b[0m plot_fnc \u001b[38;5;241m=\u001b[39m partial(plotting\u001b[38;5;241m.\u001b[39mplot_raster, with_histogram\u001b[38;5;241m=\u001b[39mwith_histogram, plt_style\u001b[38;5;241m=\u001b[39mplt_style)\n\u001b[0;32m--> 189\u001b[0m \u001b[38;5;28;01mreturn\u001b[39;00m \u001b[43m_plot_helper\u001b[49m\u001b[43m(\u001b[49m\n\u001b[1;32m    190\u001b[0m \u001b[43m    \u001b[49m\u001b[43mplot_fnc\u001b[49m\u001b[43m,\u001b[49m\n\u001b[1;32m    191\u001b[0m \u001b[43m    \u001b[49m\u001b[43mconfig_file\u001b[49m\u001b[38;5;241;43m=\u001b[39;49m\u001b[43mconfig_file\u001b[49m\u001b[43m,\u001b[49m\u001b[43m \u001b[49m\u001b[43mpopulation\u001b[49m\u001b[38;5;241;43m=\u001b[39;49m\u001b[43mpopulation\u001b[49m\u001b[43m,\u001b[49m\u001b[43m \u001b[49m\u001b[43mtimes\u001b[49m\u001b[38;5;241;43m=\u001b[39;49m\u001b[43mtimes\u001b[49m\u001b[43m,\u001b[49m\u001b[43m \u001b[49m\u001b[43mtitle\u001b[49m\u001b[38;5;241;43m=\u001b[39;49m\u001b[43mtitle\u001b[49m\u001b[43m,\u001b[49m\u001b[43m \u001b[49m\u001b[43mshow\u001b[49m\u001b[38;5;241;43m=\u001b[39;49m\u001b[43mshow\u001b[49m\u001b[43m,\u001b[49m\u001b[43m \u001b[49m\u001b[43msave_as\u001b[49m\u001b[38;5;241;43m=\u001b[39;49m\u001b[43msave_as\u001b[49m\u001b[43m,\u001b[49m\n\u001b[1;32m    192\u001b[0m \u001b[43m    \u001b[49m\u001b[43mgroup_by\u001b[49m\u001b[38;5;241;43m=\u001b[39;49m\u001b[43mgroup_by\u001b[49m\u001b[43m,\u001b[49m\u001b[43m \u001b[49m\u001b[43mgroup_excludes\u001b[49m\u001b[38;5;241;43m=\u001b[39;49m\u001b[43mgroup_excludes\u001b[49m\u001b[43m,\u001b[49m\n\u001b[1;32m    193\u001b[0m \u001b[43m    \u001b[49m\u001b[43mspikes_file\u001b[49m\u001b[38;5;241;43m=\u001b[39;49m\u001b[43mspikes_file\u001b[49m\u001b[43m,\u001b[49m\u001b[43m \u001b[49m\u001b[43mnodes_file\u001b[49m\u001b[38;5;241;43m=\u001b[39;49m\u001b[43mnodes_file\u001b[49m\u001b[43m,\u001b[49m\u001b[43m \u001b[49m\u001b[43mnode_types_file\u001b[49m\u001b[38;5;241;43m=\u001b[39;49m\u001b[43mnode_types_file\u001b[49m\n\u001b[1;32m    194\u001b[0m \u001b[43m\u001b[49m\u001b[43m)\u001b[49m\n",
      "File \u001b[0;32m/opt/conda/lib/python3.8/site-packages/bmtk/analyzer/spike_trains.py:101\u001b[0m, in \u001b[0;36m_plot_helper\u001b[0;34m(plot_fnc, config_file, population, times, title, show, save_as, group_by, group_excludes, spikes_file, nodes_file, node_types_file)\u001b[0m\n\u001b[1;32m     97\u001b[0m \u001b[38;5;28;01mdef\u001b[39;00m \u001b[38;5;21m_plot_helper\u001b[39m(plot_fnc, config_file\u001b[38;5;241m=\u001b[39m\u001b[38;5;28;01mNone\u001b[39;00m, population\u001b[38;5;241m=\u001b[39m\u001b[38;5;28;01mNone\u001b[39;00m, times\u001b[38;5;241m=\u001b[39m\u001b[38;5;28;01mNone\u001b[39;00m, title\u001b[38;5;241m=\u001b[39m\u001b[38;5;28;01mNone\u001b[39;00m, show\u001b[38;5;241m=\u001b[39m\u001b[38;5;28;01mTrue\u001b[39;00m, save_as\u001b[38;5;241m=\u001b[39m\u001b[38;5;28;01mNone\u001b[39;00m,\n\u001b[1;32m     98\u001b[0m                  group_by\u001b[38;5;241m=\u001b[39m\u001b[38;5;28;01mNone\u001b[39;00m, group_excludes\u001b[38;5;241m=\u001b[39m\u001b[38;5;28;01mNone\u001b[39;00m,\n\u001b[1;32m     99\u001b[0m                  spikes_file\u001b[38;5;241m=\u001b[39m\u001b[38;5;28;01mNone\u001b[39;00m, nodes_file\u001b[38;5;241m=\u001b[39m\u001b[38;5;28;01mNone\u001b[39;00m, node_types_file\u001b[38;5;241m=\u001b[39m\u001b[38;5;28;01mNone\u001b[39;00m):\n\u001b[1;32m    100\u001b[0m     sonata_config \u001b[38;5;241m=\u001b[39m SonataConfig\u001b[38;5;241m.\u001b[39mfrom_json(config_file) \u001b[38;5;28;01mif\u001b[39;00m config_file \u001b[38;5;28;01melse\u001b[39;00m \u001b[38;5;28;01mNone\u001b[39;00m\n\u001b[0;32m--> 101\u001b[0m     pop, spike_trains \u001b[38;5;241m=\u001b[39m \u001b[43m_find_spikes\u001b[49m\u001b[43m(\u001b[49m\u001b[43mconfig_file\u001b[49m\u001b[38;5;241;43m=\u001b[39;49m\u001b[43mconfig_file\u001b[49m\u001b[43m,\u001b[49m\u001b[43m \u001b[49m\u001b[43mspikes_file\u001b[49m\u001b[38;5;241;43m=\u001b[39;49m\u001b[43mspikes_file\u001b[49m\u001b[43m,\u001b[49m\u001b[43m \u001b[49m\u001b[43mpopulation\u001b[49m\u001b[38;5;241;43m=\u001b[39;49m\u001b[43mpopulation\u001b[49m\u001b[43m)\u001b[49m\n\u001b[1;32m    103\u001b[0m     \u001b[38;5;66;03m# Create the title\u001b[39;00m\n\u001b[1;32m    104\u001b[0m     title \u001b[38;5;241m=\u001b[39m title \u001b[38;5;28;01mif\u001b[39;00m title \u001b[38;5;129;01mis\u001b[39;00m \u001b[38;5;129;01mnot\u001b[39;00m \u001b[38;5;28;01mNone\u001b[39;00m \u001b[38;5;28;01melse\u001b[39;00m \u001b[38;5;124m\"\u001b[39m\u001b[38;5;124mNodes in network \u001b[39m\u001b[38;5;124m'\u001b[39m\u001b[38;5;132;01m{}\u001b[39;00m\u001b[38;5;124m'\u001b[39m\u001b[38;5;124m\"\u001b[39m\u001b[38;5;241m.\u001b[39mformat(pop)\n",
      "File \u001b[0;32m/opt/conda/lib/python3.8/site-packages/bmtk/analyzer/spike_trains.py:78\u001b[0m, in \u001b[0;36m_find_spikes\u001b[0;34m(spikes_file, config_file, population)\u001b[0m\n\u001b[1;32m     76\u001b[0m     \u001b[38;5;28;01mraise\u001b[39;00m \u001b[38;5;167;01mValueError\u001b[39;00m(\u001b[38;5;124m'\u001b[39m\u001b[38;5;124mSpikes file \u001b[39m\u001b[38;5;132;01m{}\u001b[39;00m\u001b[38;5;124m contains more than one node population.\u001b[39m\u001b[38;5;124m'\u001b[39m\u001b[38;5;241m.\u001b[39mformat(spikes_f))\n\u001b[1;32m     77\u001b[0m \u001b[38;5;28;01melse\u001b[39;00m:\n\u001b[0;32m---> 78\u001b[0m     \u001b[38;5;28;01mreturn\u001b[39;00m \u001b[43mspikes_obj\u001b[49m\u001b[38;5;241;43m.\u001b[39;49m\u001b[43mpopulations\u001b[49m\u001b[43m[\u001b[49m\u001b[38;5;241;43m0\u001b[39;49m\u001b[43m]\u001b[49m, spikes_obj\n",
      "\u001b[0;31mIndexError\u001b[0m: list index out of range"
     ]
    }
   ],
   "source": [
    "# 分析\n",
    "from bmtk.analyzer.spike_trains import plot_raster, plot_rates_boxplot\n",
    "\n",
    "plot_raster(config_file='sim_ch04/config.json', group_by='pop_name')"
   ]
  },
  {
   "cell_type": "code",
   "execution_count": null,
   "id": "4e64b5cf-0d28-4302-934b-d1e61902e1c3",
   "metadata": {},
   "outputs": [],
   "source": []
  }
 ],
 "metadata": {
  "kernelspec": {
   "display_name": "Python 3 (ipykernel)",
   "language": "python",
   "name": "python3"
  },
  "language_info": {
   "codemirror_mode": {
    "name": "ipython",
    "version": 3
   },
   "file_extension": ".py",
   "mimetype": "text/x-python",
   "name": "python",
   "nbconvert_exporter": "python",
   "pygments_lexer": "ipython3",
   "version": "3.8.0"
  }
 },
 "nbformat": 4,
 "nbformat_minor": 5
}
