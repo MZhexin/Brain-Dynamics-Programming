{
 "cells": [
  {
   "cell_type": "code",
   "execution_count": null,
   "id": "7c46d91d-fda0-4a83-88e4-66a8efc592a2",
   "metadata": {
    "execution": {
     "iopub.execute_input": "2023-08-14T06:16:19.779339Z",
     "iopub.status.busy": "2023-08-14T06:16:19.779190Z",
     "iopub.status.idle": "2023-08-14T06:16:19.782152Z",
     "shell.execute_reply": "2023-08-14T06:16:19.781609Z",
     "shell.execute_reply.started": "2023-08-14T06:16:19.779324Z"
    }
   },
   "outputs": [],
   "source": [
    "# Tutorial 5: Point-Neuron Network Models (with PointNet)"
   ]
  },
  {
   "cell_type": "code",
   "execution_count": null,
   "id": "4f5e1004-a86a-462e-a602-2feb66fcc374",
   "metadata": {
    "execution": {
     "iopub.execute_input": "2023-08-14T06:16:19.783388Z",
     "iopub.status.busy": "2023-08-14T06:16:19.783230Z",
     "iopub.status.idle": "2023-08-14T06:16:20.716885Z",
     "shell.execute_reply": "2023-08-14T06:16:20.716059Z",
     "shell.execute_reply.started": "2023-08-14T06:16:19.783375Z"
    },
    "tags": []
   },
   "outputs": [],
   "source": [
    "from bmtk.builder.networks import NetworkBuilder\n",
    "from bmtk.builder.auxi.node_params import positions_columinar\n",
    "\n",
    "# 创建400细胞的V1网络\n",
    "net = NetworkBuilder(\"V1\")\n",
    "net.add_nodes(N=80,  # Create a population of 80 neurons\n",
    "              positions=positions_columinar(N=80, center=[0, 50.0, 0], max_radius=30.0, height=100.0),\n",
    "              pop_name='Scnn1a', location='VisL4', ei='e',  # optional parameters\n",
    "              model_type='point_process',  # Tells the simulator to use point-based neurons\n",
    "              model_template='nest:iaf_psc_alpha',  # tells the simulator to use NEST iaf_psc_alpha models\n",
    "              dynamics_params='472363762_point.json'  # File containing iaf_psc_alpha mdoel parameters\n",
    "             )\n",
    "\n",
    "net.add_nodes(N=20, pop_name='PV', location='VisL4', ei='i',\n",
    "              positions=positions_columinar(N=20, center=[0, 50.0, 0], max_radius=30.0, height=100.0),\n",
    "              model_type='point_process',\n",
    "              model_template='nest:iaf_psc_alpha',\n",
    "              dynamics_params='472912177_point.json')\n",
    "\n",
    "net.add_nodes(N=200, pop_name='LIF_exc', location='L4', ei='e',\n",
    "              positions=positions_columinar(N=200, center=[0, 50.0, 0], min_radius=30.0, max_radius=60.0, height=100.0),\n",
    "              model_type='point_process',\n",
    "              model_template='nest:iaf_psc_alpha',\n",
    "              dynamics_params='IntFire1_exc_point.json')\n",
    "\n",
    "net.add_nodes(N=100, pop_name='LIF_inh', location='L4', ei='i',\n",
    "              positions=positions_columinar(N=100, center=[0, 50.0, 0], min_radius=30.0, max_radius=60.0, height=100.0),\n",
    "              model_type='point_process',\n",
    "              model_template='nest:iaf_psc_alpha',\n",
    "              dynamics_params='IntFire1_inh_point.json')"
   ]
  },
  {
   "cell_type": "code",
   "execution_count": null,
   "id": "efe6554a-93e1-487b-9364-7245aa2ff0f7",
   "metadata": {
    "execution": {
     "iopub.execute_input": "2023-08-14T06:16:20.718265Z",
     "iopub.status.busy": "2023-08-14T06:16:20.718005Z",
     "iopub.status.idle": "2023-08-14T06:16:20.733768Z",
     "shell.execute_reply": "2023-08-14T06:16:20.733208Z",
     "shell.execute_reply.started": "2023-08-14T06:16:20.718249Z"
    }
   },
   "outputs": [],
   "source": [
    "from bmtk.builder.auxi.edge_connectors import distance_connector\n",
    "\n",
    "# 建立突触连接\n",
    "## E-to-E connections\n",
    "net.add_edges(source={'ei': 'e'}, target={'pop_name': 'Scnn1a'},\n",
    "              connection_rule=distance_connector,\n",
    "              connection_params={'d_weight_min': 0.0, 'd_weight_max': 0.34, 'd_max': 300.0, 'nsyn_min': 3, 'nsyn_max': 7},\n",
    "              syn_weight=3.0,\n",
    "              delay=2.0,\n",
    "              dynamics_params='ExcToExc.json',\n",
    "              model_template='static_synapse')\n",
    "\n",
    "net.add_edges(source={'ei': 'e'}, target={'pop_name': 'LIF_exc'},\n",
    "              connection_rule=distance_connector,\n",
    "              connection_params={'d_weight_min': 0.0, 'd_weight_max': 0.34, 'd_max': 300.0, 'nsyn_min': 3, 'nsyn_max': 7},\n",
    "              syn_weight=3.0,\n",
    "              delay=2.0,\n",
    "              dynamics_params='instantaneousExc.json',\n",
    "              model_template='static_synapse')\n",
    "\n",
    "\n",
    "### Generating I-to-I connections\n",
    "net.add_edges(source={'ei': 'i'}, target={'pop_name': 'PV'},\n",
    "              connection_rule=distance_connector,\n",
    "              connection_params={'d_weight_min': 0.0, 'd_weight_max': 1.0, 'd_max': 160.0, 'nsyn_min': 3, 'nsyn_max': 7},\n",
    "              syn_weight=-3.0,\n",
    "              delay=2.0,\n",
    "              dynamics_params='InhToInh.json',\n",
    "              model_template='static_synapse')\n",
    "\n",
    "net.add_edges(source={'ei': 'i'}, target={'ei': 'i', 'pop_name': 'LIF_inh'},\n",
    "              connection_rule=distance_connector,\n",
    "              connection_params={'d_weight_min': 0.0, 'd_weight_max': 1.0, 'd_max': 160.0, 'nsyn_min': 3, 'nsyn_max': 7},\n",
    "              syn_weight=-3.0,\n",
    "              delay=2.0,\n",
    "              dynamics_params='instantaneousInh.json',\n",
    "              model_template='static_synapse')\n",
    "\n",
    "### Generating I-to-E connections\n",
    "net.add_edges(source={'ei': 'i'}, target={'ei': 'e', 'pop_name': 'Scnn1a'},\n",
    "              connection_rule=distance_connector,\n",
    "              connection_params={'d_weight_min': 0.0, 'd_weight_max': 1.0, 'd_max': 160.0, 'nsyn_min': 3, 'nsyn_max': 7},\n",
    "              syn_weight=-3.0,\n",
    "              delay=2.0,\n",
    "              dynamics_params='InhToExc.json',\n",
    "              model_template='static_synapse')\n",
    "\n",
    "net.add_edges(source={'ei': 'i'}, target={'ei': 'e', 'pop_name': 'LIF_exc'},\n",
    "              connection_rule=distance_connector,\n",
    "              connection_params={'d_weight_min': 0.0, 'd_weight_max': 1.0, 'd_max': 160.0, 'nsyn_min': 3, 'nsyn_max': 7},\n",
    "              syn_weight=-3.0,\n",
    "              delay=2.0,\n",
    "              dynamics_params='instantaneousInh.json',\n",
    "              model_template='static_synapse')\n",
    "\n",
    "### Generating E-to-I connections\n",
    "net.add_edges(source={'ei': 'e'}, target={'pop_name': 'PV'},\n",
    "              connection_rule=distance_connector,\n",
    "              connection_params={'d_weight_min': 0.0, 'd_weight_max': 1.0, 'd_max': 300.0, 'nsyn_min': 3, 'nsyn_max': 25},\n",
    "              syn_weight=6.0,\n",
    "              delay=2.0,\n",
    "              dynamics_params='ExcToInh.json',\n",
    "              model_template='static_synapse')\n",
    "\n",
    "\n",
    "net.add_edges(source={'ei': 'e'}, target={'pop_name': 'LIF_inh'},\n",
    "              connection_rule=distance_connector,\n",
    "              connection_params={'d_weight_min': 0.0, 'd_weight_max': 0.26, 'd_max': 300.0, 'nsyn_min': 3, 'nsyn_max': 7},\n",
    "              syn_weight=3.0,\n",
    "              delay=2.0,\n",
    "              dynamics_params='instantaneousExc.json',\n",
    "              model_template='static_synapse')"
   ]
  },
  {
   "cell_type": "code",
   "execution_count": null,
   "id": "7dcab7fe-c4c4-4d12-926e-f2b5e6a13a7d",
   "metadata": {
    "execution": {
     "iopub.execute_input": "2023-08-14T06:16:20.735153Z",
     "iopub.status.busy": "2023-08-14T06:16:20.734787Z",
     "iopub.status.idle": "2023-08-14T06:16:22.016196Z",
     "shell.execute_reply": "2023-08-14T06:16:22.015337Z",
     "shell.execute_reply.started": "2023-08-14T06:16:20.735136Z"
    }
   },
   "outputs": [],
   "source": [
    "net.build()\n",
    "net.save_nodes(output_dir='sim_ch05/network')\n",
    "net.save_edges(output_dir='sim_ch05/network')"
   ]
  },
  {
   "cell_type": "code",
   "execution_count": null,
   "id": "449a71ce-8df0-4548-a2cb-f48346b9263d",
   "metadata": {
    "execution": {
     "iopub.execute_input": "2023-08-14T06:16:22.018704Z",
     "iopub.status.busy": "2023-08-14T06:16:22.018182Z",
     "iopub.status.idle": "2023-08-14T06:16:22.022648Z",
     "shell.execute_reply": "2023-08-14T06:16:22.022044Z",
     "shell.execute_reply.started": "2023-08-14T06:16:22.018683Z"
    }
   },
   "outputs": [],
   "source": [
    "# 创建有500个兴奋性神经元的外部网络，表示LGN，给V1传递输入\n",
    "lgn = NetworkBuilder('LGN')\n",
    "lgn.add_nodes(N=500, pop_name='tON', potential='exc', model_type='virtual')"
   ]
  },
  {
   "cell_type": "code",
   "execution_count": null,
   "id": "5d145812-498c-4979-b0e2-ca905deb954f",
   "metadata": {
    "execution": {
     "iopub.execute_input": "2023-08-14T06:16:22.023921Z",
     "iopub.status.busy": "2023-08-14T06:16:22.023438Z",
     "iopub.status.idle": "2023-08-14T06:16:22.034913Z",
     "shell.execute_reply": "2023-08-14T06:16:22.034298Z",
     "shell.execute_reply.started": "2023-08-14T06:16:22.023902Z"
    }
   },
   "outputs": [],
   "source": [
    "import numpy as np\n",
    "\n",
    "# 构建LGN和V1的连接\n",
    "def select_source_cells(sources, target, nsources_min=10, nsources_max=30, nsyns_min=3, nsyns_max=12):\n",
    "    total_sources = len(sources)\n",
    "    nsources = np.random.randint(nsources_min, nsources_max)\n",
    "    selected_sources = np.random.choice(total_sources, nsources, replace=False)\n",
    "    syns = np.zeros(total_sources)\n",
    "    syns[selected_sources] = np.random.randint(nsyns_min, nsyns_max, size=nsources)\n",
    "    return syns\n",
    "\n",
    "lgn.add_edges(source=lgn.nodes(), target=net.nodes(pop_name='Scnn1a'),\n",
    "              iterator='all_to_one',\n",
    "              connection_rule=select_source_cells,\n",
    "              connection_params={'nsources_min': 10, 'nsources_max': 25},\n",
    "              syn_weight=15.0,\n",
    "              delay=2.0,\n",
    "              dynamics_params='ExcToExc.json',\n",
    "              model_template='static_synapse')\n",
    "\n",
    "lgn.add_edges(source=lgn.nodes(), target=net.nodes(pop_name='PV'),\n",
    "              connection_rule=select_source_cells,\n",
    "              connection_params={'nsources_min': 15, 'nsources_max': 35},\n",
    "              iterator='all_to_one',\n",
    "              syn_weight=6.0,\n",
    "              delay=2.0,\n",
    "              dynamics_params='ExcToInh.json',\n",
    "              model_template='static_synapse')\n",
    "\n",
    "lgn.add_edges(source=lgn.nodes(),  target=net.nodes(pop_name='LIF_exc'),\n",
    "              connection_rule=select_source_cells,\n",
    "              connection_params={'nsources_min': 10, 'nsources_max': 25},\n",
    "              iterator='all_to_one',\n",
    "              syn_weight= 10.0,\n",
    "              delay=2.0,\n",
    "              dynamics_params='instantaneousExc.json',\n",
    "              model_template='static_synapse')\n",
    "\n",
    "lgn.add_edges(source=lgn.nodes(),  target=net.nodes(pop_name='LIF_inh'),\n",
    "              connection_rule=select_source_cells,\n",
    "              connection_params={'nsources_min': 15, 'nsources_max': 30},\n",
    "              iterator='all_to_one',\n",
    "              syn_weight=10.0,\n",
    "              delay=2.0,\n",
    "              dynamics_params='instantaneousExc.json',\n",
    "              model_template='static_synapse')"
   ]
  },
  {
   "cell_type": "code",
   "execution_count": null,
   "id": "ebbb6856-22ae-4007-bd78-6f86a6eac01e",
   "metadata": {
    "execution": {
     "iopub.execute_input": "2023-08-14T06:16:22.036167Z",
     "iopub.status.busy": "2023-08-14T06:16:22.035671Z",
     "iopub.status.idle": "2023-08-14T06:16:22.182278Z",
     "shell.execute_reply": "2023-08-14T06:16:22.181588Z",
     "shell.execute_reply.started": "2023-08-14T06:16:22.036147Z"
    }
   },
   "outputs": [],
   "source": [
    "lgn.build()\n",
    "lgn.save_nodes(output_dir='sim_ch05/network')\n",
    "lgn.save_edges(output_dir='sim_ch05/network')"
   ]
  },
  {
   "cell_type": "code",
   "execution_count": null,
   "id": "a4016c4f-98bc-4cd9-837d-d041fcbdd4ac",
   "metadata": {
    "execution": {
     "iopub.execute_input": "2023-08-14T06:16:22.183404Z",
     "iopub.status.busy": "2023-08-14T06:16:22.183219Z",
     "iopub.status.idle": "2023-08-14T06:16:22.248283Z",
     "shell.execute_reply": "2023-08-14T06:16:22.247649Z",
     "shell.execute_reply.started": "2023-08-14T06:16:22.183389Z"
    }
   },
   "outputs": [],
   "source": [
    "from bmtk.utils.sim_setup import build_env_pointnet\n",
    "\n",
    "# 环境\n",
    "build_env_pointnet(base_dir='sim_ch05',      \n",
    "                   network_dir='sim_ch05/network',\n",
    "                   tstop=3000.0, \n",
    "                   dt=0.01,\n",
    "                   include_examples=True,         # Copies components files\n",
    "                  )"
   ]
  },
  {
   "cell_type": "code",
   "execution_count": null,
   "id": "e742ec76-885d-4da2-9124-e73f468bfe9f",
   "metadata": {
    "execution": {
     "iopub.execute_input": "2023-08-14T06:16:22.249474Z",
     "iopub.status.busy": "2023-08-14T06:16:22.249313Z",
     "iopub.status.idle": "2023-08-14T06:16:27.133877Z",
     "shell.execute_reply": "2023-08-14T06:16:27.133099Z",
     "shell.execute_reply.started": "2023-08-14T06:16:22.249460Z"
    }
   },
   "outputs": [],
   "source": [
    "from bmtk.simulator import pointnet\n",
    "\n",
    "# 运行\n",
    "configure = pointnet.Config.from_json('sim_ch05/config.json')\n",
    "configure.build_env()\n",
    "network = pointnet.PointNetwork.from_config(configure)\n",
    "sim = pointnet.PointSimulator.from_config(configure, network)\n",
    "sim.run()"
   ]
  },
  {
   "cell_type": "code",
   "execution_count": null,
   "id": "7422ec01-82c1-4f13-ab34-68f15b2140ee",
   "metadata": {
    "execution": {
     "iopub.execute_input": "2023-08-14T06:16:27.135378Z",
     "iopub.status.busy": "2023-08-14T06:16:27.134957Z",
     "iopub.status.idle": "2023-08-14T06:16:28.079933Z",
     "shell.execute_reply": "2023-08-14T06:16:28.078164Z",
     "shell.execute_reply.started": "2023-08-14T06:16:27.135359Z"
    }
   },
   "outputs": [],
   "source": [
    "from bmtk.analyzer.spike_trains import plot_raster, plot_rates\n",
    "\n",
    "# 分析\n",
    "_= plot_raster(config_file='sim_ch05/config.json', group_by='pop_name', plt_style='seaborn-muted')"
   ]
  },
  {
   "cell_type": "code",
   "execution_count": null,
   "id": "4a1a23e6-8d5d-4424-929e-383d8b463486",
   "metadata": {
    "execution": {
     "iopub.status.busy": "2023-08-14T06:16:28.080585Z",
     "iopub.status.idle": "2023-08-14T06:16:28.080801Z",
     "shell.execute_reply": "2023-08-14T06:16:28.080696Z",
     "shell.execute_reply.started": "2023-08-14T06:16:28.080686Z"
    }
   },
   "outputs": [],
   "source": [
    "_= plot_rates(config_file='sim_ch05/config.json', group_by='pop_name', plt_style='seaborn-muted')"
   ]
  },
  {
   "cell_type": "code",
   "execution_count": null,
   "id": "1ebc1f41-d73e-4d54-9c2c-9786eed19d77",
   "metadata": {
    "execution": {
     "iopub.status.busy": "2023-08-14T06:16:28.082176Z",
     "iopub.status.idle": "2023-08-14T06:16:28.082685Z",
     "shell.execute_reply": "2023-08-14T06:16:28.082558Z",
     "shell.execute_reply.started": "2023-08-14T06:16:28.082545Z"
    },
    "tags": []
   },
   "outputs": [],
   "source": [
    "from bmtk.analyzer.compartment import plot_traces\n",
    "\n",
    "_ = plot_traces(config_file='sim_ch05/config.json', group_by='pop_name', plt_style='seaborn-muted')"
   ]
  }
 ],
 "metadata": {
  "kernelspec": {
   "display_name": "Python 3 (ipykernel)",
   "language": "python",
   "name": "python3"
  },
  "language_info": {
   "codemirror_mode": {
    "name": "ipython",
    "version": 3
   },
   "file_extension": ".py",
   "mimetype": "text/x-python",
   "name": "python",
   "nbconvert_exporter": "python",
   "pygments_lexer": "ipython3",
   "version": "3.8.0"
  }
 },
 "nbformat": 4,
 "nbformat_minor": 5
}
