{
 "cells": [
  {
   "cell_type": "code",
   "execution_count": 3,
   "id": "95b26475-96e0-4ccc-b3ab-c44ea3b0e200",
   "metadata": {
    "execution": {
     "iopub.execute_input": "2023-07-25T01:56:52.551649Z",
     "iopub.status.busy": "2023-07-25T01:56:52.550985Z",
     "iopub.status.idle": "2023-07-25T01:56:52.555783Z",
     "shell.execute_reply": "2023-07-25T01:56:52.555219Z",
     "shell.execute_reply.started": "2023-07-25T01:56:52.551620Z"
    }
   },
   "outputs": [],
   "source": [
    "# Tutorial 2: Single cell simulation with external feedfoward input (with BioNet)"
   ]
  },
  {
   "cell_type": "code",
   "execution_count": 2,
   "id": "038e6dd6-7fb9-4e24-8c2b-e1dc6e98bcdf",
   "metadata": {
    "execution": {
     "iopub.execute_input": "2023-07-25T01:42:28.482859Z",
     "iopub.status.busy": "2023-07-25T01:42:28.482439Z",
     "iopub.status.idle": "2023-07-25T01:42:28.492467Z",
     "shell.execute_reply": "2023-07-25T01:42:28.491916Z",
     "shell.execute_reply.started": "2023-07-25T01:42:28.482839Z"
    },
    "tags": []
   },
   "outputs": [],
   "source": [
    "from bmtk.builder.networks import NetworkBuilder\n",
    "\n",
    "# 构建单个细胞组成的网络，步骤与Tutorial1相同\n",
    "# 实例化\n",
    "cortex = NetworkBuilder('mcortex')\n",
    "\n",
    "# 添加单个节点\n",
    "cortex.add_nodes(\n",
    "    cell_name='Scnn1a_473845048',\n",
    "    potental='exc',\n",
    "    model_type='biophysical',\n",
    "    model_template='ctdb:Biophys1.hoc',\n",
    "    model_processing='aibs_perisomatic',\n",
    "    dynamics_params='472363762_fit.json',\n",
    "    morphology='Scnn1a_473845048_m.swc'\n",
    ")\n",
    "\n",
    "# 构建\n",
    "cortex.build()\n",
    "\n",
    "# 保存\n",
    "cortex.save_nodes(output_dir='sim_ch02/network')"
   ]
  },
  {
   "cell_type": "code",
   "execution_count": 5,
   "id": "2f92e3da-62bf-40c2-aa01-57c9ab0ff099",
   "metadata": {
    "execution": {
     "iopub.execute_input": "2023-07-25T02:01:06.217993Z",
     "iopub.status.busy": "2023-07-25T02:01:06.217517Z",
     "iopub.status.idle": "2023-07-25T02:01:06.222086Z",
     "shell.execute_reply": "2023-07-25T02:01:06.221478Z",
     "shell.execute_reply.started": "2023-07-25T02:01:06.217972Z"
    },
    "tags": []
   },
   "outputs": [],
   "source": [
    "# 构建新网络，这是一个虚拟细胞，没有正常神经元的形态与特性，此处只充当一个脉冲发射器，表示来自丘脑的输入\n",
    "# 实例化\n",
    "thalamus = NetworkBuilder('mthalamus')\n",
    "\n",
    "# 添加10个节点（N=10）\n",
    "thalamus.add_nodes(\n",
    "    N=10,\n",
    "    pop_name='tON',\n",
    "    potential='exc',\n",
    "    model_type='virtual'  # 不再是生物物理细胞（'biophysical'），而是虚拟细胞（'virtual'）\n",
    ")"
   ]
  },
  {
   "cell_type": "code",
   "execution_count": 6,
   "id": "7602da86-f7c9-4082-b447-6db6d5341163",
   "metadata": {
    "execution": {
     "iopub.execute_input": "2023-07-25T02:38:02.602145Z",
     "iopub.status.busy": "2023-07-25T02:38:02.601592Z",
     "iopub.status.idle": "2023-07-25T02:38:02.609706Z",
     "shell.execute_reply": "2023-07-25T02:38:02.609000Z",
     "shell.execute_reply.started": "2023-07-25T02:38:02.602117Z"
    }
   },
   "outputs": [
    {
     "data": {
      "text/plain": [
       "<bmtk.builder.connection_map.ConnectionMap at 0x7f4ce2f20f10>"
      ]
     },
     "execution_count": 6,
     "metadata": {},
     "output_type": "execute_result"
    }
   ],
   "source": [
    "# 连接两个网络，方法是添加边（edges）\n",
    "thalamus.add_edges(\n",
    "    # 设置source和target\n",
    "    source={'pop_name': 'tON'},   # 设置起始节点\n",
    "    # source=thalamus.nodes(),  # 这样写也可以\n",
    "    target=cortex.nodes(),  # 设置目标节点\n",
    "    \n",
    "    # 设置突触个数\n",
    "    connection_rule=5,  # 表示source和target节点之间有5个突触\n",
    "    \n",
    "    # 权重\n",
    "    syn_weight=0.001,  # 连接强度\n",
    "    delay=2.0,  # 连接延迟是2ms\n",
    "    weight_function=None,  # 用于调整权重\n",
    "    \n",
    "    # 决定在突触后神经元的哪个位置设置突触，默认情况下是在给定部分和距离范围内随机\n",
    "    target_sections=['basal', 'apical'],  # 给定部分\n",
    "    distance_range=[0.0, 150.0],  # 距离范围\n",
    "    \n",
    "    # 参数文件\n",
    "    dynamics_params='AMPA_ExcToExc.json',\n",
    "    model_template='exp2syn'\n",
    ")"
   ]
  },
  {
   "cell_type": "code",
   "execution_count": 7,
   "id": "189f8402-b5ab-4136-81ef-c8b69a77856b",
   "metadata": {
    "execution": {
     "iopub.execute_input": "2023-07-25T02:38:41.856137Z",
     "iopub.status.busy": "2023-07-25T02:38:41.855734Z",
     "iopub.status.idle": "2023-07-25T02:38:41.883424Z",
     "shell.execute_reply": "2023-07-25T02:38:41.882793Z",
     "shell.execute_reply.started": "2023-07-25T02:38:41.856114Z"
    }
   },
   "outputs": [],
   "source": [
    "# 构建\n",
    "thalamus.build()\n",
    "\n",
    "# 保存节点\n",
    "thalamus.save_nodes(output_dir='sim_ch02/network')\n",
    "\n",
    "# 保存边\n",
    "thalamus.save_edges(output_dir='sim_ch02/network')"
   ]
  },
  {
   "cell_type": "code",
   "execution_count": 8,
   "id": "6ea06027-5d77-41da-ac2a-5435480f5d8d",
   "metadata": {
    "execution": {
     "iopub.execute_input": "2023-07-25T02:41:13.523006Z",
     "iopub.status.busy": "2023-07-25T02:41:13.522429Z",
     "iopub.status.idle": "2023-07-25T02:41:13.527652Z",
     "shell.execute_reply": "2023-07-25T02:41:13.526214Z",
     "shell.execute_reply.started": "2023-07-25T02:41:13.522984Z"
    }
   },
   "outputs": [],
   "source": [
    "# 因为节点文件和边文件分开来存储，所以后续重建、修改等工作就方便很多了"
   ]
  },
  {
   "cell_type": "code",
   "execution_count": 9,
   "id": "b0d1c55a-c5cf-4e8a-95f1-f12cc77d01ac",
   "metadata": {
    "execution": {
     "iopub.execute_input": "2023-07-25T03:08:04.250384Z",
     "iopub.status.busy": "2023-07-25T03:08:04.249945Z",
     "iopub.status.idle": "2023-07-25T03:08:04.663460Z",
     "shell.execute_reply": "2023-07-25T03:08:04.662339Z",
     "shell.execute_reply.started": "2023-07-25T03:08:04.250363Z"
    }
   },
   "outputs": [],
   "source": [
    "from bmtk.utils.reports.spike_trains import PoissonSpikeGenerator\n",
    "\n",
    "# 建立尖峰队列（Spike Train），按泊松分布（Poisson）\n",
    "psg = PoissonSpikeGenerator(population='mthalamus')\n",
    "psg.add(\n",
    "    node_ids=range(10),  # 10个与mthalamus（先前创建的虚拟细胞）对应的节点\n",
    "    firing_rate=10.0,    # 发放的速率为10赫兹，这里也可以传入函数或数组\n",
    "    times=(0.0, 3.0)    # 发放从0秒到3秒开始\n",
    ")\n",
    "\n",
    "# 保存为Sonata格式的队列（除了.h5以外，BMTK也允许存为csv或NWB文件）\n",
    "psg.to_sonata('sim_ch02/inputs/mthalamus_spikes.h5')"
   ]
  },
  {
   "cell_type": "code",
   "execution_count": 10,
   "id": "3a33a006-b5e8-469e-bb91-5610fdf8abea",
   "metadata": {
    "execution": {
     "iopub.execute_input": "2023-07-25T03:08:19.202165Z",
     "iopub.status.busy": "2023-07-25T03:08:19.201667Z",
     "iopub.status.idle": "2023-07-25T03:08:19.214212Z",
     "shell.execute_reply": "2023-07-25T03:08:19.213635Z",
     "shell.execute_reply.started": "2023-07-25T03:08:19.202146Z"
    }
   },
   "outputs": [
    {
     "name": "stdout",
     "output_type": "stream",
     "text": [
      "Number of spikes: 299\n",
      "Units: ms\n"
     ]
    },
    {
     "data": {
      "text/html": [
       "<div>\n",
       "<style scoped>\n",
       "    .dataframe tbody tr th:only-of-type {\n",
       "        vertical-align: middle;\n",
       "    }\n",
       "\n",
       "    .dataframe tbody tr th {\n",
       "        vertical-align: top;\n",
       "    }\n",
       "\n",
       "    .dataframe thead th {\n",
       "        text-align: right;\n",
       "    }\n",
       "</style>\n",
       "<table border=\"1\" class=\"dataframe\">\n",
       "  <thead>\n",
       "    <tr style=\"text-align: right;\">\n",
       "      <th></th>\n",
       "      <th>node_ids</th>\n",
       "      <th>timestamps</th>\n",
       "      <th>population</th>\n",
       "    </tr>\n",
       "  </thead>\n",
       "  <tbody>\n",
       "    <tr>\n",
       "      <th>0</th>\n",
       "      <td>0</td>\n",
       "      <td>91.110410</td>\n",
       "      <td>mthalamus</td>\n",
       "    </tr>\n",
       "    <tr>\n",
       "      <th>1</th>\n",
       "      <td>0</td>\n",
       "      <td>152.574983</td>\n",
       "      <td>mthalamus</td>\n",
       "    </tr>\n",
       "    <tr>\n",
       "      <th>2</th>\n",
       "      <td>0</td>\n",
       "      <td>155.663408</td>\n",
       "      <td>mthalamus</td>\n",
       "    </tr>\n",
       "    <tr>\n",
       "      <th>3</th>\n",
       "      <td>0</td>\n",
       "      <td>317.988328</td>\n",
       "      <td>mthalamus</td>\n",
       "    </tr>\n",
       "    <tr>\n",
       "      <th>4</th>\n",
       "      <td>0</td>\n",
       "      <td>545.893875</td>\n",
       "      <td>mthalamus</td>\n",
       "    </tr>\n",
       "  </tbody>\n",
       "</table>\n",
       "</div>"
      ],
      "text/plain": [
       "   node_ids  timestamps population\n",
       "0         0   91.110410  mthalamus\n",
       "1         0  152.574983  mthalamus\n",
       "2         0  155.663408  mthalamus\n",
       "3         0  317.988328  mthalamus\n",
       "4         0  545.893875  mthalamus"
      ]
     },
     "execution_count": 10,
     "metadata": {},
     "output_type": "execute_result"
    }
   ],
   "source": [
    "# 打印参数\n",
    "print('Number of spikes: {}'.format(psg.n_spikes()))\n",
    "print('Units: {}'.format(psg.units()))\n",
    "\n",
    "psg.to_dataframe().head()"
   ]
  },
  {
   "cell_type": "code",
   "execution_count": 14,
   "id": "bbadbea1-1bb8-4426-8f6d-89a31def5d33",
   "metadata": {
    "execution": {
     "iopub.execute_input": "2023-07-25T03:13:43.813499Z",
     "iopub.status.busy": "2023-07-25T03:13:43.813015Z",
     "iopub.status.idle": "2023-07-25T03:13:43.816741Z",
     "shell.execute_reply": "2023-07-25T03:13:43.816148Z",
     "shell.execute_reply.started": "2023-07-25T03:13:43.813480Z"
    },
    "tags": []
   },
   "outputs": [],
   "source": [
    "# Step 2: Setting up BioNet environment.\n",
    "# 在运行模拟器之前，需要先创建运行时环境，即程序运行时为其提供所需资源的软件环境，包括操作系统、库函数、配置文件等"
   ]
  },
  {
   "cell_type": "code",
   "execution_count": 13,
   "id": "e8a28bc4-a41d-426b-9c21-0adb2fcea3ad",
   "metadata": {
    "execution": {
     "iopub.execute_input": "2023-07-25T03:12:59.434230Z",
     "iopub.status.busy": "2023-07-25T03:12:59.433712Z",
     "iopub.status.idle": "2023-07-25T03:13:01.111223Z",
     "shell.execute_reply": "2023-07-25T03:13:01.110107Z",
     "shell.execute_reply.started": "2023-07-25T03:12:59.434209Z"
    }
   },
   "outputs": [
    {
     "name": "stdout",
     "output_type": "stream",
     "text": [
      "/home/tianyan/sim_ch02/components/mechanisms\n",
      "Mod files: \"modfiles/modfiles/CaDynamics.mod\" \"modfiles/modfiles/Ca_HVA.mod\" \"modfiles/modfiles/Ca_LVA.mod\" \"modfiles/modfiles/Ih.mod\" \"modfiles/modfiles/Im.mod\" \"modfiles/modfiles/Im_v2.mod\" \"modfiles/modfiles/Kd.mod\" \"modfiles/modfiles/K_P.mod\" \"modfiles/modfiles/K_T.mod\" \"modfiles/modfiles/Kv2like.mod\" \"modfiles/modfiles/Kv3_1.mod\" \"modfiles/modfiles/Nap.mod\" \"modfiles/modfiles/NaTa.mod\" \"modfiles/modfiles/NaTs.mod\" \"modfiles/modfiles/NaV.mod\" \"modfiles/modfiles/SK.mod\" \"modfiles/modfiles/vecevent.mod\"\n",
      "\n",
      "Creating 'x86_64' directory for .o files.\n",
      "\n",
      " -> \u001b[32mCompiling\u001b[0m mod_func.cpp\n",
      " -> \u001b[32mNMODL\u001b[0m ../modfiles/CaDynamics.mod\n",
      " -> \u001b[32mNMODL\u001b[0m ../modfiles/Ca_HVA.mod\n",
      " -> \u001b[32mNMODL\u001b[0m ../modfiles/Ca_LVA.mod\n",
      " -> \u001b[32mNMODL\u001b[0m ../modfiles/Ih.mod\n",
      " -> \u001b[32mNMODL\u001b[0m ../modfiles/Im.mod\n",
      " -> \u001b[32mNMODL\u001b[0m ../modfiles/Im_v2.mod\n",
      " -> \u001b[32mNMODL\u001b[0m ../modfiles/Kd.mod\n",
      " -> \u001b[32mNMODL\u001b[0m ../modfiles/K_P.mod\n",
      " -> \u001b[32mNMODL\u001b[0m ../modfiles/K_T.mod\n",
      " -> \u001b[32mNMODL\u001b[0m ../modfiles/Kv2like.mod\n",
      " -> \u001b[32mNMODL\u001b[0m ../modfiles/Kv3_1.mod\n",
      " -> \u001b[32mNMODL\u001b[0m ../modfiles/Nap.mod\n",
      " -> \u001b[32mNMODL\u001b[0m ../modfiles/NaTa.mod\n",
      " -> \u001b[32mNMODL\u001b[0m ../modfiles/NaTs.mod\n",
      " -> \u001b[32mNMODL\u001b[0m ../modfiles/NaV.mod\n",
      " -> \u001b[32mNMODL\u001b[0m ../modfiles/SK.mod\n",
      " -> \u001b[32mNMODL\u001b[0m ../modfiles/vecevent.mod\n"
     ]
    },
    {
     "name": "stderr",
     "output_type": "stream",
     "text": [
      "Translating Ca_LVA.mod into /home/tianyan/sim_ch02/components/mechanisms/x86_64/Ca_LVA.c\n",
      "Translating CaDynamics.mod into /home/tianyan/sim_ch02/components/mechanisms/x86_64/CaDynamics.c\n",
      "Translating Ca_HVA.mod into /home/tianyan/sim_ch02/components/mechanisms/x86_64/Ca_HVA.c\n",
      "Thread Safe\n",
      "Thread Safe\n",
      "Thread Safe\n",
      "Translating Ih.mod into /home/tianyan/sim_ch02/components/mechanisms/x86_64/Ih.c\n",
      "Translating Im_v2.mod into /home/tianyan/sim_ch02/components/mechanisms/x86_64/Im_v2.c\n",
      "Translating Im.mod into /home/tianyan/sim_ch02/components/mechanisms/x86_64/Im.c\n",
      "Thread Safe\n",
      "Thread Safe\n",
      "Thread Safe\n",
      "Translating Kd.mod into /home/tianyan/sim_ch02/components/mechanisms/x86_64/Kd.c\n",
      "Translating K_P.mod into /home/tianyan/sim_ch02/components/mechanisms/x86_64/K_P.c\n",
      "Translating K_T.mod into /home/tianyan/sim_ch02/components/mechanisms/x86_64/K_T.c\n",
      "Thread Safe\n",
      "Thread Safe\n",
      "Thread Safe\n",
      "Translating Kv2like.mod into /home/tianyan/sim_ch02/components/mechanisms/x86_64/Kv2like.c\n",
      "Translating Kv3_1.mod into /home/tianyan/sim_ch02/components/mechanisms/x86_64/Kv3_1.c\n",
      "Translating Nap.mod into /home/tianyan/sim_ch02/components/mechanisms/x86_64/Nap.c\n",
      "Thread Safe\n",
      "Thread Safe\n",
      "Thread Safe\n",
      "Translating NaTa.mod into /home/tianyan/sim_ch02/components/mechanisms/x86_64/NaTa.c\n",
      "Translating NaV.mod into /home/tianyan/sim_ch02/components/mechanisms/x86_64/NaV.c\n",
      "Translating NaTs.mod into /home/tianyan/sim_ch02/components/mechanisms/x86_64/NaTs.c\n",
      "Thread Safe\n",
      "NEURON's CVode method ignores conservation\n",
      "Notice: LINEAR is not thread safe.\n",
      "Thread Safe\n",
      "Translating SK.mod into /home/tianyan/sim_ch02/components/mechanisms/x86_64/SK.c\n",
      "Thread Safe\n",
      "Translating vecevent.mod into /home/tianyan/sim_ch02/components/mechanisms/x86_64/vecevent.c\n",
      "Notice: VERBATIM blocks are not thread safe\n"
     ]
    },
    {
     "name": "stdout",
     "output_type": "stream",
     "text": [
      " -> \u001b[32mCompiling\u001b[0m CaDynamics.c\n",
      " -> \u001b[32mCompiling\u001b[0m Ca_HVA.c\n",
      " -> \u001b[32mCompiling\u001b[0m Ca_LVA.c\n",
      " -> \u001b[32mCompiling\u001b[0m Ih.c\n",
      " -> \u001b[32mCompiling\u001b[0m Im.c\n",
      " -> \u001b[32mCompiling\u001b[0m Im_v2.c\n",
      " -> \u001b[32mCompiling\u001b[0m Kd.c\n",
      " -> \u001b[32mCompiling\u001b[0m K_P.c\n",
      " -> \u001b[32mCompiling\u001b[0m K_T.c\n",
      " -> \u001b[32mCompiling\u001b[0m Kv2like.c\n",
      " -> \u001b[32mCompiling\u001b[0m Kv3_1.c\n",
      " -> \u001b[32mCompiling\u001b[0m Nap.c\n",
      " -> \u001b[32mCompiling\u001b[0m NaTa.c\n",
      " -> \u001b[32mCompiling\u001b[0m NaTs.c\n",
      " -> \u001b[32mCompiling\u001b[0m NaV.c\n",
      " -> \u001b[32mCompiling\u001b[0m SK.c\n",
      " -> \u001b[32mCompiling\u001b[0m vecevent.c\n",
      " => \u001b[32mLINKING\u001b[0m shared library ./libnrnmech.so\n",
      " => \u001b[32mLINKING\u001b[0m executable ./special LDFLAGS are:    -pthread\n",
      "Successfully created x86_64/special\n"
     ]
    },
    {
     "name": "stderr",
     "output_type": "stream",
     "text": [
      "/opt/conda/bin/nrnivmodl:10: DeprecationWarning: pkg_resources is deprecated as an API. See https://setuptools.pypa.io/en/latest/pkg_resources.html\n",
      "  from pkg_resources import working_set\n"
     ]
    }
   ],
   "source": [
    "from bmtk.utils.sim_setup import build_env_bionet\n",
    "\n",
    "# 参数与Tutorial1中学习到的差不多，此处不写注释（保留原文档给出的英文注释）\n",
    "build_env_bionet(\n",
    "    base_dir='sim_ch02',\n",
    "    config_file='config.json',\n",
    "    network_dir='sim_ch02/network',\n",
    "    tstop=3000.0, dt=0.1,\n",
    "    report_vars=['v', 'cai'],    # Record membrane potential and calcium (default soma)\n",
    "    spikes_inputs=[('mthalamus', # Name of population which spikes will be generated for\n",
    "                    'sim_ch02/inputs/mthalamus_spikes.h5')],\n",
    "    include_examples=True,       # Copies components files\n",
    "    compile_mechanisms=True      # Will try to compile NEURON mechanisms\n",
    ")"
   ]
  },
  {
   "cell_type": "code",
   "execution_count": 15,
   "id": "fc9ddfa0-1321-410f-9910-0632231c5676",
   "metadata": {
    "execution": {
     "iopub.execute_input": "2023-07-25T03:14:21.740009Z",
     "iopub.status.busy": "2023-07-25T03:14:21.739460Z",
     "iopub.status.idle": "2023-07-25T03:14:26.882975Z",
     "shell.execute_reply": "2023-07-25T03:14:26.882271Z",
     "shell.execute_reply.started": "2023-07-25T03:14:21.739988Z"
    }
   },
   "outputs": [
    {
     "name": "stdout",
     "output_type": "stream",
     "text": [
      "2023-07-25 11:14:25,210 [INFO] Created log file\n"
     ]
    },
    {
     "name": "stderr",
     "output_type": "stream",
     "text": [
      "INFO:NEURONIOUtils:Created log file\n"
     ]
    },
    {
     "name": "stdout",
     "output_type": "stream",
     "text": [
      "numprocs=1\n",
      "2023-07-25 11:14:25,291 [INFO] Building cells.\n"
     ]
    },
    {
     "name": "stderr",
     "output_type": "stream",
     "text": [
      "INFO:NEURONIOUtils:Building cells.\n"
     ]
    },
    {
     "name": "stdout",
     "output_type": "stream",
     "text": [
      "2023-07-25 11:14:25,366 [INFO] Building recurrent connections\n"
     ]
    },
    {
     "name": "stderr",
     "output_type": "stream",
     "text": [
      "INFO:NEURONIOUtils:Building recurrent connections\n"
     ]
    },
    {
     "name": "stdout",
     "output_type": "stream",
     "text": [
      "2023-07-25 11:14:25,368 [INFO] Building virtual cell stimulations for mthalamus_spikes\n"
     ]
    },
    {
     "name": "stderr",
     "output_type": "stream",
     "text": [
      "INFO:NEURONIOUtils:Building virtual cell stimulations for mthalamus_spikes\n"
     ]
    },
    {
     "name": "stdout",
     "output_type": "stream",
     "text": [
      "2023-07-25 11:14:25,388 [INFO] Running simulation for 3000.000 ms with the time step 0.100 ms\n"
     ]
    },
    {
     "name": "stderr",
     "output_type": "stream",
     "text": [
      "INFO:NEURONIOUtils:Running simulation for 3000.000 ms with the time step 0.100 ms\n"
     ]
    },
    {
     "name": "stdout",
     "output_type": "stream",
     "text": [
      "2023-07-25 11:14:25,389 [INFO] Starting timestep: 0 at t_sim: 0.000 ms\n"
     ]
    },
    {
     "name": "stderr",
     "output_type": "stream",
     "text": [
      "INFO:NEURONIOUtils:Starting timestep: 0 at t_sim: 0.000 ms\n"
     ]
    },
    {
     "name": "stdout",
     "output_type": "stream",
     "text": [
      "2023-07-25 11:14:25,390 [INFO] Block save every 5000 steps\n"
     ]
    },
    {
     "name": "stderr",
     "output_type": "stream",
     "text": [
      "INFO:NEURONIOUtils:Block save every 5000 steps\n"
     ]
    },
    {
     "name": "stdout",
     "output_type": "stream",
     "text": [
      "2023-07-25 11:14:25,646 [INFO]     step:5000 t_sim:500.00 ms\n"
     ]
    },
    {
     "name": "stderr",
     "output_type": "stream",
     "text": [
      "INFO:NEURONIOUtils:    step:5000 t_sim:500.00 ms\n"
     ]
    },
    {
     "name": "stdout",
     "output_type": "stream",
     "text": [
      "2023-07-25 11:14:25,880 [INFO]     step:10000 t_sim:1000.00 ms\n"
     ]
    },
    {
     "name": "stderr",
     "output_type": "stream",
     "text": [
      "INFO:NEURONIOUtils:    step:10000 t_sim:1000.00 ms\n"
     ]
    },
    {
     "name": "stdout",
     "output_type": "stream",
     "text": [
      "2023-07-25 11:14:26,131 [INFO]     step:15000 t_sim:1500.00 ms\n"
     ]
    },
    {
     "name": "stderr",
     "output_type": "stream",
     "text": [
      "INFO:NEURONIOUtils:    step:15000 t_sim:1500.00 ms\n"
     ]
    },
    {
     "name": "stdout",
     "output_type": "stream",
     "text": [
      "2023-07-25 11:14:26,368 [INFO]     step:20000 t_sim:2000.00 ms\n"
     ]
    },
    {
     "name": "stderr",
     "output_type": "stream",
     "text": [
      "INFO:NEURONIOUtils:    step:20000 t_sim:2000.00 ms\n"
     ]
    },
    {
     "name": "stdout",
     "output_type": "stream",
     "text": [
      "2023-07-25 11:14:26,617 [INFO]     step:25000 t_sim:2500.00 ms\n"
     ]
    },
    {
     "name": "stderr",
     "output_type": "stream",
     "text": [
      "INFO:NEURONIOUtils:    step:25000 t_sim:2500.00 ms\n"
     ]
    },
    {
     "name": "stdout",
     "output_type": "stream",
     "text": [
      "2023-07-25 11:14:26,864 [INFO]     step:30000 t_sim:3000.00 ms\n"
     ]
    },
    {
     "name": "stderr",
     "output_type": "stream",
     "text": [
      "INFO:NEURONIOUtils:    step:30000 t_sim:3000.00 ms\n"
     ]
    },
    {
     "name": "stdout",
     "output_type": "stream",
     "text": [
      "2023-07-25 11:14:26,879 [INFO] Simulation completed in 1.491 seconds \n"
     ]
    },
    {
     "name": "stderr",
     "output_type": "stream",
     "text": [
      "INFO:NEURONIOUtils:Simulation completed in 1.491 seconds \n"
     ]
    },
    {
     "name": "stdout",
     "output_type": "stream",
     "text": [
      "Success!\n"
     ]
    }
   ],
   "source": [
    "from bmtk.simulator import bionet\n",
    "\n",
    "# 运行模拟器\n",
    "conf = bionet.Config.from_json('sim_ch02/config.json')\n",
    "conf.build_env()\n",
    "net = bionet.BioNetwork.from_config(conf)\n",
    "sim = bionet.BioSimulator.from_config(conf, network=net)\n",
    "sim.run()\n",
    "\n",
    "# 打印\n",
    "print('Success!')"
   ]
  },
  {
   "cell_type": "code",
   "execution_count": 16,
   "id": "f62f0bc1-383a-4754-b147-a6d8327410be",
   "metadata": {
    "execution": {
     "iopub.execute_input": "2023-07-25T03:15:32.778352Z",
     "iopub.status.busy": "2023-07-25T03:15:32.777785Z",
     "iopub.status.idle": "2023-07-25T03:15:32.970440Z",
     "shell.execute_reply": "2023-07-25T03:15:32.969758Z",
     "shell.execute_reply.started": "2023-07-25T03:15:32.778329Z"
    }
   },
   "outputs": [
    {
     "name": "stdout",
     "output_type": "stream",
     "text": [
      "Number of Spikes: 53\n"
     ]
    },
    {
     "data": {
      "text/html": [
       "<div>\n",
       "<style scoped>\n",
       "    .dataframe tbody tr th:only-of-type {\n",
       "        vertical-align: middle;\n",
       "    }\n",
       "\n",
       "    .dataframe tbody tr th {\n",
       "        vertical-align: top;\n",
       "    }\n",
       "\n",
       "    .dataframe thead th {\n",
       "        text-align: right;\n",
       "    }\n",
       "</style>\n",
       "<table border=\"1\" class=\"dataframe\">\n",
       "  <thead>\n",
       "    <tr style=\"text-align: right;\">\n",
       "      <th></th>\n",
       "      <th>timestamps</th>\n",
       "      <th>node_ids</th>\n",
       "      <th>population</th>\n",
       "    </tr>\n",
       "  </thead>\n",
       "  <tbody>\n",
       "    <tr>\n",
       "      <th>0</th>\n",
       "      <td>100.5</td>\n",
       "      <td>0</td>\n",
       "      <td>mcortex</td>\n",
       "    </tr>\n",
       "    <tr>\n",
       "      <th>1</th>\n",
       "      <td>1835.1</td>\n",
       "      <td>0</td>\n",
       "      <td>mcortex</td>\n",
       "    </tr>\n",
       "    <tr>\n",
       "      <th>2</th>\n",
       "      <td>1971.0</td>\n",
       "      <td>0</td>\n",
       "      <td>mcortex</td>\n",
       "    </tr>\n",
       "    <tr>\n",
       "      <th>3</th>\n",
       "      <td>2016.1</td>\n",
       "      <td>0</td>\n",
       "      <td>mcortex</td>\n",
       "    </tr>\n",
       "    <tr>\n",
       "      <th>4</th>\n",
       "      <td>2051.2</td>\n",
       "      <td>0</td>\n",
       "      <td>mcortex</td>\n",
       "    </tr>\n",
       "  </tbody>\n",
       "</table>\n",
       "</div>"
      ],
      "text/plain": [
       "   timestamps  node_ids population\n",
       "0       100.5         0    mcortex\n",
       "1      1835.1         0    mcortex\n",
       "2      1971.0         0    mcortex\n",
       "3      2016.1         0    mcortex\n",
       "4      2051.2         0    mcortex"
      ]
     },
     "execution_count": 16,
     "metadata": {},
     "output_type": "execute_result"
    }
   ],
   "source": [
    "from bmtk.analyzer.spike_trains import to_dataframe\n",
    "\n",
    "# 分析运行结果\n",
    "results_df = to_dataframe(config_file='sim_ch02/config.json')\n",
    "print('Number of Spikes: {}'.format(len(results_df)))\n",
    "results_df.head()"
   ]
  },
  {
   "cell_type": "code",
   "execution_count": 17,
   "id": "2478753b-cb49-402c-bd3c-f273e1c3798f",
   "metadata": {
    "execution": {
     "iopub.execute_input": "2023-07-25T03:15:47.632133Z",
     "iopub.status.busy": "2023-07-25T03:15:47.631535Z",
     "iopub.status.idle": "2023-07-25T03:15:48.025844Z",
     "shell.execute_reply": "2023-07-25T03:15:48.025139Z",
     "shell.execute_reply.started": "2023-07-25T03:15:47.632106Z"
    }
   },
   "outputs": [
    {
     "data": {
      "image/png": "[encoded data removed]",
      "text/plain": [
       "<Figure size 640x480 with 1 Axes>"
      ]
     },
     "metadata": {},
     "output_type": "display_data"
    },
    {
     "data": {
      "image/png": "[encoded data removed]",
      "text/plain": [
       "<Figure size 640x480 with 1 Axes>"
      ]
     },
     "metadata": {},
     "output_type": "display_data"
    }
   ],
   "source": [
    "from bmtk.analyzer.compartment import plot_traces\n",
    "\n",
    "_ = plot_traces(config_file='sim_ch02/config.json', node_ids=[0], report_name='v_report')\n",
    "_ = plot_traces(config_file='sim_ch02/config.json', node_ids=[0], report_name='cai_report')"
   ]
  },
  {
   "cell_type": "code",
   "execution_count": null,
   "id": "dfa26dc6-39bf-427d-9c7c-d84e61399d18",
   "metadata": {},
   "outputs": [],
   "source": []
  }
 ],
 "metadata": {
  "kernelspec": {
   "display_name": "Python 3 (ipykernel)",
   "language": "python",
   "name": "python3"
  },
  "language_info": {
   "codemirror_mode": {
    "name": "ipython",
    "version": 3
   },
   "file_extension": ".py",
   "mimetype": "text/x-python",
   "name": "python",
   "nbconvert_exporter": "python",
   "pygments_lexer": "ipython3",
   "version": "3.8.0"
  }
 },
 "nbformat": 4,
 "nbformat_minor": 5
}
