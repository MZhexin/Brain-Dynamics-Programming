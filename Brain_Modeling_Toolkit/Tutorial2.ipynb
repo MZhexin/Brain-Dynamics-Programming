{
 "cells": [
  {
   "cell_type": "code",
   "execution_count": null,
   "id": "95b26475-96e0-4ccc-b3ab-c44ea3b0e200",
   "metadata": {
    "execution": {
     "iopub.execute_input": "2023-07-25T01:56:52.551649Z",
     "iopub.status.busy": "2023-07-25T01:56:52.550985Z",
     "iopub.status.idle": "2023-07-25T01:56:52.555783Z",
     "shell.execute_reply": "2023-07-25T01:56:52.555219Z",
     "shell.execute_reply.started": "2023-07-25T01:56:52.551620Z"
    }
   },
   "outputs": [],
   "source": [
    "# Tutorial 2: Single cell simulation with external feedfoward input (with BioNet)"
   ]
  },
  {
   "cell_type": "code",
   "execution_count": null,
   "id": "038e6dd6-7fb9-4e24-8c2b-e1dc6e98bcdf",
   "metadata": {
    "execution": {
     "iopub.execute_input": "2023-07-25T01:42:28.482859Z",
     "iopub.status.busy": "2023-07-25T01:42:28.482439Z",
     "iopub.status.idle": "2023-07-25T01:42:28.492467Z",
     "shell.execute_reply": "2023-07-25T01:42:28.491916Z",
     "shell.execute_reply.started": "2023-07-25T01:42:28.482839Z"
    },
    "tags": []
   },
   "outputs": [],
   "source": [
    "from bmtk.builder.networks import NetworkBuilder\n",
    "\n",
    "# 构建单个细胞组成的网络，步骤与Tutorial1相同\n",
    "# 实例化\n",
    "cortex = NetworkBuilder('mcortex')\n",
    "\n",
    "# 添加单个节点\n",
    "cortex.add_nodes(\n",
    "    cell_name='Scnn1a_473845048',\n",
    "    potental='exc',\n",
    "    model_type='biophysical',\n",
    "    model_template='ctdb:Biophys1.hoc',\n",
    "    model_processing='aibs_perisomatic',\n",
    "    dynamics_params='472363762_fit.json',\n",
    "    morphology='Scnn1a_473845048_m.swc'\n",
    ")\n",
    "\n",
    "# 构建\n",
    "cortex.build()\n",
    "\n",
    "# 保存\n",
    "cortex.save_nodes(output_dir='sim_ch02/network')"
   ]
  },
  {
   "cell_type": "code",
   "execution_count": null,
   "id": "2f92e3da-62bf-40c2-aa01-57c9ab0ff099",
   "metadata": {
    "execution": {
     "iopub.execute_input": "2023-07-25T02:01:06.217993Z",
     "iopub.status.busy": "2023-07-25T02:01:06.217517Z",
     "iopub.status.idle": "2023-07-25T02:01:06.222086Z",
     "shell.execute_reply": "2023-07-25T02:01:06.221478Z",
     "shell.execute_reply.started": "2023-07-25T02:01:06.217972Z"
    },
    "tags": []
   },
   "outputs": [],
   "source": [
    "# 构建新网络，这是一个虚拟细胞，没有正常神经元的形态与特性，此处只充当一个脉冲发射器，表示来自丘脑的输入\n",
    "# 实例化\n",
    "thalamus = NetworkBuilder('mthalamus')\n",
    "\n",
    "# 添加10个节点（N=10）\n",
    "thalamus.add_nodes(\n",
    "    N=10,\n",
    "    pop_name='tON',\n",
    "    potential='exc',\n",
    "    model_type='virtual'  # 不再是生物物理细胞（'biophysical'），而是虚拟细胞（'virtual'）\n",
    ")"
   ]
  },
  {
   "cell_type": "code",
   "execution_count": null,
   "id": "7602da86-f7c9-4082-b447-6db6d5341163",
   "metadata": {
    "execution": {
     "iopub.execute_input": "2023-07-25T02:38:02.602145Z",
     "iopub.status.busy": "2023-07-25T02:38:02.601592Z",
     "iopub.status.idle": "2023-07-25T02:38:02.609706Z",
     "shell.execute_reply": "2023-07-25T02:38:02.609000Z",
     "shell.execute_reply.started": "2023-07-25T02:38:02.602117Z"
    }
   },
   "outputs": [],
   "source": [
    "# 连接两个网络，方法是添加边（edges）\n",
    "thalamus.add_edges(\n",
    "    # 设置source和target\n",
    "    source={'pop_name': 'tON'},   # 设置起始节点\n",
    "    # source=thalamus.nodes(),  # 这样写也可以\n",
    "    target=cortex.nodes(),  # 设置目标节点\n",
    "    \n",
    "    # 设置突触个数\n",
    "    connection_rule=5,  # 表示source和target节点之间有5个突触\n",
    "    \n",
    "    # 权重\n",
    "    syn_weight=0.001,  # 连接强度\n",
    "    delay=2.0,  # 连接延迟是2ms\n",
    "    weight_function=None,  # 用于调整权重\n",
    "    \n",
    "    # 决定在突触后神经元的哪个位置设置突触，默认情况下是在给定部分和距离范围内随机\n",
    "    target_sections=['basal', 'apical'],  # 给定部分\n",
    "    distance_range=[0.0, 150.0],  # 距离范围\n",
    "    \n",
    "    # 参数文件\n",
    "    dynamics_params='AMPA_ExcToExc.json',\n",
    "    model_template='exp2syn'\n",
    ")"
   ]
  },
  {
   "cell_type": "code",
   "execution_count": null,
   "id": "189f8402-b5ab-4136-81ef-c8b69a77856b",
   "metadata": {
    "execution": {
     "iopub.execute_input": "2023-07-25T02:38:41.856137Z",
     "iopub.status.busy": "2023-07-25T02:38:41.855734Z",
     "iopub.status.idle": "2023-07-25T02:38:41.883424Z",
     "shell.execute_reply": "2023-07-25T02:38:41.882793Z",
     "shell.execute_reply.started": "2023-07-25T02:38:41.856114Z"
    }
   },
   "outputs": [],
   "source": [
    "# 构建\n",
    "thalamus.build()\n",
    "\n",
    "# 保存节点\n",
    "thalamus.save_nodes(output_dir='sim_ch02/network')\n",
    "\n",
    "# 保存边\n",
    "thalamus.save_edges(output_dir='sim_ch02/network')"
   ]
  },
  {
   "cell_type": "code",
   "execution_count": null,
   "id": "6ea06027-5d77-41da-ac2a-5435480f5d8d",
   "metadata": {
    "execution": {
     "iopub.execute_input": "2023-07-25T02:41:13.523006Z",
     "iopub.status.busy": "2023-07-25T02:41:13.522429Z",
     "iopub.status.idle": "2023-07-25T02:41:13.527652Z",
     "shell.execute_reply": "2023-07-25T02:41:13.526214Z",
     "shell.execute_reply.started": "2023-07-25T02:41:13.522984Z"
    }
   },
   "outputs": [],
   "source": [
    "# 因为节点文件和边文件分开来存储，所以后续重建、修改等工作就方便很多了"
   ]
  },
  {
   "cell_type": "code",
   "execution_count": null,
   "id": "b0d1c55a-c5cf-4e8a-95f1-f12cc77d01ac",
   "metadata": {
    "execution": {
     "iopub.execute_input": "2023-07-25T03:08:04.250384Z",
     "iopub.status.busy": "2023-07-25T03:08:04.249945Z",
     "iopub.status.idle": "2023-07-25T03:08:04.663460Z",
     "shell.execute_reply": "2023-07-25T03:08:04.662339Z",
     "shell.execute_reply.started": "2023-07-25T03:08:04.250363Z"
    }
   },
   "outputs": [],
   "source": [
    "from bmtk.utils.reports.spike_trains import PoissonSpikeGenerator\n",
    "\n",
    "# 建立尖峰队列（Spike Train），按泊松分布（Poisson）\n",
    "psg = PoissonSpikeGenerator(population='mthalamus')\n",
    "psg.add(\n",
    "    node_ids=range(10),  # 10个与mthalamus（先前创建的虚拟细胞）对应的节点\n",
    "    firing_rate=10.0,    # 发放的速率为10赫兹，这里也可以传入函数或数组\n",
    "    times=(0.0, 3.0)    # 发放从0秒到3秒开始\n",
    ")\n",
    "\n",
    "# 保存为Sonata格式的队列（除了.h5以外，BMTK也允许存为csv或NWB文件）\n",
    "psg.to_sonata('sim_ch02/inputs/mthalamus_spikes.h5')"
   ]
  },
  {
   "cell_type": "code",
   "execution_count": null,
   "id": "3a33a006-b5e8-469e-bb91-5610fdf8abea",
   "metadata": {
    "execution": {
     "iopub.execute_input": "2023-07-25T03:08:19.202165Z",
     "iopub.status.busy": "2023-07-25T03:08:19.201667Z",
     "iopub.status.idle": "2023-07-25T03:08:19.214212Z",
     "shell.execute_reply": "2023-07-25T03:08:19.213635Z",
     "shell.execute_reply.started": "2023-07-25T03:08:19.202146Z"
    }
   },
   "outputs": [],
   "source": [
    "# 打印参数\n",
    "print('Number of spikes: {}'.format(psg.n_spikes()))\n",
    "print('Units: {}'.format(psg.units()))\n",
    "\n",
    "psg.to_dataframe().head()"
   ]
  },
  {
   "cell_type": "code",
   "execution_count": null,
   "id": "bbadbea1-1bb8-4426-8f6d-89a31def5d33",
   "metadata": {
    "execution": {
     "iopub.execute_input": "2023-07-25T03:13:43.813499Z",
     "iopub.status.busy": "2023-07-25T03:13:43.813015Z",
     "iopub.status.idle": "2023-07-25T03:13:43.816741Z",
     "shell.execute_reply": "2023-07-25T03:13:43.816148Z",
     "shell.execute_reply.started": "2023-07-25T03:13:43.813480Z"
    },
    "tags": []
   },
   "outputs": [],
   "source": [
    "# Step 2: Setting up BioNet environment.\n",
    "# 在运行模拟器之前，需要先创建运行时环境，即程序运行时为其提供所需资源的软件环境，包括操作系统、库函数、配置文件等"
   ]
  },
  {
   "cell_type": "code",
   "execution_count": null,
   "id": "e8a28bc4-a41d-426b-9c21-0adb2fcea3ad",
   "metadata": {
    "execution": {
     "iopub.execute_input": "2023-07-25T03:12:59.434230Z",
     "iopub.status.busy": "2023-07-25T03:12:59.433712Z",
     "iopub.status.idle": "2023-07-25T03:13:01.111223Z",
     "shell.execute_reply": "2023-07-25T03:13:01.110107Z",
     "shell.execute_reply.started": "2023-07-25T03:12:59.434209Z"
    }
   },
   "outputs": [],
   "source": [
    "from bmtk.utils.sim_setup import build_env_bionet\n",
    "\n",
    "# 参数与Tutorial1中学习到的差不多，此处不写注释（保留原文档给出的英文注释）\n",
    "build_env_bionet(\n",
    "    base_dir='sim_ch02',\n",
    "    config_file='config.json',\n",
    "    network_dir='sim_ch02/network',\n",
    "    tstop=3000.0, dt=0.1,\n",
    "    report_vars=['v', 'cai'],    # Record membrane potential and calcium (default soma)\n",
    "    spikes_inputs=[('mthalamus', # Name of population which spikes will be generated for\n",
    "                    'sim_ch02/inputs/mthalamus_spikes.h5')],\n",
    "    include_examples=True,       # Copies components files\n",
    "    compile_mechanisms=True      # Will try to compile NEURON mechanisms\n",
    ")"
   ]
  },
  {
   "cell_type": "code",
   "execution_count": null,
   "id": "fc9ddfa0-1321-410f-9910-0632231c5676",
   "metadata": {
    "execution": {
     "iopub.execute_input": "2023-07-25T03:14:21.740009Z",
     "iopub.status.busy": "2023-07-25T03:14:21.739460Z",
     "iopub.status.idle": "2023-07-25T03:14:26.882975Z",
     "shell.execute_reply": "2023-07-25T03:14:26.882271Z",
     "shell.execute_reply.started": "2023-07-25T03:14:21.739988Z"
    }
   },
   "outputs": [],
   "source": [
    "from bmtk.simulator import bionet\n",
    "\n",
    "# 运行模拟器\n",
    "conf = bionet.Config.from_json('sim_ch02/config.json')\n",
    "conf.build_env()\n",
    "net = bionet.BioNetwork.from_config(conf)\n",
    "sim = bionet.BioSimulator.from_config(conf, network=net)\n",
    "sim.run()\n",
    "\n",
    "# 打印\n",
    "print('Success!')"
   ]
  },
  {
   "cell_type": "code",
   "execution_count": null,
   "id": "f62f0bc1-383a-4754-b147-a6d8327410be",
   "metadata": {
    "execution": {
     "iopub.execute_input": "2023-07-25T03:15:32.778352Z",
     "iopub.status.busy": "2023-07-25T03:15:32.777785Z",
     "iopub.status.idle": "2023-07-25T03:15:32.970440Z",
     "shell.execute_reply": "2023-07-25T03:15:32.969758Z",
     "shell.execute_reply.started": "2023-07-25T03:15:32.778329Z"
    }
   },
   "outputs": [],
   "source": [
    "from bmtk.analyzer.spike_trains import to_dataframe\n",
    "\n",
    "# 分析运行结果\n",
    "results_df = to_dataframe(config_file='sim_ch02/config.json')\n",
    "print('Number of Spikes: {}'.format(len(results_df)))\n",
    "results_df.head()"
   ]
  },
  {
   "cell_type": "code",
   "execution_count": null,
   "id": "2478753b-cb49-402c-bd3c-f273e1c3798f",
   "metadata": {
    "execution": {
     "iopub.execute_input": "2023-07-25T03:15:47.632133Z",
     "iopub.status.busy": "2023-07-25T03:15:47.631535Z",
     "iopub.status.idle": "2023-07-25T03:15:48.025844Z",
     "shell.execute_reply": "2023-07-25T03:15:48.025139Z",
     "shell.execute_reply.started": "2023-07-25T03:15:47.632106Z"
    }
   },
   "outputs": [],
   "source": [
    "from bmtk.analyzer.compartment import plot_traces\n",
    "\n",
    "_ = plot_traces(config_file='sim_ch02/config.json', node_ids=[0], report_name='v_report')\n",
    "_ = plot_traces(config_file='sim_ch02/config.json', node_ids=[0], report_name='cai_report')"
   ]
  }
 ],
 "metadata": {
  "kernelspec": {
   "display_name": "Python 3 (ipykernel)",
   "language": "python",
   "name": "python3"
  },
  "language_info": {
   "codemirror_mode": {
    "name": "ipython",
    "version": 3
   },
   "file_extension": ".py",
   "mimetype": "text/x-python",
   "name": "python",
   "nbconvert_exporter": "python",
   "pygments_lexer": "ipython3",
   "version": "3.8.0"
  }
 },
 "nbformat": 4,
 "nbformat_minor": 5
}
